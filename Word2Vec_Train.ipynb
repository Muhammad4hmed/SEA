{
  "cells": [
    {
      "cell_type": "code",
      "execution_count": null,
      "metadata": {
        "colab": {
          "base_uri": "https://localhost:8080/"
        },
        "id": "6NroIvOl3tPz",
        "outputId": "ba711c04-0979-4169-b387-d50387d68015"
      },
      "outputs": [
        {
          "name": "stdout",
          "output_type": "stream",
          "text": [
            "4.1.2\n"
          ]
        }
      ],
      "source": [
        "import gensim\n",
        "print(gensim.__version__)"
      ]
    },
    {
      "cell_type": "code",
      "execution_count": null,
      "metadata": {
        "id": "Hom0scd335o1"
      },
      "outputs": [],
      "source": [
        "# !pip install --upgrade gensim"
      ]
    },
    {
      "cell_type": "code",
      "execution_count": null,
      "metadata": {
        "colab": {
          "base_uri": "https://localhost:8080/"
        },
        "id": "ZecOQYj2pHXi",
        "outputId": "9313922e-8667-491f-dcaf-54bfd80cb570"
      },
      "outputs": [
        {
          "name": "stdout",
          "output_type": "stream",
          "text": [
            "Drive already mounted at /content/gdrive; to attempt to forcibly remount, call drive.mount(\"/content/gdrive\", force_remount=True).\n"
          ]
        }
      ],
      "source": [
        "from google.colab import drive\n",
        "\n",
        "drive.mount(\"/content/gdrive\")"
      ]
    },
    {
      "cell_type": "code",
      "execution_count": null,
      "metadata": {
        "id": "_raXOCcfoc8m"
      },
      "outputs": [],
      "source": [
        "import pandas as pd\n",
        "from gensim.models import FastText\n",
        "from gensim.test.utils import datapath\n",
        "from gensim.models.callbacks import CallbackAny2Vec"
      ]
    },
    {
      "cell_type": "code",
      "execution_count": null,
      "metadata": {
        "id": "u204zj901SuH"
      },
      "outputs": [],
      "source": [
        "BASE_PATH = \"/content/gdrive/MyDrive/fyp-2018/exps/MicrosoftBigMalware\""
      ]
    },
    {
      "cell_type": "code",
      "execution_count": null,
      "metadata": {
        "id": "H8Tj7U1kSgTB"
      },
      "outputs": [],
      "source": [
        "class EpochLogger(CallbackAny2Vec):\n",
        "\n",
        "    '''Callback to log information about training'''\n",
        "\n",
        "\n",
        "    def __init__(self):\n",
        "        self.epoch = 0\n",
        "\n",
        "\n",
        "    def on_epoch_begin(self, model):\n",
        "        print(\"Epoch #{} start\".format(self.epoch))\n",
        "\n",
        "\n",
        "    def on_epoch_end(self, model):\n",
        "        print(\"Epoch #{} end\".format(self.epoch))\n",
        "        self.epoch += 1"
      ]
    },
    {
      "cell_type": "code",
      "execution_count": null,
      "metadata": {
        "colab": {
          "background_save": true,
          "base_uri": "https://localhost:8080/"
        },
        "id": "_FCU5k0-sOWG",
        "outputId": "46256a22-4a9e-4242-90b0-54a9afcb5b34"
      },
      "outputs": [
        {
          "name": "stdout",
          "output_type": "stream",
          "text": [
            "Epoch #0 start\n",
            "Epoch #0 end\n",
            "Epoch #1 start\n",
            "Epoch #1 end\n",
            "Epoch #2 start\n",
            "Epoch #2 end\n",
            "Epoch #3 start\n",
            "Epoch #3 end\n",
            "Epoch #4 start\n",
            "Epoch #4 end\n",
            "Epoch #5 start\n",
            "Epoch #5 end\n",
            "Epoch #6 start\n",
            "Epoch #6 end\n",
            "Epoch #7 start\n",
            "Epoch #7 end\n",
            "Epoch #8 start\n",
            "Epoch #8 end\n",
            "Epoch #9 start\n",
            "Epoch #9 end\n",
            "Epoch #10 start\n",
            "Epoch #10 end\n",
            "Epoch #11 start\n",
            "Epoch #11 end\n",
            "Epoch #12 start\n",
            "Epoch #12 end\n",
            "Epoch #13 start\n",
            "Epoch #13 end\n",
            "Epoch #14 start\n",
            "Epoch #14 end\n",
            "Epoch #15 start\n",
            "Epoch #15 end\n",
            "Epoch #16 start\n",
            "Epoch #16 end\n",
            "Epoch #17 start\n",
            "Epoch #17 end\n",
            "Epoch #18 start\n",
            "Epoch #18 end\n",
            "Epoch #19 start\n",
            "Epoch #19 end\n",
            "Epoch #20 start\n",
            "Epoch #20 end\n",
            "Epoch #21 start\n",
            "Epoch #21 end\n",
            "Epoch #22 start\n",
            "Epoch #22 end\n",
            "Epoch #23 start\n",
            "Epoch #23 end\n",
            "Epoch #24 start\n",
            "Epoch #24 end\n",
            "Epoch #25 start\n",
            "Epoch #25 end\n",
            "Epoch #26 start\n",
            "Epoch #26 end\n",
            "Epoch #27 start\n",
            "Epoch #27 end\n",
            "Epoch #28 start\n",
            "Epoch #28 end\n",
            "Epoch #29 start\n",
            "Epoch #29 end\n",
            "Epoch #30 start\n",
            "Epoch #30 end\n",
            "Epoch #31 start\n",
            "Epoch #31 end\n",
            "Epoch #32 start\n",
            "Epoch #32 end\n",
            "Epoch #33 start\n",
            "Epoch #33 end\n",
            "Epoch #34 start\n",
            "Epoch #34 end\n",
            "Epoch #35 start\n",
            "Epoch #35 end\n",
            "Epoch #36 start\n",
            "Epoch #36 end\n",
            "Epoch #37 start\n",
            "Epoch #37 end\n",
            "Epoch #38 start\n",
            "Epoch #38 end\n",
            "Epoch #39 start\n",
            "Epoch #39 end\n",
            "Epoch #40 start\n",
            "Epoch #40 end\n",
            "Epoch #41 start\n",
            "Epoch #41 end\n",
            "Epoch #42 start\n",
            "Epoch #42 end\n",
            "Epoch #43 start\n",
            "Epoch #43 end\n",
            "Epoch #44 start\n",
            "Epoch #44 end\n",
            "Epoch #45 start\n",
            "Epoch #45 end\n",
            "Epoch #46 start\n",
            "Epoch #46 end\n",
            "Epoch #47 start\n",
            "Epoch #47 end\n",
            "Epoch #48 start\n",
            "Epoch #48 end\n",
            "Epoch #49 start\n",
            "Epoch #49 end\n"
          ]
        }
      ],
      "source": [
        "model = FastText(min_count=1, vector_size=100, sg=0, corpus_file = datapath(BASE_PATH + \"/malware-corpus.txt\"), epochs=50, callbacks=[EpochLogger()])"
      ]
    },
    {
      "cell_type": "code",
      "execution_count": null,
      "metadata": {
        "colab": {
          "background_save": true
        },
        "id": "KcXGMdSx14wF"
      },
      "outputs": [],
      "source": [
        "model.save(BASE_PATH + \"/models_w2v/fast_text-malware.bin\")\n",
        "model = FastText.load(BASE_PATH + \"/models_w2v/fast_text-malware.bin\")"
      ]
    },
    {
      "cell_type": "code",
      "execution_count": null,
      "metadata": {
        "colab": {
          "background_save": true
        },
        "id": "LHhY7Lkw1KQF",
        "outputId": "e49595ff-d640-4679-f2d5-9c5b746346a7"
      },
      "outputs": [
        {
          "name": "stdout",
          "output_type": "stream",
          "text": [
            "22473\n",
            "150623517\n"
          ]
        }
      ],
      "source": [
        "print(model.corpus_count)\n",
        "print(model.corpus_total_words)"
      ]
    },
    {
      "cell_type": "code",
      "execution_count": null,
      "metadata": {
        "colab": {
          "background_save": true
        },
        "id": "cPmwPlWez4Sy",
        "outputId": "8cde9102-e6de-4a7a-d834-bc8f021407f2"
      },
      "outputs": [
        {
          "data": {
            "text/plain": [
              "[('call', 0.9247491955757141),\n",
              " ('Push', 0.7680092453956604),\n",
              " (\"call\\\\n'\", 0.6291548609733582),\n",
              " ('pop', 0.5762754678726196),\n",
              " ('retn', 0.5604031085968018)]"
            ]
          },
          "execution_count": null,
          "metadata": {},
          "output_type": "execute_result"
        }
      ],
      "source": [
        "model.wv.most_similar(\"push\")[:5]"
      ]
    },
    {
      "cell_type": "code",
      "execution_count": null,
      "metadata": {
        "colab": {
          "background_save": true
        },
        "id": "Hlhih3hE0KO_",
        "outputId": "b02f6bad-e3bf-467b-d1ab-8416c1958a6d"
      },
      "outputs": [
        {
          "data": {
            "text/plain": [
              "[('Std', 0.4146491587162018),\n",
              " ('std', 0.3161689043045044),\n",
              " ('add', 0.28009137511253357),\n",
              " ('sub', 0.2753180265426636),\n",
              " ('imul', 0.2678261697292328)]"
            ]
          },
          "execution_count": null,
          "metadata": {},
          "output_type": "execute_result"
        }
      ],
      "source": [
        "model.wv.most_similar(\"mov\")[:5]"
      ]
    },
    {
      "cell_type": "code",
      "execution_count": null,
      "metadata": {
        "colab": {
          "background_save": true
        },
        "id": "PlXs-XHu0Odp",
        "outputId": "fb8e86cb-a25c-44fe-d452-c0bae77b2c19"
      },
      "outputs": [
        {
          "data": {
            "text/plain": [
              "[('sub', 0.7462412118911743),\n",
              " (\"add\\\\n'\", 0.45374417304992676),\n",
              " ('adc', 0.42047953605651855),\n",
              " (\"sub\\\\n'\", 0.39608675241470337),\n",
              " ('sar', 0.3657788932323456)]"
            ]
          },
          "execution_count": null,
          "metadata": {},
          "output_type": "execute_result"
        }
      ],
      "source": [
        "model.wv.most_similar(\"add\")[:5]"
      ]
    }
  ],
  "metadata": {
    "colab": {
      "provenance": []
    },
    "kernelspec": {
      "display_name": "Python 3",
      "name": "python3"
    },
    "language_info": {
      "name": "python"
    }
  },
  "nbformat": 4,
  "nbformat_minor": 0
}