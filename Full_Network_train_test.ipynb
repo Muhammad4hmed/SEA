{
  "nbformat": 4,
  "nbformat_minor": 5,
  "metadata": {
    "kernelspec": {
      "display_name": "Python 3",
      "language": "python",
      "name": "python3"
    },
    "language_info": {
      "codemirror_mode": {
        "name": "ipython",
        "version": 3
      },
      "file_extension": ".py",
      "mimetype": "text/x-python",
      "name": "python",
      "nbconvert_exporter": "python",
      "pygments_lexer": "ipython3",
      "version": "3.7.10"
    },
    "papermill": {
      "default_parameters": {},
      "duration": 7057.697938,
      "end_time": "2021-05-09T12:00:43.379865",
      "environment_variables": {},
      "exception": null,
      "input_path": "__notebook__.ipynb",
      "output_path": "__notebook__.ipynb",
      "parameters": {},
      "start_time": "2021-05-09T10:03:05.681927",
      "version": "2.3.3"
    },
    "colab": {
      "provenance": []
    },
    "accelerator": "GPU"
  },
  "cells": [
    {
      "cell_type": "code",
      "metadata": {
        "colab": {
          "base_uri": "https://localhost:8080/"
        },
        "id": "NIUwtmluQIYW",
        "outputId": "f8bf3fa1-7ba3-4e5c-9946-dd7b0ae91932"
      },
      "source": [
        "from google.colab import drive\n",
        "drive.mount('/content/drive')"
      ],
      "id": "NIUwtmluQIYW",
      "execution_count": null,
      "outputs": [
        {
          "output_type": "stream",
          "name": "stdout",
          "text": [
            "Mounted at /content/drive\n"
          ]
        }
      ]
    },
    {
      "cell_type": "markdown",
      "metadata": {
        "id": "IaEo8oNdsN50"
      },
      "source": [
        "# Imports"
      ],
      "id": "IaEo8oNdsN50"
    },
    {
      "cell_type": "code",
      "metadata": {
        "id": "9TUyNvmQQNgk"
      },
      "source": [
        "import numpy as np \n",
        "import pandas as pd \n",
        "\n",
        "import os\n",
        "\n",
        "from sklearn.model_selection import KFold, StratifiedKFold\n",
        "from sklearn.feature_extraction.text import TfidfVectorizer\n",
        "from sklearn.metrics import mean_squared_error, accuracy_score, roc_auc_score, log_loss, f1_score, precision_score, recall_score\n",
        "from sklearn.ensemble import ExtraTreesClassifier\n",
        "\n",
        "from lightgbm import LGBMClassifier\n",
        "\n",
        "import random\n",
        "\n",
        "import warnings\n",
        "warnings.filterwarnings(\"ignore\")\n",
        "\n",
        "from tqdm import tqdm"
      ],
      "id": "9TUyNvmQQNgk",
      "execution_count": null,
      "outputs": []
    },
    {
      "cell_type": "code",
      "metadata": {
        "id": "oGaE_esgQTNx"
      },
      "source": [
        "df = pd.DataFrame()\n",
        "for i in range(1,10):\n",
        "  temp = pd.read_csv(f'/content/drive/MyDrive/embeddings/fastText_{i}.vectors.txt', delimiter=' ', skiprows=1, header = None)\n",
        "  temp['Family'] = i\n",
        "  df = pd.concat([df, temp],axis=0)\n",
        "\n",
        "test = pd.read_csv('/content/drive/MyDrive/FYP/OPCODES_Clean/test_set.csv')"
      ],
      "id": "oGaE_esgQTNx",
      "execution_count": null,
      "outputs": []
    },
    {
      "cell_type": "code",
      "metadata": {
        "id": "aBZdjMZntenb"
      },
      "source": [
        "df['Family'] = df['Family'] - 1"
      ],
      "id": "aBZdjMZntenb",
      "execution_count": null,
      "outputs": []
    },
    {
      "cell_type": "code",
      "source": [
        "temp_df = pd.read_csv('/content/drive/MyDrive/FYP/OPCODES_Clean/dataset.csv')"
      ],
      "metadata": {
        "id": "qvQNHs_2JaBD"
      },
      "id": "qvQNHs_2JaBD",
      "execution_count": null,
      "outputs": []
    },
    {
      "cell_type": "code",
      "source": [
        "temp_df = pd.DataFrame(df.rename({0:'ID'}, axis=1)['ID']).merge(temp_df, on='ID').reset_index(drop = True)"
      ],
      "metadata": {
        "id": "KUGqlmzPzoM4"
      },
      "id": "KUGqlmzPzoM4",
      "execution_count": null,
      "outputs": []
    },
    {
      "cell_type": "code",
      "source": [
        "temp_df['Opcodes'] = temp_df['Opcodes'].apply(lambda x: str(x).replace(',',' '))"
      ],
      "metadata": {
        "id": "X9vMkkHoJiub"
      },
      "id": "X9vMkkHoJiub",
      "execution_count": null,
      "outputs": []
    },
    {
      "cell_type": "code",
      "source": [
        "vectorizer = TfidfVectorizer()\n",
        "tf_encs = vectorizer.fit_transform(temp_df['Opcodes'])\n",
        "tf_encs = tf_encs.toarray()"
      ],
      "metadata": {
        "id": "xpkrf3irJlmj"
      },
      "id": "xpkrf3irJlmj",
      "execution_count": null,
      "outputs": []
    },
    {
      "cell_type": "code",
      "source": [
        "# tf_encs.shape"
      ],
      "metadata": {
        "id": "VMV8JXwPKBpo"
      },
      "id": "VMV8JXwPKBpo",
      "execution_count": null,
      "outputs": []
    },
    {
      "cell_type": "code",
      "source": [
        "# df.shape"
      ],
      "metadata": {
        "id": "328xnwC8Ks8n"
      },
      "id": "328xnwC8Ks8n",
      "execution_count": null,
      "outputs": []
    },
    {
      "cell_type": "code",
      "source": [
        "Xx = pd.DataFrame(tf_encs)"
      ],
      "metadata": {
        "id": "U1ilG5HRxF5z"
      },
      "id": "U1ilG5HRxF5z",
      "execution_count": null,
      "outputs": []
    },
    {
      "cell_type": "code",
      "source": [
        "# Xx = pd.concat([pd.DataFrame(df.drop([0,'Family'],axis=1).values), pd.DataFrame(tf_encs, columns = np.arange(100, 100+99) )] , axis=1)"
      ],
      "metadata": {
        "id": "bq1SPZmnJx1i"
      },
      "id": "bq1SPZmnJx1i",
      "execution_count": null,
      "outputs": []
    },
    {
      "cell_type": "code",
      "metadata": {
        "id": "Y1y4hq-8QUUk",
        "colab": {
          "base_uri": "https://localhost:8080/",
          "height": 488
        },
        "outputId": "1710d529-04a4-40c7-b7b2-ed9083758b35"
      },
      "source": [
        "# df = df.sample(frac=1).reset_index(drop = True)\n",
        "df = df.reset_index(drop = True)\n",
        "df"
      ],
      "id": "Y1y4hq-8QUUk",
      "execution_count": null,
      "outputs": [
        {
          "output_type": "execute_result",
          "data": {
            "text/html": [
              "\n",
              "  <div id=\"df-8db3f333-019f-4ceb-896b-cc641f3955cc\">\n",
              "    <div class=\"colab-df-container\">\n",
              "      <div>\n",
              "<style scoped>\n",
              "    .dataframe tbody tr th:only-of-type {\n",
              "        vertical-align: middle;\n",
              "    }\n",
              "\n",
              "    .dataframe tbody tr th {\n",
              "        vertical-align: top;\n",
              "    }\n",
              "\n",
              "    .dataframe thead th {\n",
              "        text-align: right;\n",
              "    }\n",
              "</style>\n",
              "<table border=\"1\" class=\"dataframe\">\n",
              "  <thead>\n",
              "    <tr style=\"text-align: right;\">\n",
              "      <th></th>\n",
              "      <th>0</th>\n",
              "      <th>1</th>\n",
              "      <th>2</th>\n",
              "      <th>3</th>\n",
              "      <th>4</th>\n",
              "      <th>5</th>\n",
              "      <th>6</th>\n",
              "      <th>7</th>\n",
              "      <th>8</th>\n",
              "      <th>9</th>\n",
              "      <th>10</th>\n",
              "      <th>11</th>\n",
              "      <th>12</th>\n",
              "      <th>13</th>\n",
              "      <th>14</th>\n",
              "      <th>15</th>\n",
              "      <th>16</th>\n",
              "      <th>17</th>\n",
              "      <th>18</th>\n",
              "      <th>19</th>\n",
              "      <th>20</th>\n",
              "      <th>21</th>\n",
              "      <th>22</th>\n",
              "      <th>23</th>\n",
              "      <th>24</th>\n",
              "      <th>25</th>\n",
              "      <th>26</th>\n",
              "      <th>27</th>\n",
              "      <th>28</th>\n",
              "      <th>29</th>\n",
              "      <th>30</th>\n",
              "      <th>31</th>\n",
              "      <th>32</th>\n",
              "      <th>33</th>\n",
              "      <th>34</th>\n",
              "      <th>35</th>\n",
              "      <th>36</th>\n",
              "      <th>37</th>\n",
              "      <th>38</th>\n",
              "      <th>39</th>\n",
              "      <th>...</th>\n",
              "      <th>62</th>\n",
              "      <th>63</th>\n",
              "      <th>64</th>\n",
              "      <th>65</th>\n",
              "      <th>66</th>\n",
              "      <th>67</th>\n",
              "      <th>68</th>\n",
              "      <th>69</th>\n",
              "      <th>70</th>\n",
              "      <th>71</th>\n",
              "      <th>72</th>\n",
              "      <th>73</th>\n",
              "      <th>74</th>\n",
              "      <th>75</th>\n",
              "      <th>76</th>\n",
              "      <th>77</th>\n",
              "      <th>78</th>\n",
              "      <th>79</th>\n",
              "      <th>80</th>\n",
              "      <th>81</th>\n",
              "      <th>82</th>\n",
              "      <th>83</th>\n",
              "      <th>84</th>\n",
              "      <th>85</th>\n",
              "      <th>86</th>\n",
              "      <th>87</th>\n",
              "      <th>88</th>\n",
              "      <th>89</th>\n",
              "      <th>90</th>\n",
              "      <th>91</th>\n",
              "      <th>92</th>\n",
              "      <th>93</th>\n",
              "      <th>94</th>\n",
              "      <th>95</th>\n",
              "      <th>96</th>\n",
              "      <th>97</th>\n",
              "      <th>98</th>\n",
              "      <th>99</th>\n",
              "      <th>100</th>\n",
              "      <th>Family</th>\n",
              "    </tr>\n",
              "  </thead>\n",
              "  <tbody>\n",
              "    <tr>\n",
              "      <th>0</th>\n",
              "      <td>01kcPWA9K2BOxQeS5Rju</td>\n",
              "      <td>0.490019</td>\n",
              "      <td>0.246652</td>\n",
              "      <td>-0.074752</td>\n",
              "      <td>0.199995</td>\n",
              "      <td>0.257202</td>\n",
              "      <td>-0.264481</td>\n",
              "      <td>-0.094200</td>\n",
              "      <td>0.300277</td>\n",
              "      <td>-0.100951</td>\n",
              "      <td>-0.068712</td>\n",
              "      <td>-0.101893</td>\n",
              "      <td>-0.081141</td>\n",
              "      <td>-0.237977</td>\n",
              "      <td>-0.213057</td>\n",
              "      <td>-0.214349</td>\n",
              "      <td>-0.151692</td>\n",
              "      <td>-0.463176</td>\n",
              "      <td>-0.375645</td>\n",
              "      <td>0.070504</td>\n",
              "      <td>-0.118931</td>\n",
              "      <td>-0.091333</td>\n",
              "      <td>0.096341</td>\n",
              "      <td>-0.046842</td>\n",
              "      <td>-0.066605</td>\n",
              "      <td>0.313323</td>\n",
              "      <td>-0.342228</td>\n",
              "      <td>0.546364</td>\n",
              "      <td>0.058887</td>\n",
              "      <td>0.461288</td>\n",
              "      <td>0.459364</td>\n",
              "      <td>0.099104</td>\n",
              "      <td>-0.292026</td>\n",
              "      <td>0.185670</td>\n",
              "      <td>-0.048741</td>\n",
              "      <td>-0.395042</td>\n",
              "      <td>0.598792</td>\n",
              "      <td>0.398118</td>\n",
              "      <td>-0.194364</td>\n",
              "      <td>0.408601</td>\n",
              "      <td>...</td>\n",
              "      <td>-0.521503</td>\n",
              "      <td>0.350581</td>\n",
              "      <td>0.125442</td>\n",
              "      <td>-0.123124</td>\n",
              "      <td>0.179164</td>\n",
              "      <td>0.149540</td>\n",
              "      <td>-0.321353</td>\n",
              "      <td>0.204498</td>\n",
              "      <td>0.052053</td>\n",
              "      <td>-0.240429</td>\n",
              "      <td>-0.062793</td>\n",
              "      <td>-0.287057</td>\n",
              "      <td>0.310950</td>\n",
              "      <td>-0.073131</td>\n",
              "      <td>0.395020</td>\n",
              "      <td>0.274725</td>\n",
              "      <td>0.308745</td>\n",
              "      <td>0.320110</td>\n",
              "      <td>-0.789970</td>\n",
              "      <td>-0.086179</td>\n",
              "      <td>-0.249084</td>\n",
              "      <td>-0.118299</td>\n",
              "      <td>0.115802</td>\n",
              "      <td>0.255755</td>\n",
              "      <td>-0.134587</td>\n",
              "      <td>-0.244400</td>\n",
              "      <td>-0.088909</td>\n",
              "      <td>0.116641</td>\n",
              "      <td>-0.472341</td>\n",
              "      <td>0.277205</td>\n",
              "      <td>-0.204946</td>\n",
              "      <td>-0.234757</td>\n",
              "      <td>0.355260</td>\n",
              "      <td>-0.334045</td>\n",
              "      <td>0.304022</td>\n",
              "      <td>-0.548293</td>\n",
              "      <td>0.540579</td>\n",
              "      <td>0.159466</td>\n",
              "      <td>-0.021599</td>\n",
              "      <td>0</td>\n",
              "    </tr>\n",
              "    <tr>\n",
              "      <th>1</th>\n",
              "      <td>04EjIdbPV5e1XroFOpiN</td>\n",
              "      <td>0.586597</td>\n",
              "      <td>0.342761</td>\n",
              "      <td>-0.349374</td>\n",
              "      <td>0.650660</td>\n",
              "      <td>0.302345</td>\n",
              "      <td>-0.101330</td>\n",
              "      <td>-0.123291</td>\n",
              "      <td>0.080003</td>\n",
              "      <td>-0.044311</td>\n",
              "      <td>-0.279998</td>\n",
              "      <td>-0.284378</td>\n",
              "      <td>0.103144</td>\n",
              "      <td>-0.108411</td>\n",
              "      <td>-0.331293</td>\n",
              "      <td>-0.356329</td>\n",
              "      <td>-0.266312</td>\n",
              "      <td>-0.416170</td>\n",
              "      <td>-0.514190</td>\n",
              "      <td>0.116165</td>\n",
              "      <td>-0.161516</td>\n",
              "      <td>-0.243866</td>\n",
              "      <td>0.144189</td>\n",
              "      <td>-0.141394</td>\n",
              "      <td>-0.056593</td>\n",
              "      <td>0.200338</td>\n",
              "      <td>-0.291706</td>\n",
              "      <td>0.604840</td>\n",
              "      <td>-0.095667</td>\n",
              "      <td>0.471635</td>\n",
              "      <td>0.421685</td>\n",
              "      <td>0.096001</td>\n",
              "      <td>-0.421567</td>\n",
              "      <td>0.155400</td>\n",
              "      <td>0.029452</td>\n",
              "      <td>-0.581137</td>\n",
              "      <td>0.631508</td>\n",
              "      <td>0.521313</td>\n",
              "      <td>-0.248629</td>\n",
              "      <td>0.440763</td>\n",
              "      <td>...</td>\n",
              "      <td>-0.446663</td>\n",
              "      <td>0.358576</td>\n",
              "      <td>0.073770</td>\n",
              "      <td>0.028866</td>\n",
              "      <td>0.281874</td>\n",
              "      <td>0.226235</td>\n",
              "      <td>-0.485920</td>\n",
              "      <td>0.268613</td>\n",
              "      <td>0.030928</td>\n",
              "      <td>-0.241248</td>\n",
              "      <td>-0.009872</td>\n",
              "      <td>-0.210190</td>\n",
              "      <td>0.440853</td>\n",
              "      <td>0.175935</td>\n",
              "      <td>0.299564</td>\n",
              "      <td>0.327844</td>\n",
              "      <td>0.496241</td>\n",
              "      <td>0.421131</td>\n",
              "      <td>-0.751047</td>\n",
              "      <td>0.058994</td>\n",
              "      <td>-0.153683</td>\n",
              "      <td>-0.052271</td>\n",
              "      <td>0.051105</td>\n",
              "      <td>0.255610</td>\n",
              "      <td>-0.329366</td>\n",
              "      <td>-0.119494</td>\n",
              "      <td>-0.047586</td>\n",
              "      <td>0.197049</td>\n",
              "      <td>-0.785149</td>\n",
              "      <td>0.577412</td>\n",
              "      <td>-0.227859</td>\n",
              "      <td>-0.148124</td>\n",
              "      <td>0.080779</td>\n",
              "      <td>-0.384289</td>\n",
              "      <td>0.289509</td>\n",
              "      <td>-0.443804</td>\n",
              "      <td>0.801727</td>\n",
              "      <td>0.255491</td>\n",
              "      <td>-0.051095</td>\n",
              "      <td>0</td>\n",
              "    </tr>\n",
              "    <tr>\n",
              "      <th>2</th>\n",
              "      <td>05EeG39MTRrI6VY21DPd</td>\n",
              "      <td>0.638156</td>\n",
              "      <td>0.360327</td>\n",
              "      <td>-0.485862</td>\n",
              "      <td>0.875609</td>\n",
              "      <td>0.359884</td>\n",
              "      <td>-0.016388</td>\n",
              "      <td>-0.142252</td>\n",
              "      <td>-0.039224</td>\n",
              "      <td>-0.011038</td>\n",
              "      <td>-0.350613</td>\n",
              "      <td>-0.369287</td>\n",
              "      <td>0.182183</td>\n",
              "      <td>-0.015326</td>\n",
              "      <td>-0.372009</td>\n",
              "      <td>-0.421265</td>\n",
              "      <td>-0.315692</td>\n",
              "      <td>-0.336878</td>\n",
              "      <td>-0.508274</td>\n",
              "      <td>0.159346</td>\n",
              "      <td>-0.199092</td>\n",
              "      <td>-0.388960</td>\n",
              "      <td>0.188155</td>\n",
              "      <td>-0.241070</td>\n",
              "      <td>-0.060406</td>\n",
              "      <td>0.116476</td>\n",
              "      <td>-0.289276</td>\n",
              "      <td>0.674889</td>\n",
              "      <td>-0.158050</td>\n",
              "      <td>0.442525</td>\n",
              "      <td>0.400663</td>\n",
              "      <td>0.127171</td>\n",
              "      <td>-0.477220</td>\n",
              "      <td>0.077335</td>\n",
              "      <td>0.193657</td>\n",
              "      <td>-0.774284</td>\n",
              "      <td>0.636418</td>\n",
              "      <td>0.583869</td>\n",
              "      <td>-0.228336</td>\n",
              "      <td>0.409760</td>\n",
              "      <td>...</td>\n",
              "      <td>-0.410641</td>\n",
              "      <td>0.298947</td>\n",
              "      <td>0.019589</td>\n",
              "      <td>0.099624</td>\n",
              "      <td>0.337264</td>\n",
              "      <td>0.153916</td>\n",
              "      <td>-0.406953</td>\n",
              "      <td>0.231565</td>\n",
              "      <td>0.049634</td>\n",
              "      <td>-0.261310</td>\n",
              "      <td>0.082396</td>\n",
              "      <td>-0.110998</td>\n",
              "      <td>0.497566</td>\n",
              "      <td>0.254905</td>\n",
              "      <td>0.223751</td>\n",
              "      <td>0.298713</td>\n",
              "      <td>0.534464</td>\n",
              "      <td>0.432591</td>\n",
              "      <td>-0.709459</td>\n",
              "      <td>0.126500</td>\n",
              "      <td>-0.067534</td>\n",
              "      <td>-0.086347</td>\n",
              "      <td>0.023501</td>\n",
              "      <td>0.210622</td>\n",
              "      <td>-0.458374</td>\n",
              "      <td>-0.004700</td>\n",
              "      <td>-0.069754</td>\n",
              "      <td>0.202053</td>\n",
              "      <td>-0.868032</td>\n",
              "      <td>0.767907</td>\n",
              "      <td>-0.161850</td>\n",
              "      <td>-0.121352</td>\n",
              "      <td>-0.040297</td>\n",
              "      <td>-0.399245</td>\n",
              "      <td>0.278657</td>\n",
              "      <td>-0.353547</td>\n",
              "      <td>0.892944</td>\n",
              "      <td>0.446620</td>\n",
              "      <td>0.085298</td>\n",
              "      <td>0</td>\n",
              "    </tr>\n",
              "    <tr>\n",
              "      <th>3</th>\n",
              "      <td>05rJTUWYAKNegBk2wE8X</td>\n",
              "      <td>0.501801</td>\n",
              "      <td>0.331249</td>\n",
              "      <td>-0.220678</td>\n",
              "      <td>0.483981</td>\n",
              "      <td>0.270285</td>\n",
              "      <td>-0.139000</td>\n",
              "      <td>-0.087160</td>\n",
              "      <td>0.180803</td>\n",
              "      <td>-0.082140</td>\n",
              "      <td>-0.190506</td>\n",
              "      <td>-0.275629</td>\n",
              "      <td>0.071135</td>\n",
              "      <td>-0.173846</td>\n",
              "      <td>-0.330906</td>\n",
              "      <td>-0.301508</td>\n",
              "      <td>-0.262865</td>\n",
              "      <td>-0.438026</td>\n",
              "      <td>-0.480108</td>\n",
              "      <td>0.046024</td>\n",
              "      <td>-0.119445</td>\n",
              "      <td>-0.149418</td>\n",
              "      <td>0.112743</td>\n",
              "      <td>-0.034468</td>\n",
              "      <td>-0.091652</td>\n",
              "      <td>0.253392</td>\n",
              "      <td>-0.324379</td>\n",
              "      <td>0.574037</td>\n",
              "      <td>0.021738</td>\n",
              "      <td>0.484119</td>\n",
              "      <td>0.459770</td>\n",
              "      <td>0.096974</td>\n",
              "      <td>-0.423764</td>\n",
              "      <td>0.204578</td>\n",
              "      <td>0.000395</td>\n",
              "      <td>-0.437208</td>\n",
              "      <td>0.643457</td>\n",
              "      <td>0.464318</td>\n",
              "      <td>-0.256347</td>\n",
              "      <td>0.438487</td>\n",
              "      <td>...</td>\n",
              "      <td>-0.463688</td>\n",
              "      <td>0.359682</td>\n",
              "      <td>0.081897</td>\n",
              "      <td>-0.033641</td>\n",
              "      <td>0.254571</td>\n",
              "      <td>0.274445</td>\n",
              "      <td>-0.527214</td>\n",
              "      <td>0.282721</td>\n",
              "      <td>0.014875</td>\n",
              "      <td>-0.227590</td>\n",
              "      <td>-0.106744</td>\n",
              "      <td>-0.221695</td>\n",
              "      <td>0.392925</td>\n",
              "      <td>0.081955</td>\n",
              "      <td>0.338994</td>\n",
              "      <td>0.325235</td>\n",
              "      <td>0.480844</td>\n",
              "      <td>0.441486</td>\n",
              "      <td>-0.773561</td>\n",
              "      <td>0.034521</td>\n",
              "      <td>-0.176829</td>\n",
              "      <td>-0.030755</td>\n",
              "      <td>0.048714</td>\n",
              "      <td>0.302958</td>\n",
              "      <td>-0.256488</td>\n",
              "      <td>-0.154222</td>\n",
              "      <td>-0.060738</td>\n",
              "      <td>0.186817</td>\n",
              "      <td>-0.687391</td>\n",
              "      <td>0.462631</td>\n",
              "      <td>-0.234995</td>\n",
              "      <td>-0.167081</td>\n",
              "      <td>0.155181</td>\n",
              "      <td>-0.385319</td>\n",
              "      <td>0.300084</td>\n",
              "      <td>-0.539238</td>\n",
              "      <td>0.786507</td>\n",
              "      <td>0.151410</td>\n",
              "      <td>-0.157954</td>\n",
              "      <td>0</td>\n",
              "    </tr>\n",
              "    <tr>\n",
              "      <th>4</th>\n",
              "      <td>0AnoOZDNbPXIr2MRBSCJ</td>\n",
              "      <td>0.472549</td>\n",
              "      <td>0.223478</td>\n",
              "      <td>-0.309006</td>\n",
              "      <td>0.503769</td>\n",
              "      <td>0.265821</td>\n",
              "      <td>-0.071450</td>\n",
              "      <td>-0.121231</td>\n",
              "      <td>0.032157</td>\n",
              "      <td>-0.039314</td>\n",
              "      <td>-0.315629</td>\n",
              "      <td>-0.234585</td>\n",
              "      <td>0.145729</td>\n",
              "      <td>-0.087294</td>\n",
              "      <td>-0.187213</td>\n",
              "      <td>-0.298732</td>\n",
              "      <td>-0.120153</td>\n",
              "      <td>-0.246560</td>\n",
              "      <td>-0.328123</td>\n",
              "      <td>0.096126</td>\n",
              "      <td>-0.172714</td>\n",
              "      <td>-0.296455</td>\n",
              "      <td>0.159087</td>\n",
              "      <td>-0.183643</td>\n",
              "      <td>-0.031508</td>\n",
              "      <td>0.147012</td>\n",
              "      <td>-0.189497</td>\n",
              "      <td>0.546924</td>\n",
              "      <td>-0.073934</td>\n",
              "      <td>0.298367</td>\n",
              "      <td>0.289246</td>\n",
              "      <td>0.088544</td>\n",
              "      <td>-0.342806</td>\n",
              "      <td>0.073357</td>\n",
              "      <td>0.155546</td>\n",
              "      <td>-0.526899</td>\n",
              "      <td>0.442196</td>\n",
              "      <td>0.541162</td>\n",
              "      <td>-0.149903</td>\n",
              "      <td>0.361654</td>\n",
              "      <td>...</td>\n",
              "      <td>-0.352678</td>\n",
              "      <td>0.213451</td>\n",
              "      <td>-0.020089</td>\n",
              "      <td>0.115730</td>\n",
              "      <td>0.217626</td>\n",
              "      <td>0.087740</td>\n",
              "      <td>-0.306696</td>\n",
              "      <td>0.218360</td>\n",
              "      <td>-0.024652</td>\n",
              "      <td>-0.225284</td>\n",
              "      <td>0.092780</td>\n",
              "      <td>-0.096985</td>\n",
              "      <td>0.414296</td>\n",
              "      <td>0.132857</td>\n",
              "      <td>0.213662</td>\n",
              "      <td>0.268258</td>\n",
              "      <td>0.394024</td>\n",
              "      <td>0.268796</td>\n",
              "      <td>-0.496828</td>\n",
              "      <td>0.127851</td>\n",
              "      <td>-0.078787</td>\n",
              "      <td>-0.071962</td>\n",
              "      <td>0.065248</td>\n",
              "      <td>0.139557</td>\n",
              "      <td>-0.279566</td>\n",
              "      <td>-0.001808</td>\n",
              "      <td>0.025021</td>\n",
              "      <td>0.103069</td>\n",
              "      <td>-0.563332</td>\n",
              "      <td>0.471222</td>\n",
              "      <td>-0.129138</td>\n",
              "      <td>0.001436</td>\n",
              "      <td>-0.046444</td>\n",
              "      <td>-0.279647</td>\n",
              "      <td>0.208295</td>\n",
              "      <td>-0.231913</td>\n",
              "      <td>0.559262</td>\n",
              "      <td>0.239500</td>\n",
              "      <td>0.080965</td>\n",
              "      <td>0</td>\n",
              "    </tr>\n",
              "    <tr>\n",
              "      <th>...</th>\n",
              "      <td>...</td>\n",
              "      <td>...</td>\n",
              "      <td>...</td>\n",
              "      <td>...</td>\n",
              "      <td>...</td>\n",
              "      <td>...</td>\n",
              "      <td>...</td>\n",
              "      <td>...</td>\n",
              "      <td>...</td>\n",
              "      <td>...</td>\n",
              "      <td>...</td>\n",
              "      <td>...</td>\n",
              "      <td>...</td>\n",
              "      <td>...</td>\n",
              "      <td>...</td>\n",
              "      <td>...</td>\n",
              "      <td>...</td>\n",
              "      <td>...</td>\n",
              "      <td>...</td>\n",
              "      <td>...</td>\n",
              "      <td>...</td>\n",
              "      <td>...</td>\n",
              "      <td>...</td>\n",
              "      <td>...</td>\n",
              "      <td>...</td>\n",
              "      <td>...</td>\n",
              "      <td>...</td>\n",
              "      <td>...</td>\n",
              "      <td>...</td>\n",
              "      <td>...</td>\n",
              "      <td>...</td>\n",
              "      <td>...</td>\n",
              "      <td>...</td>\n",
              "      <td>...</td>\n",
              "      <td>...</td>\n",
              "      <td>...</td>\n",
              "      <td>...</td>\n",
              "      <td>...</td>\n",
              "      <td>...</td>\n",
              "      <td>...</td>\n",
              "      <td>...</td>\n",
              "      <td>...</td>\n",
              "      <td>...</td>\n",
              "      <td>...</td>\n",
              "      <td>...</td>\n",
              "      <td>...</td>\n",
              "      <td>...</td>\n",
              "      <td>...</td>\n",
              "      <td>...</td>\n",
              "      <td>...</td>\n",
              "      <td>...</td>\n",
              "      <td>...</td>\n",
              "      <td>...</td>\n",
              "      <td>...</td>\n",
              "      <td>...</td>\n",
              "      <td>...</td>\n",
              "      <td>...</td>\n",
              "      <td>...</td>\n",
              "      <td>...</td>\n",
              "      <td>...</td>\n",
              "      <td>...</td>\n",
              "      <td>...</td>\n",
              "      <td>...</td>\n",
              "      <td>...</td>\n",
              "      <td>...</td>\n",
              "      <td>...</td>\n",
              "      <td>...</td>\n",
              "      <td>...</td>\n",
              "      <td>...</td>\n",
              "      <td>...</td>\n",
              "      <td>...</td>\n",
              "      <td>...</td>\n",
              "      <td>...</td>\n",
              "      <td>...</td>\n",
              "      <td>...</td>\n",
              "      <td>...</td>\n",
              "      <td>...</td>\n",
              "      <td>...</td>\n",
              "      <td>...</td>\n",
              "      <td>...</td>\n",
              "      <td>...</td>\n",
              "    </tr>\n",
              "    <tr>\n",
              "      <th>10863</th>\n",
              "      <td>KFrZ0Lop1WDGwUtkusCi</td>\n",
              "      <td>0.252008</td>\n",
              "      <td>0.248710</td>\n",
              "      <td>0.295034</td>\n",
              "      <td>-0.324051</td>\n",
              "      <td>0.185108</td>\n",
              "      <td>-0.264334</td>\n",
              "      <td>0.107222</td>\n",
              "      <td>0.766620</td>\n",
              "      <td>-0.182786</td>\n",
              "      <td>0.224354</td>\n",
              "      <td>0.158417</td>\n",
              "      <td>-0.193481</td>\n",
              "      <td>-0.521785</td>\n",
              "      <td>0.010929</td>\n",
              "      <td>0.276677</td>\n",
              "      <td>-0.034951</td>\n",
              "      <td>-0.303779</td>\n",
              "      <td>-0.057412</td>\n",
              "      <td>-0.229117</td>\n",
              "      <td>0.147451</td>\n",
              "      <td>0.279659</td>\n",
              "      <td>0.093996</td>\n",
              "      <td>0.124057</td>\n",
              "      <td>-0.239927</td>\n",
              "      <td>0.404886</td>\n",
              "      <td>-0.353722</td>\n",
              "      <td>0.275712</td>\n",
              "      <td>0.277568</td>\n",
              "      <td>0.116936</td>\n",
              "      <td>0.593616</td>\n",
              "      <td>-0.017605</td>\n",
              "      <td>-0.151760</td>\n",
              "      <td>0.249590</td>\n",
              "      <td>-0.158271</td>\n",
              "      <td>0.151728</td>\n",
              "      <td>0.209420</td>\n",
              "      <td>0.112972</td>\n",
              "      <td>-0.089675</td>\n",
              "      <td>0.119052</td>\n",
              "      <td>...</td>\n",
              "      <td>-0.190515</td>\n",
              "      <td>0.270593</td>\n",
              "      <td>0.192506</td>\n",
              "      <td>-0.250872</td>\n",
              "      <td>0.060286</td>\n",
              "      <td>0.179210</td>\n",
              "      <td>-0.327827</td>\n",
              "      <td>0.126733</td>\n",
              "      <td>-0.084666</td>\n",
              "      <td>-0.212166</td>\n",
              "      <td>-0.308168</td>\n",
              "      <td>-0.291167</td>\n",
              "      <td>0.101790</td>\n",
              "      <td>-0.469697</td>\n",
              "      <td>0.399448</td>\n",
              "      <td>0.142827</td>\n",
              "      <td>0.114542</td>\n",
              "      <td>0.298758</td>\n",
              "      <td>-0.644994</td>\n",
              "      <td>-0.156964</td>\n",
              "      <td>-0.173903</td>\n",
              "      <td>0.032822</td>\n",
              "      <td>-0.031076</td>\n",
              "      <td>0.230198</td>\n",
              "      <td>0.140248</td>\n",
              "      <td>-0.345710</td>\n",
              "      <td>-0.095963</td>\n",
              "      <td>0.036534</td>\n",
              "      <td>0.069224</td>\n",
              "      <td>-0.255194</td>\n",
              "      <td>0.043044</td>\n",
              "      <td>-0.191895</td>\n",
              "      <td>0.512682</td>\n",
              "      <td>-0.203030</td>\n",
              "      <td>0.114248</td>\n",
              "      <td>-0.693908</td>\n",
              "      <td>0.200239</td>\n",
              "      <td>-0.166768</td>\n",
              "      <td>-0.300577</td>\n",
              "      <td>8</td>\n",
              "    </tr>\n",
              "    <tr>\n",
              "      <th>10864</th>\n",
              "      <td>kg24YRJTB8DNdKMXpwOH</td>\n",
              "      <td>0.178191</td>\n",
              "      <td>0.082134</td>\n",
              "      <td>0.347024</td>\n",
              "      <td>-0.557363</td>\n",
              "      <td>0.144222</td>\n",
              "      <td>-0.468349</td>\n",
              "      <td>0.007345</td>\n",
              "      <td>0.616951</td>\n",
              "      <td>-0.181148</td>\n",
              "      <td>0.188560</td>\n",
              "      <td>0.183133</td>\n",
              "      <td>-0.165848</td>\n",
              "      <td>-0.433493</td>\n",
              "      <td>0.154267</td>\n",
              "      <td>0.239639</td>\n",
              "      <td>0.177182</td>\n",
              "      <td>-0.222042</td>\n",
              "      <td>-0.022549</td>\n",
              "      <td>-0.194504</td>\n",
              "      <td>0.049414</td>\n",
              "      <td>0.155741</td>\n",
              "      <td>0.085684</td>\n",
              "      <td>0.090277</td>\n",
              "      <td>-0.110560</td>\n",
              "      <td>0.441717</td>\n",
              "      <td>-0.192240</td>\n",
              "      <td>0.244867</td>\n",
              "      <td>0.273671</td>\n",
              "      <td>0.172665</td>\n",
              "      <td>0.352369</td>\n",
              "      <td>0.084075</td>\n",
              "      <td>-0.091288</td>\n",
              "      <td>0.284606</td>\n",
              "      <td>-0.128553</td>\n",
              "      <td>0.282307</td>\n",
              "      <td>0.084013</td>\n",
              "      <td>0.302326</td>\n",
              "      <td>-0.061383</td>\n",
              "      <td>0.209887</td>\n",
              "      <td>...</td>\n",
              "      <td>-0.204067</td>\n",
              "      <td>0.185706</td>\n",
              "      <td>0.058841</td>\n",
              "      <td>-0.131235</td>\n",
              "      <td>-0.011770</td>\n",
              "      <td>0.084833</td>\n",
              "      <td>-0.275561</td>\n",
              "      <td>0.287371</td>\n",
              "      <td>-0.147874</td>\n",
              "      <td>-0.193517</td>\n",
              "      <td>-0.171843</td>\n",
              "      <td>-0.266165</td>\n",
              "      <td>0.116219</td>\n",
              "      <td>-0.365610</td>\n",
              "      <td>0.385058</td>\n",
              "      <td>0.197560</td>\n",
              "      <td>0.049425</td>\n",
              "      <td>0.207241</td>\n",
              "      <td>-0.393732</td>\n",
              "      <td>-0.002279</td>\n",
              "      <td>-0.158408</td>\n",
              "      <td>-0.067456</td>\n",
              "      <td>0.095867</td>\n",
              "      <td>0.210814</td>\n",
              "      <td>0.211828</td>\n",
              "      <td>-0.279995</td>\n",
              "      <td>0.115600</td>\n",
              "      <td>0.007316</td>\n",
              "      <td>0.145677</td>\n",
              "      <td>-0.464133</td>\n",
              "      <td>0.036734</td>\n",
              "      <td>0.004458</td>\n",
              "      <td>0.393821</td>\n",
              "      <td>-0.128989</td>\n",
              "      <td>0.017919</td>\n",
              "      <td>-0.467056</td>\n",
              "      <td>-0.207975</td>\n",
              "      <td>-0.355780</td>\n",
              "      <td>-0.253444</td>\n",
              "      <td>8</td>\n",
              "    </tr>\n",
              "    <tr>\n",
              "      <th>10865</th>\n",
              "      <td>kG29BLiFYPgWtpb350sO</td>\n",
              "      <td>0.267847</td>\n",
              "      <td>0.026597</td>\n",
              "      <td>0.281771</td>\n",
              "      <td>-0.590667</td>\n",
              "      <td>0.043044</td>\n",
              "      <td>-0.417733</td>\n",
              "      <td>-0.034258</td>\n",
              "      <td>0.530420</td>\n",
              "      <td>-0.128106</td>\n",
              "      <td>0.153119</td>\n",
              "      <td>0.400160</td>\n",
              "      <td>-0.228500</td>\n",
              "      <td>-0.518373</td>\n",
              "      <td>0.361916</td>\n",
              "      <td>0.141499</td>\n",
              "      <td>0.389804</td>\n",
              "      <td>-0.307524</td>\n",
              "      <td>0.127975</td>\n",
              "      <td>-0.056920</td>\n",
              "      <td>0.009452</td>\n",
              "      <td>0.185774</td>\n",
              "      <td>0.158635</td>\n",
              "      <td>0.029163</td>\n",
              "      <td>-0.005484</td>\n",
              "      <td>0.350170</td>\n",
              "      <td>-0.066508</td>\n",
              "      <td>0.188328</td>\n",
              "      <td>0.131442</td>\n",
              "      <td>-0.042794</td>\n",
              "      <td>0.345651</td>\n",
              "      <td>-0.056906</td>\n",
              "      <td>0.060532</td>\n",
              "      <td>0.213382</td>\n",
              "      <td>-0.039200</td>\n",
              "      <td>0.171273</td>\n",
              "      <td>-0.012874</td>\n",
              "      <td>0.424846</td>\n",
              "      <td>0.119403</td>\n",
              "      <td>0.247005</td>\n",
              "      <td>...</td>\n",
              "      <td>-0.171374</td>\n",
              "      <td>0.167474</td>\n",
              "      <td>0.125948</td>\n",
              "      <td>-0.100355</td>\n",
              "      <td>-0.075010</td>\n",
              "      <td>-0.026131</td>\n",
              "      <td>-0.157647</td>\n",
              "      <td>0.255383</td>\n",
              "      <td>-0.153699</td>\n",
              "      <td>-0.261232</td>\n",
              "      <td>-0.081336</td>\n",
              "      <td>-0.248682</td>\n",
              "      <td>0.159847</td>\n",
              "      <td>-0.447534</td>\n",
              "      <td>0.442100</td>\n",
              "      <td>0.181821</td>\n",
              "      <td>-0.019837</td>\n",
              "      <td>0.072159</td>\n",
              "      <td>-0.302661</td>\n",
              "      <td>-0.019091</td>\n",
              "      <td>-0.167538</td>\n",
              "      <td>0.006883</td>\n",
              "      <td>0.097943</td>\n",
              "      <td>0.090746</td>\n",
              "      <td>0.279714</td>\n",
              "      <td>-0.259381</td>\n",
              "      <td>0.197976</td>\n",
              "      <td>-0.094406</td>\n",
              "      <td>0.357676</td>\n",
              "      <td>-0.560391</td>\n",
              "      <td>0.048869</td>\n",
              "      <td>0.165687</td>\n",
              "      <td>0.277140</td>\n",
              "      <td>-0.028675</td>\n",
              "      <td>-0.036884</td>\n",
              "      <td>-0.352379</td>\n",
              "      <td>-0.200196</td>\n",
              "      <td>-0.438750</td>\n",
              "      <td>-0.088551</td>\n",
              "      <td>8</td>\n",
              "    </tr>\n",
              "    <tr>\n",
              "      <th>10866</th>\n",
              "      <td>kGITL4OJxYMWEQ1bKBiP</td>\n",
              "      <td>0.405886</td>\n",
              "      <td>0.261313</td>\n",
              "      <td>-0.205524</td>\n",
              "      <td>0.344825</td>\n",
              "      <td>0.220464</td>\n",
              "      <td>-0.142988</td>\n",
              "      <td>-0.109252</td>\n",
              "      <td>0.166233</td>\n",
              "      <td>-0.101600</td>\n",
              "      <td>-0.247052</td>\n",
              "      <td>-0.248477</td>\n",
              "      <td>0.112481</td>\n",
              "      <td>-0.147347</td>\n",
              "      <td>-0.253810</td>\n",
              "      <td>-0.236491</td>\n",
              "      <td>-0.157870</td>\n",
              "      <td>-0.317308</td>\n",
              "      <td>-0.386217</td>\n",
              "      <td>-0.000291</td>\n",
              "      <td>-0.122350</td>\n",
              "      <td>-0.154331</td>\n",
              "      <td>0.070050</td>\n",
              "      <td>-0.027682</td>\n",
              "      <td>-0.053845</td>\n",
              "      <td>0.230828</td>\n",
              "      <td>-0.228992</td>\n",
              "      <td>0.495878</td>\n",
              "      <td>0.030125</td>\n",
              "      <td>0.389736</td>\n",
              "      <td>0.333062</td>\n",
              "      <td>0.075575</td>\n",
              "      <td>-0.377206</td>\n",
              "      <td>0.176820</td>\n",
              "      <td>-0.004560</td>\n",
              "      <td>-0.344152</td>\n",
              "      <td>0.505879</td>\n",
              "      <td>0.465916</td>\n",
              "      <td>-0.221317</td>\n",
              "      <td>0.398093</td>\n",
              "      <td>...</td>\n",
              "      <td>-0.370574</td>\n",
              "      <td>0.298075</td>\n",
              "      <td>0.034956</td>\n",
              "      <td>0.018286</td>\n",
              "      <td>0.218756</td>\n",
              "      <td>0.230766</td>\n",
              "      <td>-0.476468</td>\n",
              "      <td>0.263949</td>\n",
              "      <td>-0.035905</td>\n",
              "      <td>-0.215916</td>\n",
              "      <td>-0.031620</td>\n",
              "      <td>-0.194411</td>\n",
              "      <td>0.381029</td>\n",
              "      <td>0.093027</td>\n",
              "      <td>0.286271</td>\n",
              "      <td>0.311970</td>\n",
              "      <td>0.425031</td>\n",
              "      <td>0.349337</td>\n",
              "      <td>-0.635187</td>\n",
              "      <td>0.065028</td>\n",
              "      <td>-0.163812</td>\n",
              "      <td>-0.029100</td>\n",
              "      <td>0.068216</td>\n",
              "      <td>0.251044</td>\n",
              "      <td>-0.193112</td>\n",
              "      <td>-0.121700</td>\n",
              "      <td>0.007428</td>\n",
              "      <td>0.138166</td>\n",
              "      <td>-0.598116</td>\n",
              "      <td>0.369654</td>\n",
              "      <td>-0.213785</td>\n",
              "      <td>-0.067730</td>\n",
              "      <td>0.087254</td>\n",
              "      <td>-0.323857</td>\n",
              "      <td>0.253916</td>\n",
              "      <td>-0.419574</td>\n",
              "      <td>0.647298</td>\n",
              "      <td>0.099143</td>\n",
              "      <td>-0.148481</td>\n",
              "      <td>8</td>\n",
              "    </tr>\n",
              "    <tr>\n",
              "      <th>10867</th>\n",
              "      <td>KGorN9J6XAC4bOEkmyup</td>\n",
              "      <td>0.532050</td>\n",
              "      <td>0.347296</td>\n",
              "      <td>-0.305670</td>\n",
              "      <td>0.655456</td>\n",
              "      <td>0.282475</td>\n",
              "      <td>0.029689</td>\n",
              "      <td>-0.012060</td>\n",
              "      <td>0.162236</td>\n",
              "      <td>-0.001605</td>\n",
              "      <td>-0.154935</td>\n",
              "      <td>-0.154902</td>\n",
              "      <td>0.026855</td>\n",
              "      <td>-0.143047</td>\n",
              "      <td>-0.251793</td>\n",
              "      <td>-0.173555</td>\n",
              "      <td>-0.279549</td>\n",
              "      <td>-0.315124</td>\n",
              "      <td>-0.354977</td>\n",
              "      <td>0.131290</td>\n",
              "      <td>-0.088057</td>\n",
              "      <td>-0.227273</td>\n",
              "      <td>0.190572</td>\n",
              "      <td>-0.217816</td>\n",
              "      <td>-0.121598</td>\n",
              "      <td>0.100761</td>\n",
              "      <td>-0.347790</td>\n",
              "      <td>0.546177</td>\n",
              "      <td>-0.095280</td>\n",
              "      <td>0.272397</td>\n",
              "      <td>0.469059</td>\n",
              "      <td>0.067545</td>\n",
              "      <td>-0.321764</td>\n",
              "      <td>0.122037</td>\n",
              "      <td>0.099464</td>\n",
              "      <td>-0.444302</td>\n",
              "      <td>0.512608</td>\n",
              "      <td>0.440919</td>\n",
              "      <td>-0.149392</td>\n",
              "      <td>0.287574</td>\n",
              "      <td>...</td>\n",
              "      <td>-0.346513</td>\n",
              "      <td>0.289398</td>\n",
              "      <td>0.077066</td>\n",
              "      <td>-0.016221</td>\n",
              "      <td>0.186160</td>\n",
              "      <td>0.185185</td>\n",
              "      <td>-0.381672</td>\n",
              "      <td>0.220668</td>\n",
              "      <td>-0.007784</td>\n",
              "      <td>-0.227069</td>\n",
              "      <td>-0.136576</td>\n",
              "      <td>-0.071628</td>\n",
              "      <td>0.377127</td>\n",
              "      <td>-0.017900</td>\n",
              "      <td>0.278687</td>\n",
              "      <td>0.255401</td>\n",
              "      <td>0.430707</td>\n",
              "      <td>0.393282</td>\n",
              "      <td>-0.634814</td>\n",
              "      <td>0.094724</td>\n",
              "      <td>-0.064915</td>\n",
              "      <td>0.058158</td>\n",
              "      <td>-0.068182</td>\n",
              "      <td>0.188261</td>\n",
              "      <td>-0.312153</td>\n",
              "      <td>-0.036835</td>\n",
              "      <td>-0.047402</td>\n",
              "      <td>0.174513</td>\n",
              "      <td>-0.443931</td>\n",
              "      <td>0.503400</td>\n",
              "      <td>-0.118552</td>\n",
              "      <td>-0.050341</td>\n",
              "      <td>-0.006950</td>\n",
              "      <td>-0.290829</td>\n",
              "      <td>0.159980</td>\n",
              "      <td>-0.398012</td>\n",
              "      <td>0.695902</td>\n",
              "      <td>0.174411</td>\n",
              "      <td>-0.050406</td>\n",
              "      <td>8</td>\n",
              "    </tr>\n",
              "  </tbody>\n",
              "</table>\n",
              "<p>10868 rows × 102 columns</p>\n",
              "</div>\n",
              "      <button class=\"colab-df-convert\" onclick=\"convertToInteractive('df-8db3f333-019f-4ceb-896b-cc641f3955cc')\"\n",
              "              title=\"Convert this dataframe to an interactive table.\"\n",
              "              style=\"display:none;\">\n",
              "        \n",
              "  <svg xmlns=\"http://www.w3.org/2000/svg\" height=\"24px\"viewBox=\"0 0 24 24\"\n",
              "       width=\"24px\">\n",
              "    <path d=\"M0 0h24v24H0V0z\" fill=\"none\"/>\n",
              "    <path d=\"M18.56 5.44l.94 2.06.94-2.06 2.06-.94-2.06-.94-.94-2.06-.94 2.06-2.06.94zm-11 1L8.5 8.5l.94-2.06 2.06-.94-2.06-.94L8.5 2.5l-.94 2.06-2.06.94zm10 10l.94 2.06.94-2.06 2.06-.94-2.06-.94-.94-2.06-.94 2.06-2.06.94z\"/><path d=\"M17.41 7.96l-1.37-1.37c-.4-.4-.92-.59-1.43-.59-.52 0-1.04.2-1.43.59L10.3 9.45l-7.72 7.72c-.78.78-.78 2.05 0 2.83L4 21.41c.39.39.9.59 1.41.59.51 0 1.02-.2 1.41-.59l7.78-7.78 2.81-2.81c.8-.78.8-2.07 0-2.86zM5.41 20L4 18.59l7.72-7.72 1.47 1.35L5.41 20z\"/>\n",
              "  </svg>\n",
              "      </button>\n",
              "      \n",
              "  <style>\n",
              "    .colab-df-container {\n",
              "      display:flex;\n",
              "      flex-wrap:wrap;\n",
              "      gap: 12px;\n",
              "    }\n",
              "\n",
              "    .colab-df-convert {\n",
              "      background-color: #E8F0FE;\n",
              "      border: none;\n",
              "      border-radius: 50%;\n",
              "      cursor: pointer;\n",
              "      display: none;\n",
              "      fill: #1967D2;\n",
              "      height: 32px;\n",
              "      padding: 0 0 0 0;\n",
              "      width: 32px;\n",
              "    }\n",
              "\n",
              "    .colab-df-convert:hover {\n",
              "      background-color: #E2EBFA;\n",
              "      box-shadow: 0px 1px 2px rgba(60, 64, 67, 0.3), 0px 1px 3px 1px rgba(60, 64, 67, 0.15);\n",
              "      fill: #174EA6;\n",
              "    }\n",
              "\n",
              "    [theme=dark] .colab-df-convert {\n",
              "      background-color: #3B4455;\n",
              "      fill: #D2E3FC;\n",
              "    }\n",
              "\n",
              "    [theme=dark] .colab-df-convert:hover {\n",
              "      background-color: #434B5C;\n",
              "      box-shadow: 0px 1px 3px 1px rgba(0, 0, 0, 0.15);\n",
              "      filter: drop-shadow(0px 1px 2px rgba(0, 0, 0, 0.3));\n",
              "      fill: #FFFFFF;\n",
              "    }\n",
              "  </style>\n",
              "\n",
              "      <script>\n",
              "        const buttonEl =\n",
              "          document.querySelector('#df-8db3f333-019f-4ceb-896b-cc641f3955cc button.colab-df-convert');\n",
              "        buttonEl.style.display =\n",
              "          google.colab.kernel.accessAllowed ? 'block' : 'none';\n",
              "\n",
              "        async function convertToInteractive(key) {\n",
              "          const element = document.querySelector('#df-8db3f333-019f-4ceb-896b-cc641f3955cc');\n",
              "          const dataTable =\n",
              "            await google.colab.kernel.invokeFunction('convertToInteractive',\n",
              "                                                     [key], {});\n",
              "          if (!dataTable) return;\n",
              "\n",
              "          const docLinkHtml = 'Like what you see? Visit the ' +\n",
              "            '<a target=\"_blank\" href=https://colab.research.google.com/notebooks/data_table.ipynb>data table notebook</a>'\n",
              "            + ' to learn more about interactive tables.';\n",
              "          element.innerHTML = '';\n",
              "          dataTable['output_type'] = 'display_data';\n",
              "          await google.colab.output.renderOutput(dataTable, element);\n",
              "          const docLink = document.createElement('div');\n",
              "          docLink.innerHTML = docLinkHtml;\n",
              "          element.appendChild(docLink);\n",
              "        }\n",
              "      </script>\n",
              "    </div>\n",
              "  </div>\n",
              "  "
            ],
            "text/plain": [
              "                          0         1         2  ...        99       100  Family\n",
              "0      01kcPWA9K2BOxQeS5Rju  0.490019  0.246652  ...  0.159466 -0.021599       0\n",
              "1      04EjIdbPV5e1XroFOpiN  0.586597  0.342761  ...  0.255491 -0.051095       0\n",
              "2      05EeG39MTRrI6VY21DPd  0.638156  0.360327  ...  0.446620  0.085298       0\n",
              "3      05rJTUWYAKNegBk2wE8X  0.501801  0.331249  ...  0.151410 -0.157954       0\n",
              "4      0AnoOZDNbPXIr2MRBSCJ  0.472549  0.223478  ...  0.239500  0.080965       0\n",
              "...                     ...       ...       ...  ...       ...       ...     ...\n",
              "10863  KFrZ0Lop1WDGwUtkusCi  0.252008  0.248710  ... -0.166768 -0.300577       8\n",
              "10864  kg24YRJTB8DNdKMXpwOH  0.178191  0.082134  ... -0.355780 -0.253444       8\n",
              "10865  kG29BLiFYPgWtpb350sO  0.267847  0.026597  ... -0.438750 -0.088551       8\n",
              "10866  kGITL4OJxYMWEQ1bKBiP  0.405886  0.261313  ...  0.099143 -0.148481       8\n",
              "10867  KGorN9J6XAC4bOEkmyup  0.532050  0.347296  ...  0.174411 -0.050406       8\n",
              "\n",
              "[10868 rows x 102 columns]"
            ]
          },
          "metadata": {},
          "execution_count": 13
        }
      ]
    },
    {
      "cell_type": "code",
      "source": [
        "df['Family'].value_counts()"
      ],
      "metadata": {
        "colab": {
          "base_uri": "https://localhost:8080/"
        },
        "id": "nMPCJvoq7nX5",
        "outputId": "de1a34de-4dc8-4b5f-c2fe-d04fa65f94ba"
      },
      "id": "nMPCJvoq7nX5",
      "execution_count": null,
      "outputs": [
        {
          "output_type": "execute_result",
          "data": {
            "text/plain": [
              "2    2942\n",
              "1    2478\n",
              "0    1541\n",
              "7    1228\n",
              "8    1013\n",
              "5     751\n",
              "3     475\n",
              "6     398\n",
              "4      42\n",
              "Name: Family, dtype: int64"
            ]
          },
          "metadata": {},
          "execution_count": 14
        }
      ]
    },
    {
      "cell_type": "markdown",
      "source": [
        "# Neural Network"
      ],
      "metadata": {
        "id": "Qq1HYkeCYUJT"
      },
      "id": "Qq1HYkeCYUJT"
    },
    {
      "cell_type": "code",
      "source": [
        "import numpy as np\n",
        "import pandas as pd\n",
        "import os\n",
        "import time\n",
        "import gc\n",
        "import random\n",
        "import tqdm\n",
        "from keras.preprocessing import text, sequence\n",
        "import torch\n",
        "from torch import nn\n",
        "from torch.utils import data\n",
        "from torch.nn import functional as F"
      ],
      "metadata": {
        "id": "Czgr8VXBYS9f"
      },
      "id": "Czgr8VXBYS9f",
      "execution_count": null,
      "outputs": []
    },
    {
      "cell_type": "code",
      "source": [
        "def train_model(data_loader, model, optimizer, device):\n",
        "  \"\"\"\n",
        "  This function does training for one epoch\n",
        "  :param data_loader: this is the pytorch dataloader\n",
        "  :param model: pytorch model\n",
        "  :param optimizer: optimizer, for e.g. adam, sgd, etc\n",
        "  :param device: cuda/cpu\n",
        "  \"\"\"\n",
        "  # put the model in train mode\n",
        "  model.train()\n",
        "  # scheduler = get_scheduler(optimizer, 'CosineAnnealingWarmRestarts')\n",
        "  # go over every batch of data in data loader\n",
        "  for data in tqdm.tqdm(data_loader):\n",
        "    # remember, we have image and targets\n",
        "    # in our dataset class\n",
        "    inputs = data[\"X\"]\n",
        "    targets = data[\"targets\"]\n",
        "    \n",
        "    # move inputs/targets to cuda/cpu device\n",
        "    inputs = inputs.to(device, dtype=torch.float)\n",
        "    targets = targets.to(device, dtype=torch.float)\n",
        "    \n",
        "    # zero grad the optimizer\n",
        "    optimizer.zero_grad()\n",
        "    #do the forward step of model\n",
        "    outputs = model(inputs)\n",
        "    # calculate loss\n",
        "    \n",
        "    loss = nn.CrossEntropyLoss()(outputs,targets.long())\n",
        "    # backward step the loss\n",
        "    loss.backward()\n",
        "    # step optimizer\n",
        "    optimizer.step()\n",
        "    # if you have a scheduler, you either need to\n",
        "    # step it here or you have to step it after\n",
        "    # the epoch. here, we are not using any learning\n",
        "    # rate scheduler\n",
        "  # scheduler.step()\n",
        "    \n",
        "def evaluate_model(data_loader, model, device):\n",
        "  \"\"\"\n",
        "  This function does evaluation for one epoch\n",
        "  :param data_loader: this is the pytorch dataloader\n",
        "  :param model: pytorch model\n",
        "  :param device: cuda/cpu\n",
        "  \"\"\"\n",
        "  # put model in evaluation mode\n",
        "  model.eval()\n",
        "  \n",
        "  # init lists to store targets and outputs\n",
        "  final_targets = []\n",
        "  final_outputs = []\n",
        "  \n",
        "  # we use no_grad context\n",
        "  with torch.no_grad():\n",
        "    for data in tqdm.tqdm(data_loader):\n",
        "      inputs = data[\"X\"]\n",
        "      targets = data[\"targets\"]\n",
        "      inputs = inputs.to(device, dtype=torch.float)\n",
        "      targets = targets.to(device, dtype=torch.float)\n",
        "      \n",
        "      # do the forward step to generate prediction\n",
        "      output = model(inputs)\n",
        "      \n",
        "      # convert targets and outputs to lists\n",
        "      targets = targets.detach().cpu().numpy().tolist()\n",
        "      output = output.detach().cpu().numpy().tolist()\n",
        "      \n",
        "      # extend the original list\n",
        "      final_targets.extend(targets)\n",
        "      final_outputs.extend(output)\n",
        "      \n",
        "  # return final output and final targets\n",
        "  return final_outputs, final_targets\n",
        "\n",
        "import os\n",
        "def save_checkpoint(model, optimizer, path):\n",
        "    if not os.path.exists(os.path.dirname(path)):\n",
        "        print(\"Creating directories on path: `{}`\".format(path))\n",
        "        os.makedirs(os.path.dirname(path))\n",
        "\n",
        "    torch.save({\n",
        "        \"model_state_dict\": model.state_dict(),\n",
        "        \"optimizer_state_dict\": optimizer.state_dict(),\n",
        "    }, path)\n",
        "\n",
        "\n",
        "def load_checkpoint(model, path):\n",
        "    checkpoint = torch.load(path)\n",
        "\n",
        "    model.load_state_dict(checkpoint[\"model_state_dict\"])\n",
        "\n",
        "    optimizer = torch.optim.Adam(model.parameters())\n",
        "    optimizer.load_state_dict(checkpoint[\"optimizer_state_dict\"])\n",
        "\n",
        "    return model, optimizer\n",
        "\n",
        "\n",
        "def save_model(model, path):\n",
        "  if not os.path.exists(os.path.dirname(path)):\n",
        "      print(\"Creating directories on path: `{}`\".format(path))\n",
        "      os.makedirs(os.path.dirname(path))\n",
        "\n",
        "  torch.save({\n",
        "      \"model_state_dict\": model.state_dict(),\n",
        "  }, path)\n",
        "\n",
        "\n",
        "def load_model(model, path):\n",
        "  restore_dict = torch.load(path)\n",
        "\n",
        "  model.load_state_dict(restore_dict[\"model_state_dict\"])\n",
        "  model.eval()\n",
        "\n",
        "  return model\n",
        "\n",
        "from torch.optim.lr_scheduler import CosineAnnealingWarmRestarts, CosineAnnealingLR, ReduceLROnPlateau\n",
        "\n",
        "def get_scheduler(optimizer, scheduler):\n",
        "    if scheduler=='ReduceLROnPlateau':\n",
        "        scheduler = ReduceLROnPlateau(optimizer, mode='min', factor=0.2, patience=4, verbose=True, eps=1e-6)\n",
        "    elif scheduler=='CosineAnnealingLR':\n",
        "        scheduler = CosineAnnealingLR(optimizer, T_max=10, eta_min=1e-6, last_epoch=-1)\n",
        "    elif scheduler=='CosineAnnealingWarmRestarts':\n",
        "        scheduler = CosineAnnealingWarmRestarts(optimizer, T_0=10, T_mult=1, eta_min=1e-6, last_epoch=-1)\n",
        "    return scheduler"
      ],
      "metadata": {
        "id": "h0rm5B_fZjPq"
      },
      "id": "h0rm5B_fZjPq",
      "execution_count": null,
      "outputs": []
    },
    {
      "cell_type": "code",
      "source": [
        "LSTM_UNITS = 128\n",
        "GRU_UNITS = 128\n",
        "DENSE_HIDDEN_UNITS = 4 * LSTM_UNITS\n",
        "MAX_LEN = 100"
      ],
      "metadata": {
        "id": "n1ul-vmBr0lI"
      },
      "id": "n1ul-vmBr0lI",
      "execution_count": null,
      "outputs": []
    },
    {
      "cell_type": "code",
      "source": [
        "class NeuralNet(nn.Module):\n",
        "    def __init__(self, input_shape, num_aux_targets):\n",
        "        super(NeuralNet, self).__init__()\n",
        "        self.lstm = nn.LSTM(input_shape, LSTM_UNITS, bidirectional=True, batch_first=True)\n",
        "        self.gru = nn.GRU(input_shape, GRU_UNITS, bidirectional=True, batch_first=True)\n",
        "\n",
        "        self.linear1 = nn.Linear(LSTM_UNITS*2, DENSE_HIDDEN_UNITS)\n",
        "        self.linear2 = nn.Linear(GRU_UNITS*2, DENSE_HIDDEN_UNITS)\n",
        "\n",
        "        self.attention = nn.Sequential(            \n",
        "            nn.Linear(DENSE_HIDDEN_UNITS, 256),            \n",
        "            nn.Tanh(),                       \n",
        "            nn.Linear(256, 1),\n",
        "            nn.Softmax(dim=1)\n",
        "        )  \n",
        "        \n",
        "        \n",
        "        self.linear_out = nn.Linear(DENSE_HIDDEN_UNITS, num_aux_targets)\n",
        "        # self.linear_aux_out = nn.Linear(DENSE_HIDDEN_UNITS, num_aux_targets)\n",
        "        \n",
        "    def forward(self, x):\n",
        "        x = x.view((-1,1,100))\n",
        "        h_lstm, _ = self.lstm(x)\n",
        "        h_gru, _ = self.gru(x)\n",
        "        \n",
        "        h_lstm = h_lstm.squeeze()\n",
        "        h_gru = h_gru.squeeze()\n",
        "\n",
        "        # global average pooling\n",
        "        # avg_pool = torch.mean(h_lstm2, 1)\n",
        "        # global max pooling\n",
        "        # max_pool, _ = torch.max(h_lstm2, 1)\n",
        "        \n",
        "        # h_conc = torch.cat((max_pool, avg_pool), 1)\n",
        "        h_conc_linear1  = F.relu(self.linear1(h_lstm))\n",
        "        h_conc_linear2  = F.relu(self.linear2(h_gru))\n",
        "        \n",
        "        hidden = (h_conc_linear1 + h_conc_linear2)/2\n",
        "      \n",
        "        weights = self.attention(hidden)\n",
        "\n",
        "        context_vector = weights * hidden      \n",
        "        \n",
        "        # print(context_vector.shape)\n",
        "        # print(weights.shape)\n",
        "        # print(hidden.shape)\n",
        "\n",
        "        results = self.linear_out(context_vector)\n",
        "\n",
        "        return nn.Softmax(dim=1)(results)"
      ],
      "metadata": {
        "id": "xbnbfhIMZpBD"
      },
      "id": "xbnbfhIMZpBD",
      "execution_count": null,
      "outputs": []
    },
    {
      "cell_type": "code",
      "source": [
        "import pickle\n",
        "from sklearn.model_selection import StratifiedKFold"
      ],
      "metadata": {
        "id": "rBQKQgvlGPnw"
      },
      "id": "rBQKQgvlGPnw",
      "execution_count": null,
      "outputs": []
    },
    {
      "cell_type": "code",
      "source": [
        "class Dataset:\n",
        "  def __init__(self, X, targets):\n",
        "    self.X = X\n",
        "    self.target = targets\n",
        "    \n",
        "  def __len__(self):\n",
        "    return len(self.X)\n",
        "    \n",
        "  def __getitem__(self, item):\n",
        "    X = self.X[item, :]\n",
        "    target = self.target[item]\n",
        "    return {\n",
        "      \"X\": torch.tensor(X, dtype=torch.float),\n",
        "      \"targets\": torch.tensor(target, dtype=torch.float)\n",
        "    }"
      ],
      "metadata": {
        "id": "dQ3OFxk0eiAN"
      },
      "id": "dQ3OFxk0eiAN",
      "execution_count": null,
      "outputs": []
    },
    {
      "cell_type": "code",
      "source": [
        "epochs = 50\n",
        "device = 'cuda'"
      ],
      "metadata": {
        "id": "GL8pQZJ_fXI8"
      },
      "id": "GL8pQZJ_fXI8",
      "execution_count": null,
      "outputs": []
    },
    {
      "cell_type": "code",
      "source": [
        "from xgboost import XGBClassifier\n",
        "from sklearn.ensemble import RandomForestClassifier"
      ],
      "metadata": {
        "id": "SJREKXmZn5CR"
      },
      "id": "SJREKXmZn5CR",
      "execution_count": null,
      "outputs": []
    },
    {
      "cell_type": "code",
      "source": [
        "from sklearn import metrics"
      ],
      "metadata": {
        "id": "sQb5ecA_iKdC"
      },
      "id": "sQb5ecA_iKdC",
      "execution_count": null,
      "outputs": []
    },
    {
      "cell_type": "code",
      "source": [
        "i = 0\n",
        "fold = 4\n",
        "logloss_list, f1_list, recall_list, precision_list, accuracy_list = [], [], [], [], [] \n",
        "for tr_in, val_in in StratifiedKFold(n_splits=5, shuffle=True).split(df, df['Family']):\n",
        "  x_train = df.drop([0, 'Family'],axis=1).loc[tr_in, :]\n",
        "  x_test = df.drop([0, 'Family'],axis=1).loc[val_in, :]\n",
        "  y_train = df.loc[tr_in, 'Family']\n",
        "  y_test = df.loc[val_in, 'Family']\n",
        "\n",
        "  xx_train = Xx.loc[tr_in, :]\n",
        "  xx_test = Xx.loc[val_in, :]\n",
        "\n",
        "  model = NeuralNet(100, 9).to(device)\n",
        "\n",
        "  train_dataset = Dataset(\n",
        "    x_train.values,\n",
        "    y_train.values\n",
        "  )\n",
        "  train_loader = torch.utils.data.DataLoader(\n",
        "    train_dataset, batch_size=64, shuffle=True, num_workers=4\n",
        "  )\n",
        "\n",
        "  valid_dataset = Dataset(\n",
        "    x_test.values,\n",
        "    y_test.values\n",
        "  )\n",
        "\n",
        "  valid_loader = torch.utils.data.DataLoader(\n",
        "    valid_dataset, batch_size=64, shuffle=False, num_workers=4\n",
        "  )\n",
        "  optimizer = torch.optim.Adam(model.parameters(), lr=5e-4)\n",
        "\n",
        "  lgbm = LGBMClassifier(n_jobs=-1)\n",
        "  xgb = XGBClassifier(n_jobs=-1)\n",
        "\n",
        "  lgbm.fit(xx_train.values, y_train.values)\n",
        "  xgb.fit(xx_train.values, y_train.values)\n",
        "\n",
        "  pickle.dump(lgbm, open(f'./lgbm_fold{i}.b5', 'wb'))\n",
        "  pickle.dump(xgb, open(f'./xgb_fold{i}.b5', 'wb'))\n",
        "\n",
        "  best_logloss = 10\n",
        "  for epoch in range(epochs):\n",
        "      train_model(train_loader, model, optimizer, device=device)\n",
        "\n",
        "      predictions, valid_targets = evaluate_model(\n",
        "        valid_loader, model, device=device\n",
        "      )\n",
        "      \n",
        "      lgbm_preds = lgbm.predict_proba(xx_test.values)\n",
        "      xgb_preds = xgb.predict_proba(xx_test.values)\n",
        "\n",
        "      predictions = (np.array(predictions) * 0.05 + lgbm_preds * 0.45 + xgb_preds * 0.4)\n",
        "\n",
        "      logloss = metrics.log_loss(valid_targets, predictions)\n",
        "      f1 = metrics.f1_score(valid_targets, np.array(predictions).argmax(axis=1), average='micro')\n",
        "      recall = metrics.recall_score(valid_targets, np.array(predictions).argmax(axis=1), average='micro')\n",
        "      precision = metrics.precision_score(valid_targets, np.array(predictions).argmax(axis=1), average='micro')\n",
        "      accuracy = metrics.accuracy_score(valid_targets, np.array(predictions).argmax(axis=1))\n",
        "\n",
        "      logloss_list.append(logloss)\n",
        "      f1_list.append(f1)\n",
        "      recall_list.append(recall)\n",
        "      precision_list.append(precision)\n",
        "      accuracy_list.append(accuracy)\n",
        "\n",
        "      print(\n",
        "        f\"Epoch={epoch} \\nValidation: = Logloss: {logloss} F1: {f1} Recall: {recall} Precision: {precision} Accuracy: {accuracy}\"\n",
        "      )\n",
        "      if logloss < best_logloss:\n",
        "        save_checkpoint(model, optimizer, f'./model_fold{i}_{epoch}.pth')\n",
        "        best_logloss = logloss\n",
        "  i += 1"
      ],
      "metadata": {
        "id": "ra_h5iIcbQW5",
        "colab": {
          "base_uri": "https://localhost:8080/"
        },
        "outputId": "370cf14f-4ec4-419a-8d8b-dfdf81c31dfc"
      },
      "id": "ra_h5iIcbQW5",
      "execution_count": null,
      "outputs": [
        {
          "output_type": "stream",
          "name": "stderr",
          "text": [
            "100%|██████████| 136/136 [00:01<00:00, 71.58it/s]\n",
            "100%|██████████| 34/34 [00:00<00:00, 68.56it/s]\n"
          ]
        },
        {
          "output_type": "stream",
          "name": "stdout",
          "text": [
            "Epoch=0 \n",
            "Validation: = Logloss: 0.06343739350980468 F1: 0.9885004599816007 Recall: 0.9885004599816007 Precision: 0.9885004599816007 Accuracy: 0.9885004599816007\n"
          ]
        },
        {
          "output_type": "stream",
          "name": "stderr",
          "text": [
            "100%|██████████| 136/136 [00:01<00:00, 70.87it/s]\n",
            "100%|██████████| 34/34 [00:00<00:00, 73.11it/s]\n"
          ]
        },
        {
          "output_type": "stream",
          "name": "stdout",
          "text": [
            "Epoch=1 \n",
            "Validation: = Logloss: 0.06130940825655613 F1: 0.9885004599816007 Recall: 0.9885004599816007 Precision: 0.9885004599816007 Accuracy: 0.9885004599816007\n"
          ]
        },
        {
          "output_type": "stream",
          "name": "stderr",
          "text": [
            "100%|██████████| 136/136 [00:01<00:00, 75.22it/s]\n",
            "100%|██████████| 34/34 [00:00<00:00, 74.76it/s] \n"
          ]
        },
        {
          "output_type": "stream",
          "name": "stdout",
          "text": [
            "Epoch=2 \n",
            "Validation: = Logloss: 0.06080868447424478 F1: 0.9885004599816007 Recall: 0.9885004599816007 Precision: 0.9885004599816007 Accuracy: 0.9885004599816007\n"
          ]
        },
        {
          "output_type": "stream",
          "name": "stderr",
          "text": [
            "100%|██████████| 136/136 [00:01<00:00, 78.11it/s]\n",
            "100%|██████████| 34/34 [00:00<00:00, 74.30it/s]\n"
          ]
        },
        {
          "output_type": "stream",
          "name": "stdout",
          "text": [
            "Epoch=3 \n",
            "Validation: = Logloss: 0.058039584485365114 F1: 0.9885004599816007 Recall: 0.9885004599816007 Precision: 0.9885004599816007 Accuracy: 0.9885004599816007\n"
          ]
        },
        {
          "output_type": "stream",
          "name": "stderr",
          "text": [
            "100%|██████████| 136/136 [00:01<00:00, 78.39it/s]\n",
            "100%|██████████| 34/34 [00:00<00:00, 75.98it/s]\n"
          ]
        },
        {
          "output_type": "stream",
          "name": "stdout",
          "text": [
            "Epoch=4 \n",
            "Validation: = Logloss: 0.0576685058272393 F1: 0.9885004599816007 Recall: 0.9885004599816007 Precision: 0.9885004599816007 Accuracy: 0.9885004599816007\n"
          ]
        },
        {
          "output_type": "stream",
          "name": "stderr",
          "text": [
            "100%|██████████| 136/136 [00:01<00:00, 76.86it/s]\n",
            "100%|██████████| 34/34 [00:00<00:00, 71.17it/s]\n"
          ]
        },
        {
          "output_type": "stream",
          "name": "stdout",
          "text": [
            "Epoch=5 \n",
            "Validation: = Logloss: 0.057209968080577565 F1: 0.9885004599816007 Recall: 0.9885004599816007 Precision: 0.9885004599816007 Accuracy: 0.9885004599816007\n"
          ]
        },
        {
          "output_type": "stream",
          "name": "stderr",
          "text": [
            "100%|██████████| 136/136 [00:01<00:00, 74.74it/s]\n",
            "100%|██████████| 34/34 [00:00<00:00, 74.22it/s]\n"
          ]
        },
        {
          "output_type": "stream",
          "name": "stdout",
          "text": [
            "Epoch=6 \n",
            "Validation: = Logloss: 0.05727039815839721 F1: 0.9885004599816007 Recall: 0.9885004599816007 Precision: 0.9885004599816007 Accuracy: 0.9885004599816007\n"
          ]
        },
        {
          "output_type": "stream",
          "name": "stderr",
          "text": [
            "100%|██████████| 136/136 [00:01<00:00, 75.33it/s]\n",
            "100%|██████████| 34/34 [00:00<00:00, 72.28it/s]\n"
          ]
        },
        {
          "output_type": "stream",
          "name": "stdout",
          "text": [
            "Epoch=7 \n",
            "Validation: = Logloss: 0.05704496848295257 F1: 0.9885004599816007 Recall: 0.9885004599816007 Precision: 0.9885004599816007 Accuracy: 0.9885004599816007\n"
          ]
        },
        {
          "output_type": "stream",
          "name": "stderr",
          "text": [
            "100%|██████████| 136/136 [00:01<00:00, 79.32it/s]\n",
            "100%|██████████| 34/34 [00:00<00:00, 73.87it/s]\n"
          ]
        },
        {
          "output_type": "stream",
          "name": "stdout",
          "text": [
            "Epoch=8 \n",
            "Validation: = Logloss: 0.05692590491061167 F1: 0.9885004599816007 Recall: 0.9885004599816007 Precision: 0.9885004599816007 Accuracy: 0.9885004599816007\n"
          ]
        },
        {
          "output_type": "stream",
          "name": "stderr",
          "text": [
            "100%|██████████| 136/136 [00:01<00:00, 78.77it/s]\n",
            "100%|██████████| 34/34 [00:00<00:00, 71.80it/s]\n"
          ]
        },
        {
          "output_type": "stream",
          "name": "stdout",
          "text": [
            "Epoch=9 \n",
            "Validation: = Logloss: 0.0569034824177584 F1: 0.9885004599816007 Recall: 0.9885004599816007 Precision: 0.9885004599816007 Accuracy: 0.9885004599816007\n"
          ]
        },
        {
          "output_type": "stream",
          "name": "stderr",
          "text": [
            "100%|██████████| 136/136 [00:01<00:00, 77.67it/s]\n",
            "100%|██████████| 34/34 [00:00<00:00, 74.89it/s] \n"
          ]
        },
        {
          "output_type": "stream",
          "name": "stdout",
          "text": [
            "Epoch=10 \n",
            "Validation: = Logloss: 0.05666524812028956 F1: 0.9885004599816007 Recall: 0.9885004599816007 Precision: 0.9885004599816007 Accuracy: 0.9885004599816007\n"
          ]
        },
        {
          "output_type": "stream",
          "name": "stderr",
          "text": [
            "100%|██████████| 136/136 [00:01<00:00, 77.99it/s]\n",
            "100%|██████████| 34/34 [00:00<00:00, 73.34it/s]\n"
          ]
        },
        {
          "output_type": "stream",
          "name": "stdout",
          "text": [
            "Epoch=11 \n",
            "Validation: = Logloss: 0.0563947868529875 F1: 0.9885004599816007 Recall: 0.9885004599816007 Precision: 0.9885004599816007 Accuracy: 0.9885004599816007\n"
          ]
        },
        {
          "output_type": "stream",
          "name": "stderr",
          "text": [
            "100%|██████████| 136/136 [00:01<00:00, 77.10it/s]\n",
            "100%|██████████| 34/34 [00:00<00:00, 73.02it/s]\n"
          ]
        },
        {
          "output_type": "stream",
          "name": "stdout",
          "text": [
            "Epoch=12 \n",
            "Validation: = Logloss: 0.056657852681411956 F1: 0.9885004599816007 Recall: 0.9885004599816007 Precision: 0.9885004599816007 Accuracy: 0.9885004599816007\n"
          ]
        },
        {
          "output_type": "stream",
          "name": "stderr",
          "text": [
            "100%|██████████| 136/136 [00:01<00:00, 77.21it/s]\n",
            "100%|██████████| 34/34 [00:00<00:00, 73.56it/s]\n"
          ]
        },
        {
          "output_type": "stream",
          "name": "stdout",
          "text": [
            "Epoch=13 \n",
            "Validation: = Logloss: 0.056752062915389374 F1: 0.9885004599816007 Recall: 0.9885004599816007 Precision: 0.9885004599816007 Accuracy: 0.9885004599816007\n"
          ]
        },
        {
          "output_type": "stream",
          "name": "stderr",
          "text": [
            "100%|██████████| 136/136 [00:01<00:00, 76.97it/s]\n",
            "100%|██████████| 34/34 [00:00<00:00, 73.60it/s]\n"
          ]
        },
        {
          "output_type": "stream",
          "name": "stdout",
          "text": [
            "Epoch=14 \n",
            "Validation: = Logloss: 0.05617456538426548 F1: 0.9885004599816007 Recall: 0.9885004599816007 Precision: 0.9885004599816007 Accuracy: 0.9885004599816007\n"
          ]
        },
        {
          "output_type": "stream",
          "name": "stderr",
          "text": [
            "100%|██████████| 136/136 [00:01<00:00, 75.94it/s]\n",
            "100%|██████████| 34/34 [00:00<00:00, 73.37it/s]\n"
          ]
        },
        {
          "output_type": "stream",
          "name": "stdout",
          "text": [
            "Epoch=15 \n",
            "Validation: = Logloss: 0.055828185373821636 F1: 0.9885004599816007 Recall: 0.9885004599816007 Precision: 0.9885004599816007 Accuracy: 0.9885004599816007\n"
          ]
        },
        {
          "output_type": "stream",
          "name": "stderr",
          "text": [
            "100%|██████████| 136/136 [00:01<00:00, 71.86it/s]\n",
            "100%|██████████| 34/34 [00:00<00:00, 48.75it/s]\n"
          ]
        },
        {
          "output_type": "stream",
          "name": "stdout",
          "text": [
            "Epoch=16 \n",
            "Validation: = Logloss: 0.05587201353731606 F1: 0.9885004599816007 Recall: 0.9885004599816007 Precision: 0.9885004599816007 Accuracy: 0.9885004599816007\n"
          ]
        },
        {
          "output_type": "stream",
          "name": "stderr",
          "text": [
            "100%|██████████| 136/136 [00:01<00:00, 72.92it/s]\n",
            "100%|██████████| 34/34 [00:00<00:00, 71.65it/s]\n"
          ]
        },
        {
          "output_type": "stream",
          "name": "stdout",
          "text": [
            "Epoch=17 \n",
            "Validation: = Logloss: 0.056023323237911066 F1: 0.9885004599816007 Recall: 0.9885004599816007 Precision: 0.9885004599816007 Accuracy: 0.9885004599816007\n"
          ]
        },
        {
          "output_type": "stream",
          "name": "stderr",
          "text": [
            "100%|██████████| 136/136 [00:01<00:00, 76.25it/s]\n",
            "100%|██████████| 34/34 [00:00<00:00, 73.44it/s]\n"
          ]
        },
        {
          "output_type": "stream",
          "name": "stdout",
          "text": [
            "Epoch=18 \n",
            "Validation: = Logloss: 0.05594086183882249 F1: 0.9885004599816007 Recall: 0.9885004599816007 Precision: 0.9885004599816007 Accuracy: 0.9885004599816007\n"
          ]
        },
        {
          "output_type": "stream",
          "name": "stderr",
          "text": [
            "100%|██████████| 136/136 [00:01<00:00, 72.83it/s]\n",
            "100%|██████████| 34/34 [00:00<00:00, 74.03it/s]\n"
          ]
        },
        {
          "output_type": "stream",
          "name": "stdout",
          "text": [
            "Epoch=19 \n",
            "Validation: = Logloss: 0.05584577575231085 F1: 0.9885004599816007 Recall: 0.9885004599816007 Precision: 0.9885004599816007 Accuracy: 0.9885004599816007\n"
          ]
        },
        {
          "output_type": "stream",
          "name": "stderr",
          "text": [
            "100%|██████████| 136/136 [00:01<00:00, 75.00it/s]\n",
            "100%|██████████| 34/34 [00:00<00:00, 71.31it/s]\n"
          ]
        },
        {
          "output_type": "stream",
          "name": "stdout",
          "text": [
            "Epoch=20 \n",
            "Validation: = Logloss: 0.05597294280848651 F1: 0.9885004599816007 Recall: 0.9885004599816007 Precision: 0.9885004599816007 Accuracy: 0.9885004599816007\n"
          ]
        },
        {
          "output_type": "stream",
          "name": "stderr",
          "text": [
            "100%|██████████| 136/136 [00:01<00:00, 72.92it/s]\n",
            "100%|██████████| 34/34 [00:00<00:00, 72.06it/s]\n"
          ]
        },
        {
          "output_type": "stream",
          "name": "stdout",
          "text": [
            "Epoch=21 \n",
            "Validation: = Logloss: 0.05643730005929884 F1: 0.9885004599816007 Recall: 0.9885004599816007 Precision: 0.9885004599816007 Accuracy: 0.9885004599816007\n"
          ]
        },
        {
          "output_type": "stream",
          "name": "stderr",
          "text": [
            "100%|██████████| 136/136 [00:01<00:00, 77.77it/s]\n",
            "100%|██████████| 34/34 [00:00<00:00, 73.58it/s]\n"
          ]
        },
        {
          "output_type": "stream",
          "name": "stdout",
          "text": [
            "Epoch=22 \n",
            "Validation: = Logloss: 0.05628999475190963 F1: 0.9885004599816007 Recall: 0.9885004599816007 Precision: 0.9885004599816007 Accuracy: 0.9885004599816007\n"
          ]
        },
        {
          "output_type": "stream",
          "name": "stderr",
          "text": [
            "100%|██████████| 136/136 [00:01<00:00, 77.75it/s]\n",
            "100%|██████████| 34/34 [00:00<00:00, 70.84it/s]\n"
          ]
        },
        {
          "output_type": "stream",
          "name": "stdout",
          "text": [
            "Epoch=23 \n",
            "Validation: = Logloss: 0.056403561206814855 F1: 0.9885004599816007 Recall: 0.9885004599816007 Precision: 0.9885004599816007 Accuracy: 0.9885004599816007\n"
          ]
        },
        {
          "output_type": "stream",
          "name": "stderr",
          "text": [
            "100%|██████████| 136/136 [00:01<00:00, 77.64it/s]\n",
            "100%|██████████| 34/34 [00:00<00:00, 75.11it/s] \n"
          ]
        },
        {
          "output_type": "stream",
          "name": "stdout",
          "text": [
            "Epoch=24 \n",
            "Validation: = Logloss: 0.056336164911810226 F1: 0.9885004599816007 Recall: 0.9885004599816007 Precision: 0.9885004599816007 Accuracy: 0.9885004599816007\n"
          ]
        },
        {
          "output_type": "stream",
          "name": "stderr",
          "text": [
            "100%|██████████| 136/136 [00:01<00:00, 71.97it/s]\n",
            "100%|██████████| 34/34 [00:00<00:00, 69.49it/s]\n"
          ]
        },
        {
          "output_type": "stream",
          "name": "stdout",
          "text": [
            "Epoch=25 \n",
            "Validation: = Logloss: 0.05609157745978098 F1: 0.9885004599816007 Recall: 0.9885004599816007 Precision: 0.9885004599816007 Accuracy: 0.9885004599816007\n"
          ]
        },
        {
          "output_type": "stream",
          "name": "stderr",
          "text": [
            "100%|██████████| 136/136 [00:01<00:00, 74.56it/s]\n",
            "100%|██████████| 34/34 [00:00<00:00, 73.69it/s]\n"
          ]
        },
        {
          "output_type": "stream",
          "name": "stdout",
          "text": [
            "Epoch=26 \n",
            "Validation: = Logloss: 0.0565396792451591 F1: 0.9885004599816007 Recall: 0.9885004599816007 Precision: 0.9885004599816007 Accuracy: 0.9885004599816007\n"
          ]
        },
        {
          "output_type": "stream",
          "name": "stderr",
          "text": [
            "100%|██████████| 136/136 [00:01<00:00, 78.19it/s]\n",
            "100%|██████████| 34/34 [00:00<00:00, 73.50it/s]\n"
          ]
        },
        {
          "output_type": "stream",
          "name": "stdout",
          "text": [
            "Epoch=27 \n",
            "Validation: = Logloss: 0.05613028171507019 F1: 0.9885004599816007 Recall: 0.9885004599816007 Precision: 0.9885004599816007 Accuracy: 0.9885004599816007\n"
          ]
        },
        {
          "output_type": "stream",
          "name": "stderr",
          "text": [
            "100%|██████████| 136/136 [00:01<00:00, 75.83it/s]\n",
            "100%|██████████| 34/34 [00:00<00:00, 74.25it/s]\n"
          ]
        },
        {
          "output_type": "stream",
          "name": "stdout",
          "text": [
            "Epoch=28 \n",
            "Validation: = Logloss: 0.05612702635816886 F1: 0.9885004599816007 Recall: 0.9885004599816007 Precision: 0.9885004599816007 Accuracy: 0.9885004599816007\n"
          ]
        },
        {
          "output_type": "stream",
          "name": "stderr",
          "text": [
            "100%|██████████| 136/136 [00:01<00:00, 75.98it/s]\n",
            "100%|██████████| 34/34 [00:00<00:00, 73.91it/s]\n"
          ]
        },
        {
          "output_type": "stream",
          "name": "stdout",
          "text": [
            "Epoch=29 \n",
            "Validation: = Logloss: 0.05609241034948185 F1: 0.9885004599816007 Recall: 0.9885004599816007 Precision: 0.9885004599816007 Accuracy: 0.9885004599816007\n"
          ]
        },
        {
          "output_type": "stream",
          "name": "stderr",
          "text": [
            "100%|██████████| 136/136 [00:01<00:00, 77.65it/s]\n",
            "100%|██████████| 34/34 [00:00<00:00, 73.33it/s]\n"
          ]
        },
        {
          "output_type": "stream",
          "name": "stdout",
          "text": [
            "Epoch=30 \n",
            "Validation: = Logloss: 0.05626405630498759 F1: 0.9885004599816007 Recall: 0.9885004599816007 Precision: 0.9885004599816007 Accuracy: 0.9885004599816007\n"
          ]
        },
        {
          "output_type": "stream",
          "name": "stderr",
          "text": [
            "100%|██████████| 136/136 [00:01<00:00, 76.72it/s]\n",
            "100%|██████████| 34/34 [00:00<00:00, 71.38it/s]\n"
          ]
        },
        {
          "output_type": "stream",
          "name": "stdout",
          "text": [
            "Epoch=31 \n",
            "Validation: = Logloss: 0.05597252416531836 F1: 0.9885004599816007 Recall: 0.9885004599816007 Precision: 0.9885004599816007 Accuracy: 0.9885004599816007\n"
          ]
        },
        {
          "output_type": "stream",
          "name": "stderr",
          "text": [
            "100%|██████████| 136/136 [00:01<00:00, 76.58it/s]\n",
            "100%|██████████| 34/34 [00:00<00:00, 71.27it/s]\n"
          ]
        },
        {
          "output_type": "stream",
          "name": "stdout",
          "text": [
            "Epoch=32 \n",
            "Validation: = Logloss: 0.056029300547024395 F1: 0.9885004599816007 Recall: 0.9885004599816007 Precision: 0.9885004599816007 Accuracy: 0.9885004599816007\n"
          ]
        },
        {
          "output_type": "stream",
          "name": "stderr",
          "text": [
            "100%|██████████| 136/136 [00:01<00:00, 77.04it/s]\n",
            "100%|██████████| 34/34 [00:00<00:00, 74.96it/s]\n"
          ]
        },
        {
          "output_type": "stream",
          "name": "stdout",
          "text": [
            "Epoch=33 \n",
            "Validation: = Logloss: 0.056170968053183334 F1: 0.9885004599816007 Recall: 0.9885004599816007 Precision: 0.9885004599816007 Accuracy: 0.9885004599816007\n"
          ]
        },
        {
          "output_type": "stream",
          "name": "stderr",
          "text": [
            "100%|██████████| 136/136 [00:01<00:00, 78.43it/s]\n",
            "100%|██████████| 34/34 [00:00<00:00, 73.01it/s]\n"
          ]
        },
        {
          "output_type": "stream",
          "name": "stdout",
          "text": [
            "Epoch=34 \n",
            "Validation: = Logloss: 0.056119050326421345 F1: 0.9885004599816007 Recall: 0.9885004599816007 Precision: 0.9885004599816007 Accuracy: 0.9885004599816007\n"
          ]
        },
        {
          "output_type": "stream",
          "name": "stderr",
          "text": [
            "100%|██████████| 136/136 [00:01<00:00, 78.35it/s]\n",
            "100%|██████████| 34/34 [00:00<00:00, 73.59it/s]\n"
          ]
        },
        {
          "output_type": "stream",
          "name": "stdout",
          "text": [
            "Epoch=35 \n",
            "Validation: = Logloss: 0.0561209960417996 F1: 0.9885004599816007 Recall: 0.9885004599816007 Precision: 0.9885004599816007 Accuracy: 0.9885004599816007\n"
          ]
        },
        {
          "output_type": "stream",
          "name": "stderr",
          "text": [
            "100%|██████████| 136/136 [00:01<00:00, 77.38it/s]\n",
            "100%|██████████| 34/34 [00:00<00:00, 73.68it/s]\n"
          ]
        },
        {
          "output_type": "stream",
          "name": "stdout",
          "text": [
            "Epoch=36 \n",
            "Validation: = Logloss: 0.0561927182181566 F1: 0.9885004599816007 Recall: 0.9885004599816007 Precision: 0.9885004599816007 Accuracy: 0.9885004599816007\n"
          ]
        },
        {
          "output_type": "stream",
          "name": "stderr",
          "text": [
            "100%|██████████| 136/136 [00:01<00:00, 77.83it/s]\n",
            "100%|██████████| 34/34 [00:00<00:00, 71.46it/s]\n"
          ]
        },
        {
          "output_type": "stream",
          "name": "stdout",
          "text": [
            "Epoch=37 \n",
            "Validation: = Logloss: 0.056134387231168856 F1: 0.9885004599816007 Recall: 0.9885004599816007 Precision: 0.9885004599816007 Accuracy: 0.9885004599816007\n"
          ]
        },
        {
          "output_type": "stream",
          "name": "stderr",
          "text": [
            "100%|██████████| 136/136 [00:01<00:00, 79.14it/s]\n",
            "100%|██████████| 34/34 [00:00<00:00, 73.99it/s]\n"
          ]
        },
        {
          "output_type": "stream",
          "name": "stdout",
          "text": [
            "Epoch=38 \n",
            "Validation: = Logloss: 0.05604815386932557 F1: 0.9885004599816007 Recall: 0.9885004599816007 Precision: 0.9885004599816007 Accuracy: 0.9885004599816007\n"
          ]
        },
        {
          "output_type": "stream",
          "name": "stderr",
          "text": [
            "100%|██████████| 136/136 [00:01<00:00, 79.53it/s]\n",
            "100%|██████████| 34/34 [00:00<00:00, 73.08it/s]\n"
          ]
        },
        {
          "output_type": "stream",
          "name": "stdout",
          "text": [
            "Epoch=39 \n",
            "Validation: = Logloss: 0.05654790458792081 F1: 0.9885004599816007 Recall: 0.9885004599816007 Precision: 0.9885004599816007 Accuracy: 0.9885004599816007\n"
          ]
        },
        {
          "output_type": "stream",
          "name": "stderr",
          "text": [
            "100%|██████████| 136/136 [00:01<00:00, 77.79it/s]\n",
            "100%|██████████| 34/34 [00:00<00:00, 62.62it/s]\n"
          ]
        },
        {
          "output_type": "stream",
          "name": "stdout",
          "text": [
            "Epoch=40 \n",
            "Validation: = Logloss: 0.055943323323629876 F1: 0.9885004599816007 Recall: 0.9885004599816007 Precision: 0.9885004599816007 Accuracy: 0.9885004599816007\n"
          ]
        },
        {
          "output_type": "stream",
          "name": "stderr",
          "text": [
            "100%|██████████| 136/136 [00:01<00:00, 72.55it/s]\n",
            "100%|██████████| 34/34 [00:00<00:00, 71.17it/s]\n"
          ]
        },
        {
          "output_type": "stream",
          "name": "stdout",
          "text": [
            "Epoch=41 \n",
            "Validation: = Logloss: 0.0559808419918223 F1: 0.9885004599816007 Recall: 0.9885004599816007 Precision: 0.9885004599816007 Accuracy: 0.9885004599816007\n"
          ]
        },
        {
          "output_type": "stream",
          "name": "stderr",
          "text": [
            "100%|██████████| 136/136 [00:01<00:00, 74.24it/s]\n",
            "100%|██████████| 34/34 [00:00<00:00, 72.25it/s]\n"
          ]
        },
        {
          "output_type": "stream",
          "name": "stdout",
          "text": [
            "Epoch=42 \n",
            "Validation: = Logloss: 0.05597347157963038 F1: 0.9885004599816007 Recall: 0.9885004599816007 Precision: 0.9885004599816007 Accuracy: 0.9885004599816007\n"
          ]
        },
        {
          "output_type": "stream",
          "name": "stderr",
          "text": [
            "100%|██████████| 136/136 [00:01<00:00, 75.94it/s]\n",
            "100%|██████████| 34/34 [00:00<00:00, 65.50it/s]\n"
          ]
        },
        {
          "output_type": "stream",
          "name": "stdout",
          "text": [
            "Epoch=43 \n",
            "Validation: = Logloss: 0.056277376605715135 F1: 0.9885004599816007 Recall: 0.9885004599816007 Precision: 0.9885004599816007 Accuracy: 0.9885004599816007\n"
          ]
        },
        {
          "output_type": "stream",
          "name": "stderr",
          "text": [
            "100%|██████████| 136/136 [00:01<00:00, 75.07it/s]\n",
            "100%|██████████| 34/34 [00:00<00:00, 71.00it/s]\n"
          ]
        },
        {
          "output_type": "stream",
          "name": "stdout",
          "text": [
            "Epoch=44 \n",
            "Validation: = Logloss: 0.05598954113740929 F1: 0.9885004599816007 Recall: 0.9885004599816007 Precision: 0.9885004599816007 Accuracy: 0.9885004599816007\n"
          ]
        },
        {
          "output_type": "stream",
          "name": "stderr",
          "text": [
            "100%|██████████| 136/136 [00:01<00:00, 74.67it/s]\n",
            "100%|██████████| 34/34 [00:00<00:00, 69.79it/s]\n"
          ]
        },
        {
          "output_type": "stream",
          "name": "stdout",
          "text": [
            "Epoch=45 \n",
            "Validation: = Logloss: 0.055900799565728146 F1: 0.9885004599816007 Recall: 0.9885004599816007 Precision: 0.9885004599816007 Accuracy: 0.9885004599816007\n"
          ]
        },
        {
          "output_type": "stream",
          "name": "stderr",
          "text": [
            "100%|██████████| 136/136 [00:01<00:00, 75.00it/s]\n",
            "100%|██████████| 34/34 [00:00<00:00, 71.89it/s]\n"
          ]
        },
        {
          "output_type": "stream",
          "name": "stdout",
          "text": [
            "Epoch=46 \n",
            "Validation: = Logloss: 0.05591361110002767 F1: 0.9885004599816007 Recall: 0.9885004599816007 Precision: 0.9885004599816007 Accuracy: 0.9885004599816007\n"
          ]
        },
        {
          "output_type": "stream",
          "name": "stderr",
          "text": [
            "100%|██████████| 136/136 [00:01<00:00, 78.46it/s]\n",
            "100%|██████████| 34/34 [00:00<00:00, 70.07it/s]\n"
          ]
        },
        {
          "output_type": "stream",
          "name": "stdout",
          "text": [
            "Epoch=47 \n",
            "Validation: = Logloss: 0.05607335997869936 F1: 0.9885004599816007 Recall: 0.9885004599816007 Precision: 0.9885004599816007 Accuracy: 0.9885004599816007\n"
          ]
        },
        {
          "output_type": "stream",
          "name": "stderr",
          "text": [
            "100%|██████████| 136/136 [00:01<00:00, 76.49it/s]\n",
            "100%|██████████| 34/34 [00:00<00:00, 73.79it/s]\n"
          ]
        },
        {
          "output_type": "stream",
          "name": "stdout",
          "text": [
            "Epoch=48 \n",
            "Validation: = Logloss: 0.05614000976065316 F1: 0.9885004599816007 Recall: 0.9885004599816007 Precision: 0.9885004599816007 Accuracy: 0.9885004599816007\n"
          ]
        },
        {
          "output_type": "stream",
          "name": "stderr",
          "text": [
            "100%|██████████| 136/136 [00:01<00:00, 75.11it/s]\n",
            "100%|██████████| 34/34 [00:00<00:00, 66.46it/s]\n"
          ]
        },
        {
          "output_type": "stream",
          "name": "stdout",
          "text": [
            "Epoch=49 \n",
            "Validation: = Logloss: 0.0559394521564516 F1: 0.9885004599816007 Recall: 0.9885004599816007 Precision: 0.9885004599816007 Accuracy: 0.9885004599816007\n"
          ]
        },
        {
          "output_type": "stream",
          "name": "stderr",
          "text": [
            "100%|██████████| 136/136 [00:01<00:00, 69.87it/s]\n",
            "100%|██████████| 34/34 [00:00<00:00, 68.21it/s]\n"
          ]
        },
        {
          "output_type": "stream",
          "name": "stdout",
          "text": [
            "Epoch=0 \n",
            "Validation: = Logloss: 0.05264517967987616 F1: 0.9908003679852806 Recall: 0.9908003679852806 Precision: 0.9908003679852806 Accuracy: 0.9908003679852806\n"
          ]
        },
        {
          "output_type": "stream",
          "name": "stderr",
          "text": [
            "100%|██████████| 136/136 [00:01<00:00, 72.71it/s]\n",
            "100%|██████████| 34/34 [00:00<00:00, 70.22it/s]\n"
          ]
        },
        {
          "output_type": "stream",
          "name": "stdout",
          "text": [
            "Epoch=1 \n",
            "Validation: = Logloss: 0.05093815472787396 F1: 0.9908003679852806 Recall: 0.9908003679852806 Precision: 0.9908003679852806 Accuracy: 0.9908003679852806\n"
          ]
        },
        {
          "output_type": "stream",
          "name": "stderr",
          "text": [
            "100%|██████████| 136/136 [00:01<00:00, 76.18it/s]\n",
            "100%|██████████| 34/34 [00:00<00:00, 68.47it/s]\n"
          ]
        },
        {
          "output_type": "stream",
          "name": "stdout",
          "text": [
            "Epoch=2 \n",
            "Validation: = Logloss: 0.050497894438516884 F1: 0.9908003679852806 Recall: 0.9908003679852806 Precision: 0.9908003679852806 Accuracy: 0.9908003679852806\n"
          ]
        },
        {
          "output_type": "stream",
          "name": "stderr",
          "text": [
            "100%|██████████| 136/136 [00:01<00:00, 74.84it/s]\n",
            "100%|██████████| 34/34 [00:00<00:00, 68.64it/s]\n"
          ]
        },
        {
          "output_type": "stream",
          "name": "stdout",
          "text": [
            "Epoch=3 \n",
            "Validation: = Logloss: 0.046837752728743305 F1: 0.9912603495860166 Recall: 0.9912603495860166 Precision: 0.9912603495860166 Accuracy: 0.9912603495860166\n"
          ]
        },
        {
          "output_type": "stream",
          "name": "stderr",
          "text": [
            "100%|██████████| 136/136 [00:01<00:00, 74.32it/s]\n",
            "100%|██████████| 34/34 [00:00<00:00, 70.46it/s]\n"
          ]
        },
        {
          "output_type": "stream",
          "name": "stdout",
          "text": [
            "Epoch=4 \n",
            "Validation: = Logloss: 0.04627902556898815 F1: 0.9908003679852806 Recall: 0.9908003679852806 Precision: 0.9908003679852806 Accuracy: 0.9908003679852806\n"
          ]
        },
        {
          "output_type": "stream",
          "name": "stderr",
          "text": [
            "100%|██████████| 136/136 [00:01<00:00, 73.14it/s]\n",
            "100%|██████████| 34/34 [00:00<00:00, 73.07it/s]\n"
          ]
        },
        {
          "output_type": "stream",
          "name": "stdout",
          "text": [
            "Epoch=5 \n",
            "Validation: = Logloss: 0.04613505438992358 F1: 0.9908003679852806 Recall: 0.9908003679852806 Precision: 0.9908003679852806 Accuracy: 0.9908003679852806\n"
          ]
        },
        {
          "output_type": "stream",
          "name": "stderr",
          "text": [
            "100%|██████████| 136/136 [00:01<00:00, 77.74it/s]\n",
            "100%|██████████| 34/34 [00:00<00:00, 72.18it/s]\n"
          ]
        },
        {
          "output_type": "stream",
          "name": "stdout",
          "text": [
            "Epoch=6 \n",
            "Validation: = Logloss: 0.04628611879089273 F1: 0.9912603495860166 Recall: 0.9912603495860166 Precision: 0.9912603495860166 Accuracy: 0.9912603495860166\n"
          ]
        },
        {
          "output_type": "stream",
          "name": "stderr",
          "text": [
            "100%|██████████| 136/136 [00:01<00:00, 75.83it/s]\n",
            "100%|██████████| 34/34 [00:00<00:00, 71.78it/s]\n"
          ]
        },
        {
          "output_type": "stream",
          "name": "stdout",
          "text": [
            "Epoch=7 \n",
            "Validation: = Logloss: 0.04586621954901265 F1: 0.9908003679852806 Recall: 0.9908003679852806 Precision: 0.9908003679852806 Accuracy: 0.9908003679852806\n"
          ]
        },
        {
          "output_type": "stream",
          "name": "stderr",
          "text": [
            "100%|██████████| 136/136 [00:01<00:00, 74.57it/s]\n",
            "100%|██████████| 34/34 [00:00<00:00, 67.07it/s]\n"
          ]
        },
        {
          "output_type": "stream",
          "name": "stdout",
          "text": [
            "Epoch=8 \n",
            "Validation: = Logloss: 0.045312530746375076 F1: 0.9912603495860166 Recall: 0.9912603495860166 Precision: 0.9912603495860166 Accuracy: 0.9912603495860166\n"
          ]
        },
        {
          "output_type": "stream",
          "name": "stderr",
          "text": [
            "100%|██████████| 136/136 [00:01<00:00, 70.32it/s]\n",
            "100%|██████████| 34/34 [00:00<00:00, 70.37it/s]\n"
          ]
        },
        {
          "output_type": "stream",
          "name": "stdout",
          "text": [
            "Epoch=9 \n",
            "Validation: = Logloss: 0.045242648022758875 F1: 0.9908003679852806 Recall: 0.9908003679852806 Precision: 0.9908003679852806 Accuracy: 0.9908003679852806\n"
          ]
        },
        {
          "output_type": "stream",
          "name": "stderr",
          "text": [
            "100%|██████████| 136/136 [00:01<00:00, 74.21it/s]\n",
            "100%|██████████| 34/34 [00:00<00:00, 69.53it/s]\n"
          ]
        },
        {
          "output_type": "stream",
          "name": "stdout",
          "text": [
            "Epoch=10 \n",
            "Validation: = Logloss: 0.04528475726355893 F1: 0.9908003679852806 Recall: 0.9908003679852806 Precision: 0.9908003679852806 Accuracy: 0.9908003679852806\n"
          ]
        },
        {
          "output_type": "stream",
          "name": "stderr",
          "text": [
            "100%|██████████| 136/136 [00:01<00:00, 75.32it/s]\n",
            "100%|██████████| 34/34 [00:00<00:00, 72.77it/s]\n"
          ]
        },
        {
          "output_type": "stream",
          "name": "stdout",
          "text": [
            "Epoch=11 \n",
            "Validation: = Logloss: 0.0447542375931383 F1: 0.9908003679852806 Recall: 0.9908003679852806 Precision: 0.9908003679852806 Accuracy: 0.9908003679852806\n"
          ]
        },
        {
          "output_type": "stream",
          "name": "stderr",
          "text": [
            "100%|██████████| 136/136 [00:01<00:00, 76.57it/s]\n",
            "100%|██████████| 34/34 [00:00<00:00, 72.70it/s]\n"
          ]
        },
        {
          "output_type": "stream",
          "name": "stdout",
          "text": [
            "Epoch=12 \n",
            "Validation: = Logloss: 0.04448462166217358 F1: 0.9908003679852806 Recall: 0.9908003679852806 Precision: 0.9908003679852806 Accuracy: 0.9908003679852806\n"
          ]
        },
        {
          "output_type": "stream",
          "name": "stderr",
          "text": [
            "100%|██████████| 136/136 [00:01<00:00, 77.39it/s]\n",
            "100%|██████████| 34/34 [00:00<00:00, 66.12it/s]\n"
          ]
        },
        {
          "output_type": "stream",
          "name": "stdout",
          "text": [
            "Epoch=13 \n",
            "Validation: = Logloss: 0.04461734814688199 F1: 0.9908003679852806 Recall: 0.9908003679852806 Precision: 0.9908003679852806 Accuracy: 0.9908003679852806\n"
          ]
        },
        {
          "output_type": "stream",
          "name": "stderr",
          "text": [
            "100%|██████████| 136/136 [00:01<00:00, 76.26it/s]\n",
            "100%|██████████| 34/34 [00:00<00:00, 70.27it/s]\n"
          ]
        },
        {
          "output_type": "stream",
          "name": "stdout",
          "text": [
            "Epoch=14 \n",
            "Validation: = Logloss: 0.04415766090582387 F1: 0.9908003679852806 Recall: 0.9908003679852806 Precision: 0.9908003679852806 Accuracy: 0.9908003679852806\n"
          ]
        },
        {
          "output_type": "stream",
          "name": "stderr",
          "text": [
            "100%|██████████| 136/136 [00:01<00:00, 76.62it/s]\n",
            "100%|██████████| 34/34 [00:00<00:00, 71.42it/s]\n"
          ]
        },
        {
          "output_type": "stream",
          "name": "stdout",
          "text": [
            "Epoch=15 \n",
            "Validation: = Logloss: 0.04389705299915364 F1: 0.9908003679852806 Recall: 0.9908003679852806 Precision: 0.9908003679852806 Accuracy: 0.9908003679852806\n"
          ]
        },
        {
          "output_type": "stream",
          "name": "stderr",
          "text": [
            "100%|██████████| 136/136 [00:01<00:00, 77.14it/s]\n",
            "100%|██████████| 34/34 [00:00<00:00, 71.02it/s]\n"
          ]
        },
        {
          "output_type": "stream",
          "name": "stdout",
          "text": [
            "Epoch=16 \n",
            "Validation: = Logloss: 0.04380421872455105 F1: 0.9908003679852806 Recall: 0.9908003679852806 Precision: 0.9908003679852806 Accuracy: 0.9908003679852806\n"
          ]
        },
        {
          "output_type": "stream",
          "name": "stderr",
          "text": [
            "100%|██████████| 136/136 [00:01<00:00, 76.81it/s]\n",
            "100%|██████████| 34/34 [00:00<00:00, 72.36it/s]\n"
          ]
        },
        {
          "output_type": "stream",
          "name": "stdout",
          "text": [
            "Epoch=17 \n",
            "Validation: = Logloss: 0.04390283283321359 F1: 0.9912603495860166 Recall: 0.9912603495860166 Precision: 0.9912603495860166 Accuracy: 0.9912603495860166\n"
          ]
        },
        {
          "output_type": "stream",
          "name": "stderr",
          "text": [
            "100%|██████████| 136/136 [00:01<00:00, 75.63it/s]\n",
            "100%|██████████| 34/34 [00:00<00:00, 70.56it/s]\n"
          ]
        },
        {
          "output_type": "stream",
          "name": "stdout",
          "text": [
            "Epoch=18 \n",
            "Validation: = Logloss: 0.04397948408520765 F1: 0.9908003679852806 Recall: 0.9908003679852806 Precision: 0.9908003679852806 Accuracy: 0.9908003679852806\n"
          ]
        },
        {
          "output_type": "stream",
          "name": "stderr",
          "text": [
            "100%|██████████| 136/136 [00:01<00:00, 77.02it/s]\n",
            "100%|██████████| 34/34 [00:00<00:00, 72.57it/s]\n"
          ]
        },
        {
          "output_type": "stream",
          "name": "stdout",
          "text": [
            "Epoch=19 \n",
            "Validation: = Logloss: 0.04363602622719087 F1: 0.9912603495860166 Recall: 0.9912603495860166 Precision: 0.9912603495860166 Accuracy: 0.9912603495860166\n"
          ]
        },
        {
          "output_type": "stream",
          "name": "stderr",
          "text": [
            "100%|██████████| 136/136 [00:01<00:00, 77.00it/s]\n",
            "100%|██████████| 34/34 [00:00<00:00, 71.45it/s]\n"
          ]
        },
        {
          "output_type": "stream",
          "name": "stdout",
          "text": [
            "Epoch=20 \n",
            "Validation: = Logloss: 0.04403978973569218 F1: 0.9912603495860166 Recall: 0.9912603495860166 Precision: 0.9912603495860166 Accuracy: 0.9912603495860166\n"
          ]
        },
        {
          "output_type": "stream",
          "name": "stderr",
          "text": [
            "100%|██████████| 136/136 [00:01<00:00, 76.34it/s]\n",
            "100%|██████████| 34/34 [00:00<00:00, 69.24it/s]\n"
          ]
        },
        {
          "output_type": "stream",
          "name": "stdout",
          "text": [
            "Epoch=21 \n",
            "Validation: = Logloss: 0.044531713956991924 F1: 0.9908003679852806 Recall: 0.9908003679852806 Precision: 0.9908003679852806 Accuracy: 0.9908003679852806\n"
          ]
        },
        {
          "output_type": "stream",
          "name": "stderr",
          "text": [
            "100%|██████████| 136/136 [00:01<00:00, 75.14it/s]\n",
            "100%|██████████| 34/34 [00:00<00:00, 73.09it/s]\n"
          ]
        },
        {
          "output_type": "stream",
          "name": "stdout",
          "text": [
            "Epoch=22 \n",
            "Validation: = Logloss: 0.043341192301259136 F1: 0.9908003679852806 Recall: 0.9908003679852806 Precision: 0.9908003679852806 Accuracy: 0.9908003679852806\n"
          ]
        },
        {
          "output_type": "stream",
          "name": "stderr",
          "text": [
            "100%|██████████| 136/136 [00:01<00:00, 74.70it/s]\n",
            "100%|██████████| 34/34 [00:00<00:00, 59.61it/s]\n"
          ]
        },
        {
          "output_type": "stream",
          "name": "stdout",
          "text": [
            "Epoch=23 \n",
            "Validation: = Logloss: 0.04338825801958903 F1: 0.9908003679852806 Recall: 0.9908003679852806 Precision: 0.9908003679852806 Accuracy: 0.9908003679852806\n"
          ]
        },
        {
          "output_type": "stream",
          "name": "stderr",
          "text": [
            "100%|██████████| 136/136 [00:01<00:00, 71.70it/s]\n",
            "100%|██████████| 34/34 [00:00<00:00, 70.21it/s]\n"
          ]
        },
        {
          "output_type": "stream",
          "name": "stdout",
          "text": [
            "Epoch=24 \n",
            "Validation: = Logloss: 0.04341842323059933 F1: 0.9908003679852806 Recall: 0.9908003679852806 Precision: 0.9908003679852806 Accuracy: 0.9908003679852806\n"
          ]
        },
        {
          "output_type": "stream",
          "name": "stderr",
          "text": [
            "100%|██████████| 136/136 [00:01<00:00, 72.51it/s]\n",
            "100%|██████████| 34/34 [00:00<00:00, 72.66it/s]\n"
          ]
        },
        {
          "output_type": "stream",
          "name": "stdout",
          "text": [
            "Epoch=25 \n",
            "Validation: = Logloss: 0.04344968596232469 F1: 0.9908003679852806 Recall: 0.9908003679852806 Precision: 0.9908003679852806 Accuracy: 0.9908003679852806\n"
          ]
        },
        {
          "output_type": "stream",
          "name": "stderr",
          "text": [
            "100%|██████████| 136/136 [00:01<00:00, 75.32it/s]\n",
            "100%|██████████| 34/34 [00:00<00:00, 63.40it/s]\n"
          ]
        },
        {
          "output_type": "stream",
          "name": "stdout",
          "text": [
            "Epoch=26 \n",
            "Validation: = Logloss: 0.04364901564415505 F1: 0.9908003679852806 Recall: 0.9908003679852806 Precision: 0.9908003679852806 Accuracy: 0.9908003679852806\n"
          ]
        },
        {
          "output_type": "stream",
          "name": "stderr",
          "text": [
            "100%|██████████| 136/136 [00:01<00:00, 71.37it/s]\n",
            "100%|██████████| 34/34 [00:00<00:00, 70.61it/s]\n"
          ]
        },
        {
          "output_type": "stream",
          "name": "stdout",
          "text": [
            "Epoch=27 \n",
            "Validation: = Logloss: 0.04348189963228929 F1: 0.9912603495860166 Recall: 0.9912603495860166 Precision: 0.9912603495860166 Accuracy: 0.9912603495860166\n"
          ]
        },
        {
          "output_type": "stream",
          "name": "stderr",
          "text": [
            "100%|██████████| 136/136 [00:01<00:00, 74.62it/s]\n",
            "100%|██████████| 34/34 [00:00<00:00, 65.10it/s]\n"
          ]
        },
        {
          "output_type": "stream",
          "name": "stdout",
          "text": [
            "Epoch=28 \n",
            "Validation: = Logloss: 0.04333201250966468 F1: 0.9908003679852806 Recall: 0.9908003679852806 Precision: 0.9908003679852806 Accuracy: 0.9908003679852806\n"
          ]
        },
        {
          "output_type": "stream",
          "name": "stderr",
          "text": [
            "100%|██████████| 136/136 [00:01<00:00, 73.86it/s]\n",
            "100%|██████████| 34/34 [00:00<00:00, 69.12it/s]\n"
          ]
        },
        {
          "output_type": "stream",
          "name": "stdout",
          "text": [
            "Epoch=29 \n",
            "Validation: = Logloss: 0.043245981246485106 F1: 0.9908003679852806 Recall: 0.9908003679852806 Precision: 0.9908003679852806 Accuracy: 0.9908003679852806\n"
          ]
        },
        {
          "output_type": "stream",
          "name": "stderr",
          "text": [
            "100%|██████████| 136/136 [00:01<00:00, 76.61it/s]\n",
            "100%|██████████| 34/34 [00:00<00:00, 71.99it/s]\n"
          ]
        },
        {
          "output_type": "stream",
          "name": "stdout",
          "text": [
            "Epoch=30 \n",
            "Validation: = Logloss: 0.04363397056304371 F1: 0.9908003679852806 Recall: 0.9908003679852806 Precision: 0.9908003679852806 Accuracy: 0.9908003679852806\n"
          ]
        },
        {
          "output_type": "stream",
          "name": "stderr",
          "text": [
            "100%|██████████| 136/136 [00:01<00:00, 75.98it/s]\n",
            "100%|██████████| 34/34 [00:00<00:00, 69.44it/s]\n"
          ]
        },
        {
          "output_type": "stream",
          "name": "stdout",
          "text": [
            "Epoch=31 \n",
            "Validation: = Logloss: 0.04300835711305488 F1: 0.9908003679852806 Recall: 0.9908003679852806 Precision: 0.9908003679852806 Accuracy: 0.9908003679852806\n"
          ]
        },
        {
          "output_type": "stream",
          "name": "stderr",
          "text": [
            "100%|██████████| 136/136 [00:01<00:00, 69.07it/s]\n",
            "100%|██████████| 34/34 [00:00<00:00, 65.17it/s]\n"
          ]
        },
        {
          "output_type": "stream",
          "name": "stdout",
          "text": [
            "Epoch=32 \n",
            "Validation: = Logloss: 0.043157066695191225 F1: 0.9908003679852806 Recall: 0.9908003679852806 Precision: 0.9908003679852806 Accuracy: 0.9908003679852806\n"
          ]
        },
        {
          "output_type": "stream",
          "name": "stderr",
          "text": [
            "100%|██████████| 136/136 [00:01<00:00, 70.99it/s]\n",
            "100%|██████████| 34/34 [00:00<00:00, 66.50it/s]\n"
          ]
        },
        {
          "output_type": "stream",
          "name": "stdout",
          "text": [
            "Epoch=33 \n",
            "Validation: = Logloss: 0.0432688081452634 F1: 0.9912603495860166 Recall: 0.9912603495860166 Precision: 0.9912603495860166 Accuracy: 0.9912603495860166\n"
          ]
        },
        {
          "output_type": "stream",
          "name": "stderr",
          "text": [
            "100%|██████████| 136/136 [00:01<00:00, 75.62it/s]\n",
            "100%|██████████| 34/34 [00:00<00:00, 68.74it/s]\n"
          ]
        },
        {
          "output_type": "stream",
          "name": "stdout",
          "text": [
            "Epoch=34 \n",
            "Validation: = Logloss: 0.043212075504573524 F1: 0.9908003679852806 Recall: 0.9908003679852806 Precision: 0.9908003679852806 Accuracy: 0.9908003679852806\n"
          ]
        },
        {
          "output_type": "stream",
          "name": "stderr",
          "text": [
            "100%|██████████| 136/136 [00:01<00:00, 75.74it/s]\n",
            "100%|██████████| 34/34 [00:00<00:00, 70.50it/s]\n"
          ]
        },
        {
          "output_type": "stream",
          "name": "stdout",
          "text": [
            "Epoch=35 \n",
            "Validation: = Logloss: 0.0430994979608209 F1: 0.9912603495860166 Recall: 0.9912603495860166 Precision: 0.9912603495860166 Accuracy: 0.9912603495860166\n"
          ]
        },
        {
          "output_type": "stream",
          "name": "stderr",
          "text": [
            "100%|██████████| 136/136 [00:01<00:00, 75.96it/s]\n",
            "100%|██████████| 34/34 [00:00<00:00, 72.26it/s]\n"
          ]
        },
        {
          "output_type": "stream",
          "name": "stdout",
          "text": [
            "Epoch=36 \n",
            "Validation: = Logloss: 0.04312369102625597 F1: 0.9908003679852806 Recall: 0.9908003679852806 Precision: 0.9908003679852806 Accuracy: 0.9908003679852806\n"
          ]
        },
        {
          "output_type": "stream",
          "name": "stderr",
          "text": [
            "100%|██████████| 136/136 [00:01<00:00, 75.73it/s]\n",
            "100%|██████████| 34/34 [00:00<00:00, 72.34it/s]\n"
          ]
        },
        {
          "output_type": "stream",
          "name": "stdout",
          "text": [
            "Epoch=37 \n",
            "Validation: = Logloss: 0.04323249328984122 F1: 0.9908003679852806 Recall: 0.9908003679852806 Precision: 0.9908003679852806 Accuracy: 0.9908003679852806\n"
          ]
        },
        {
          "output_type": "stream",
          "name": "stderr",
          "text": [
            "100%|██████████| 136/136 [00:01<00:00, 75.45it/s]\n",
            "100%|██████████| 34/34 [00:00<00:00, 71.20it/s]\n"
          ]
        },
        {
          "output_type": "stream",
          "name": "stdout",
          "text": [
            "Epoch=38 \n",
            "Validation: = Logloss: 0.042895916668717025 F1: 0.9908003679852806 Recall: 0.9908003679852806 Precision: 0.9908003679852806 Accuracy: 0.9908003679852806\n"
          ]
        },
        {
          "output_type": "stream",
          "name": "stderr",
          "text": [
            "100%|██████████| 136/136 [00:01<00:00, 75.47it/s]\n",
            "100%|██████████| 34/34 [00:00<00:00, 72.05it/s]\n"
          ]
        },
        {
          "output_type": "stream",
          "name": "stdout",
          "text": [
            "Epoch=39 \n",
            "Validation: = Logloss: 0.043103587393719896 F1: 0.9908003679852806 Recall: 0.9908003679852806 Precision: 0.9908003679852806 Accuracy: 0.9908003679852806\n"
          ]
        },
        {
          "output_type": "stream",
          "name": "stderr",
          "text": [
            "100%|██████████| 136/136 [00:01<00:00, 75.22it/s]\n",
            "100%|██████████| 34/34 [00:00<00:00, 68.64it/s]\n"
          ]
        },
        {
          "output_type": "stream",
          "name": "stdout",
          "text": [
            "Epoch=40 \n",
            "Validation: = Logloss: 0.04321330125646371 F1: 0.9908003679852806 Recall: 0.9908003679852806 Precision: 0.9908003679852806 Accuracy: 0.9908003679852806\n"
          ]
        },
        {
          "output_type": "stream",
          "name": "stderr",
          "text": [
            "100%|██████████| 136/136 [00:01<00:00, 74.73it/s]\n",
            "100%|██████████| 34/34 [00:00<00:00, 73.21it/s]\n"
          ]
        },
        {
          "output_type": "stream",
          "name": "stdout",
          "text": [
            "Epoch=41 \n",
            "Validation: = Logloss: 0.04298401593908998 F1: 0.9912603495860166 Recall: 0.9912603495860166 Precision: 0.9912603495860166 Accuracy: 0.9912603495860166\n"
          ]
        },
        {
          "output_type": "stream",
          "name": "stderr",
          "text": [
            "100%|██████████| 136/136 [00:01<00:00, 77.31it/s]\n",
            "100%|██████████| 34/34 [00:00<00:00, 72.33it/s]\n"
          ]
        },
        {
          "output_type": "stream",
          "name": "stdout",
          "text": [
            "Epoch=42 \n",
            "Validation: = Logloss: 0.04305330304082659 F1: 0.9908003679852806 Recall: 0.9908003679852806 Precision: 0.9908003679852806 Accuracy: 0.9908003679852806\n"
          ]
        },
        {
          "output_type": "stream",
          "name": "stderr",
          "text": [
            "100%|██████████| 136/136 [00:01<00:00, 75.64it/s]\n",
            "100%|██████████| 34/34 [00:00<00:00, 70.33it/s]\n"
          ]
        },
        {
          "output_type": "stream",
          "name": "stdout",
          "text": [
            "Epoch=43 \n",
            "Validation: = Logloss: 0.043098449794826944 F1: 0.9908003679852806 Recall: 0.9908003679852806 Precision: 0.9908003679852806 Accuracy: 0.9908003679852806\n"
          ]
        },
        {
          "output_type": "stream",
          "name": "stderr",
          "text": [
            "100%|██████████| 136/136 [00:01<00:00, 75.58it/s]\n",
            "100%|██████████| 34/34 [00:00<00:00, 70.90it/s]\n"
          ]
        },
        {
          "output_type": "stream",
          "name": "stdout",
          "text": [
            "Epoch=44 \n",
            "Validation: = Logloss: 0.04301946608682894 F1: 0.9908003679852806 Recall: 0.9908003679852806 Precision: 0.9908003679852806 Accuracy: 0.9908003679852806\n"
          ]
        },
        {
          "output_type": "stream",
          "name": "stderr",
          "text": [
            "100%|██████████| 136/136 [00:01<00:00, 76.84it/s]\n",
            "100%|██████████| 34/34 [00:00<00:00, 69.66it/s]\n"
          ]
        },
        {
          "output_type": "stream",
          "name": "stdout",
          "text": [
            "Epoch=45 \n",
            "Validation: = Logloss: 0.043108737387424254 F1: 0.9912603495860166 Recall: 0.9912603495860166 Precision: 0.9912603495860166 Accuracy: 0.9912603495860166\n"
          ]
        },
        {
          "output_type": "stream",
          "name": "stderr",
          "text": [
            "100%|██████████| 136/136 [00:01<00:00, 77.00it/s]\n",
            "100%|██████████| 34/34 [00:00<00:00, 68.15it/s]\n"
          ]
        },
        {
          "output_type": "stream",
          "name": "stdout",
          "text": [
            "Epoch=46 \n",
            "Validation: = Logloss: 0.04291743552287715 F1: 0.9908003679852806 Recall: 0.9908003679852806 Precision: 0.9908003679852806 Accuracy: 0.9908003679852806\n"
          ]
        },
        {
          "output_type": "stream",
          "name": "stderr",
          "text": [
            "100%|██████████| 136/136 [00:01<00:00, 68.33it/s]\n",
            "100%|██████████| 34/34 [00:00<00:00, 66.11it/s]\n"
          ]
        },
        {
          "output_type": "stream",
          "name": "stdout",
          "text": [
            "Epoch=47 \n",
            "Validation: = Logloss: 0.042925700059196055 F1: 0.9908003679852806 Recall: 0.9908003679852806 Precision: 0.9908003679852806 Accuracy: 0.9908003679852806\n"
          ]
        },
        {
          "output_type": "stream",
          "name": "stderr",
          "text": [
            "100%|██████████| 136/136 [00:01<00:00, 70.64it/s]\n",
            "100%|██████████| 34/34 [00:00<00:00, 70.44it/s]\n"
          ]
        },
        {
          "output_type": "stream",
          "name": "stdout",
          "text": [
            "Epoch=48 \n",
            "Validation: = Logloss: 0.043270279245926115 F1: 0.9908003679852806 Recall: 0.9908003679852806 Precision: 0.9908003679852806 Accuracy: 0.9908003679852806\n"
          ]
        },
        {
          "output_type": "stream",
          "name": "stderr",
          "text": [
            "100%|██████████| 136/136 [00:01<00:00, 70.83it/s]\n",
            "100%|██████████| 34/34 [00:00<00:00, 68.73it/s]\n"
          ]
        },
        {
          "output_type": "stream",
          "name": "stdout",
          "text": [
            "Epoch=49 \n",
            "Validation: = Logloss: 0.04302239208348049 F1: 0.9908003679852806 Recall: 0.9908003679852806 Precision: 0.9908003679852806 Accuracy: 0.9908003679852806\n"
          ]
        },
        {
          "output_type": "stream",
          "name": "stderr",
          "text": [
            "100%|██████████| 136/136 [00:01<00:00, 77.26it/s]\n",
            "100%|██████████| 34/34 [00:00<00:00, 69.81it/s]\n"
          ]
        },
        {
          "output_type": "stream",
          "name": "stdout",
          "text": [
            "Epoch=0 \n",
            "Validation: = Logloss: 0.06384741145954138 F1: 0.9871205151793928 Recall: 0.9871205151793928 Precision: 0.9871205151793928 Accuracy: 0.9871205151793928\n"
          ]
        },
        {
          "output_type": "stream",
          "name": "stderr",
          "text": [
            "100%|██████████| 136/136 [00:01<00:00, 76.45it/s]\n",
            "100%|██████████| 34/34 [00:00<00:00, 71.51it/s]\n"
          ]
        },
        {
          "output_type": "stream",
          "name": "stdout",
          "text": [
            "Epoch=1 \n",
            "Validation: = Logloss: 0.06285233645918957 F1: 0.9871205151793928 Recall: 0.9871205151793928 Precision: 0.9871205151793928 Accuracy: 0.9871205151793928\n"
          ]
        },
        {
          "output_type": "stream",
          "name": "stderr",
          "text": [
            "100%|██████████| 136/136 [00:01<00:00, 76.73it/s]\n",
            "100%|██████████| 34/34 [00:00<00:00, 67.98it/s]\n"
          ]
        },
        {
          "output_type": "stream",
          "name": "stdout",
          "text": [
            "Epoch=2 \n",
            "Validation: = Logloss: 0.05938365779894338 F1: 0.9871205151793928 Recall: 0.9871205151793928 Precision: 0.9871205151793928 Accuracy: 0.9871205151793928\n"
          ]
        },
        {
          "output_type": "stream",
          "name": "stderr",
          "text": [
            "100%|██████████| 136/136 [00:01<00:00, 74.37it/s]\n",
            "100%|██████████| 34/34 [00:00<00:00, 71.58it/s]\n"
          ]
        },
        {
          "output_type": "stream",
          "name": "stdout",
          "text": [
            "Epoch=3 \n",
            "Validation: = Logloss: 0.05871437802938012 F1: 0.9871205151793928 Recall: 0.9871205151793928 Precision: 0.9871205151793928 Accuracy: 0.9871205151793928\n"
          ]
        },
        {
          "output_type": "stream",
          "name": "stderr",
          "text": [
            "100%|██████████| 136/136 [00:01<00:00, 72.20it/s]\n",
            "100%|██████████| 34/34 [00:00<00:00, 69.88it/s]\n"
          ]
        },
        {
          "output_type": "stream",
          "name": "stdout",
          "text": [
            "Epoch=4 \n",
            "Validation: = Logloss: 0.058662179153537754 F1: 0.9871205151793928 Recall: 0.9871205151793928 Precision: 0.9871205151793928 Accuracy: 0.9871205151793928\n"
          ]
        },
        {
          "output_type": "stream",
          "name": "stderr",
          "text": [
            "100%|██████████| 136/136 [00:01<00:00, 75.75it/s]\n",
            "100%|██████████| 34/34 [00:00<00:00, 71.22it/s]\n"
          ]
        },
        {
          "output_type": "stream",
          "name": "stdout",
          "text": [
            "Epoch=5 \n",
            "Validation: = Logloss: 0.058410480121361644 F1: 0.9871205151793928 Recall: 0.9871205151793928 Precision: 0.9871205151793928 Accuracy: 0.9871205151793928\n"
          ]
        },
        {
          "output_type": "stream",
          "name": "stderr",
          "text": [
            "100%|██████████| 136/136 [00:02<00:00, 67.22it/s]\n",
            "100%|██████████| 34/34 [00:00<00:00, 66.98it/s]\n"
          ]
        },
        {
          "output_type": "stream",
          "name": "stdout",
          "text": [
            "Epoch=6 \n",
            "Validation: = Logloss: 0.05827772031447215 F1: 0.9871205151793928 Recall: 0.9871205151793928 Precision: 0.9871205151793928 Accuracy: 0.9871205151793928\n"
          ]
        },
        {
          "output_type": "stream",
          "name": "stderr",
          "text": [
            "100%|██████████| 136/136 [00:01<00:00, 73.51it/s]\n",
            "100%|██████████| 34/34 [00:00<00:00, 69.45it/s]\n"
          ]
        },
        {
          "output_type": "stream",
          "name": "stdout",
          "text": [
            "Epoch=7 \n",
            "Validation: = Logloss: 0.05833815772563247 F1: 0.9871205151793928 Recall: 0.9871205151793928 Precision: 0.9871205151793928 Accuracy: 0.9871205151793928\n"
          ]
        },
        {
          "output_type": "stream",
          "name": "stderr",
          "text": [
            "100%|██████████| 136/136 [00:01<00:00, 76.02it/s]\n",
            "100%|██████████| 34/34 [00:00<00:00, 72.52it/s]\n"
          ]
        },
        {
          "output_type": "stream",
          "name": "stdout",
          "text": [
            "Epoch=8 \n",
            "Validation: = Logloss: 0.05733952176774137 F1: 0.9871205151793928 Recall: 0.9871205151793928 Precision: 0.9871205151793928 Accuracy: 0.9871205151793928\n"
          ]
        },
        {
          "output_type": "stream",
          "name": "stderr",
          "text": [
            "100%|██████████| 136/136 [00:01<00:00, 70.01it/s]\n",
            "100%|██████████| 34/34 [00:00<00:00, 70.33it/s]\n"
          ]
        },
        {
          "output_type": "stream",
          "name": "stdout",
          "text": [
            "Epoch=9 \n",
            "Validation: = Logloss: 0.057137890878019605 F1: 0.9871205151793928 Recall: 0.9871205151793928 Precision: 0.9871205151793928 Accuracy: 0.9871205151793928\n"
          ]
        },
        {
          "output_type": "stream",
          "name": "stderr",
          "text": [
            "100%|██████████| 136/136 [00:01<00:00, 73.58it/s]\n",
            "100%|██████████| 34/34 [00:00<00:00, 71.35it/s]\n"
          ]
        },
        {
          "output_type": "stream",
          "name": "stdout",
          "text": [
            "Epoch=10 \n",
            "Validation: = Logloss: 0.05710678951705009 F1: 0.9871205151793928 Recall: 0.9871205151793928 Precision: 0.9871205151793928 Accuracy: 0.9871205151793928\n"
          ]
        },
        {
          "output_type": "stream",
          "name": "stderr",
          "text": [
            "100%|██████████| 136/136 [00:01<00:00, 71.06it/s]\n",
            "100%|██████████| 34/34 [00:00<00:00, 70.89it/s]\n"
          ]
        },
        {
          "output_type": "stream",
          "name": "stdout",
          "text": [
            "Epoch=11 \n",
            "Validation: = Logloss: 0.05658538867333265 F1: 0.9871205151793928 Recall: 0.9871205151793928 Precision: 0.9871205151793928 Accuracy: 0.9871205151793928\n"
          ]
        },
        {
          "output_type": "stream",
          "name": "stderr",
          "text": [
            "100%|██████████| 136/136 [00:01<00:00, 73.03it/s]\n",
            "100%|██████████| 34/34 [00:00<00:00, 71.74it/s]\n"
          ]
        },
        {
          "output_type": "stream",
          "name": "stdout",
          "text": [
            "Epoch=12 \n",
            "Validation: = Logloss: 0.056611333411849714 F1: 0.9871205151793928 Recall: 0.9871205151793928 Precision: 0.9871205151793928 Accuracy: 0.9871205151793928\n"
          ]
        },
        {
          "output_type": "stream",
          "name": "stderr",
          "text": [
            "100%|██████████| 136/136 [00:01<00:00, 76.61it/s]\n",
            "100%|██████████| 34/34 [00:00<00:00, 67.09it/s]\n"
          ]
        },
        {
          "output_type": "stream",
          "name": "stdout",
          "text": [
            "Epoch=13 \n",
            "Validation: = Logloss: 0.05622644202297714 F1: 0.9871205151793928 Recall: 0.9871205151793928 Precision: 0.9871205151793928 Accuracy: 0.9871205151793928\n"
          ]
        },
        {
          "output_type": "stream",
          "name": "stderr",
          "text": [
            "100%|██████████| 136/136 [00:01<00:00, 74.55it/s]\n",
            "100%|██████████| 34/34 [00:00<00:00, 63.76it/s]\n"
          ]
        },
        {
          "output_type": "stream",
          "name": "stdout",
          "text": [
            "Epoch=14 \n",
            "Validation: = Logloss: 0.056212784405917954 F1: 0.9871205151793928 Recall: 0.9871205151793928 Precision: 0.9871205151793928 Accuracy: 0.9871205151793928\n"
          ]
        },
        {
          "output_type": "stream",
          "name": "stderr",
          "text": [
            "100%|██████████| 136/136 [00:01<00:00, 68.75it/s]\n",
            "100%|██████████| 34/34 [00:00<00:00, 69.01it/s]\n"
          ]
        },
        {
          "output_type": "stream",
          "name": "stdout",
          "text": [
            "Epoch=15 \n",
            "Validation: = Logloss: 0.05603339018786297 F1: 0.9871205151793928 Recall: 0.9871205151793928 Precision: 0.9871205151793928 Accuracy: 0.9871205151793928\n"
          ]
        },
        {
          "output_type": "stream",
          "name": "stderr",
          "text": [
            "100%|██████████| 136/136 [00:01<00:00, 74.43it/s]\n",
            "100%|██████████| 34/34 [00:00<00:00, 69.22it/s]\n"
          ]
        },
        {
          "output_type": "stream",
          "name": "stdout",
          "text": [
            "Epoch=16 \n",
            "Validation: = Logloss: 0.05626472213060529 F1: 0.9871205151793928 Recall: 0.9871205151793928 Precision: 0.9871205151793928 Accuracy: 0.9871205151793928\n"
          ]
        },
        {
          "output_type": "stream",
          "name": "stderr",
          "text": [
            "100%|██████████| 136/136 [00:01<00:00, 76.08it/s]\n",
            "100%|██████████| 34/34 [00:00<00:00, 68.63it/s]\n"
          ]
        },
        {
          "output_type": "stream",
          "name": "stdout",
          "text": [
            "Epoch=17 \n",
            "Validation: = Logloss: 0.05539134476140236 F1: 0.9871205151793928 Recall: 0.9871205151793928 Precision: 0.9871205151793928 Accuracy: 0.9871205151793928\n"
          ]
        },
        {
          "output_type": "stream",
          "name": "stderr",
          "text": [
            "100%|██████████| 136/136 [00:01<00:00, 75.70it/s]\n",
            "100%|██████████| 34/34 [00:00<00:00, 72.89it/s]\n"
          ]
        },
        {
          "output_type": "stream",
          "name": "stdout",
          "text": [
            "Epoch=18 \n",
            "Validation: = Logloss: 0.055482048487371635 F1: 0.9871205151793928 Recall: 0.9871205151793928 Precision: 0.9871205151793928 Accuracy: 0.9871205151793928\n"
          ]
        },
        {
          "output_type": "stream",
          "name": "stderr",
          "text": [
            "100%|██████████| 136/136 [00:01<00:00, 75.41it/s]\n",
            "100%|██████████| 34/34 [00:00<00:00, 70.76it/s]\n"
          ]
        },
        {
          "output_type": "stream",
          "name": "stdout",
          "text": [
            "Epoch=19 \n",
            "Validation: = Logloss: 0.05546369593512833 F1: 0.9871205151793928 Recall: 0.9871205151793928 Precision: 0.9871205151793928 Accuracy: 0.9871205151793928\n"
          ]
        },
        {
          "output_type": "stream",
          "name": "stderr",
          "text": [
            "100%|██████████| 136/136 [00:01<00:00, 74.91it/s]\n",
            "100%|██████████| 34/34 [00:00<00:00, 71.22it/s]\n"
          ]
        },
        {
          "output_type": "stream",
          "name": "stdout",
          "text": [
            "Epoch=20 \n",
            "Validation: = Logloss: 0.055577226673887065 F1: 0.9871205151793928 Recall: 0.9871205151793928 Precision: 0.9871205151793928 Accuracy: 0.9871205151793928\n"
          ]
        },
        {
          "output_type": "stream",
          "name": "stderr",
          "text": [
            "100%|██████████| 136/136 [00:01<00:00, 75.01it/s]\n",
            "100%|██████████| 34/34 [00:00<00:00, 69.06it/s]\n"
          ]
        },
        {
          "output_type": "stream",
          "name": "stdout",
          "text": [
            "Epoch=21 \n",
            "Validation: = Logloss: 0.055362259176656964 F1: 0.9871205151793928 Recall: 0.9871205151793928 Precision: 0.9871205151793928 Accuracy: 0.9871205151793928\n"
          ]
        },
        {
          "output_type": "stream",
          "name": "stderr",
          "text": [
            "100%|██████████| 136/136 [00:01<00:00, 76.30it/s]\n",
            "100%|██████████| 34/34 [00:00<00:00, 69.49it/s]\n"
          ]
        },
        {
          "output_type": "stream",
          "name": "stdout",
          "text": [
            "Epoch=22 \n",
            "Validation: = Logloss: 0.055475745235067576 F1: 0.9871205151793928 Recall: 0.9871205151793928 Precision: 0.9871205151793928 Accuracy: 0.9871205151793928\n"
          ]
        },
        {
          "output_type": "stream",
          "name": "stderr",
          "text": [
            "100%|██████████| 136/136 [00:01<00:00, 72.91it/s]\n",
            "100%|██████████| 34/34 [00:00<00:00, 68.65it/s]\n"
          ]
        },
        {
          "output_type": "stream",
          "name": "stdout",
          "text": [
            "Epoch=23 \n",
            "Validation: = Logloss: 0.055260214484272846 F1: 0.9871205151793928 Recall: 0.9871205151793928 Precision: 0.9871205151793928 Accuracy: 0.9871205151793928\n"
          ]
        },
        {
          "output_type": "stream",
          "name": "stderr",
          "text": [
            "100%|██████████| 136/136 [00:01<00:00, 76.19it/s]\n",
            "100%|██████████| 34/34 [00:00<00:00, 73.72it/s]\n"
          ]
        },
        {
          "output_type": "stream",
          "name": "stdout",
          "text": [
            "Epoch=24 \n",
            "Validation: = Logloss: 0.05520299807869117 F1: 0.9871205151793928 Recall: 0.9871205151793928 Precision: 0.9871205151793928 Accuracy: 0.9871205151793928\n"
          ]
        },
        {
          "output_type": "stream",
          "name": "stderr",
          "text": [
            "100%|██████████| 136/136 [00:01<00:00, 75.02it/s]\n",
            "100%|██████████| 34/34 [00:00<00:00, 70.14it/s]\n"
          ]
        },
        {
          "output_type": "stream",
          "name": "stdout",
          "text": [
            "Epoch=25 \n",
            "Validation: = Logloss: 0.055299280456164196 F1: 0.9871205151793928 Recall: 0.9871205151793928 Precision: 0.9871205151793928 Accuracy: 0.9871205151793928\n"
          ]
        },
        {
          "output_type": "stream",
          "name": "stderr",
          "text": [
            "100%|██████████| 136/136 [00:01<00:00, 76.21it/s]\n",
            "100%|██████████| 34/34 [00:00<00:00, 69.83it/s]\n"
          ]
        },
        {
          "output_type": "stream",
          "name": "stdout",
          "text": [
            "Epoch=26 \n",
            "Validation: = Logloss: 0.05512696557094622 F1: 0.9871205151793928 Recall: 0.9871205151793928 Precision: 0.9871205151793928 Accuracy: 0.9871205151793928\n"
          ]
        },
        {
          "output_type": "stream",
          "name": "stderr",
          "text": [
            "100%|██████████| 136/136 [00:01<00:00, 74.42it/s]\n",
            "100%|██████████| 34/34 [00:00<00:00, 71.45it/s]\n"
          ]
        },
        {
          "output_type": "stream",
          "name": "stdout",
          "text": [
            "Epoch=27 \n",
            "Validation: = Logloss: 0.05509714903475209 F1: 0.9871205151793928 Recall: 0.9871205151793928 Precision: 0.9871205151793928 Accuracy: 0.9871205151793928\n"
          ]
        },
        {
          "output_type": "stream",
          "name": "stderr",
          "text": [
            "100%|██████████| 136/136 [00:01<00:00, 72.12it/s]\n",
            "100%|██████████| 34/34 [00:00<00:00, 71.50it/s]\n"
          ]
        },
        {
          "output_type": "stream",
          "name": "stdout",
          "text": [
            "Epoch=28 \n",
            "Validation: = Logloss: 0.05511445697645976 F1: 0.9871205151793928 Recall: 0.9871205151793928 Precision: 0.9871205151793928 Accuracy: 0.9871205151793928\n"
          ]
        },
        {
          "output_type": "stream",
          "name": "stderr",
          "text": [
            "100%|██████████| 136/136 [00:01<00:00, 74.81it/s]\n",
            "100%|██████████| 34/34 [00:00<00:00, 65.31it/s]\n"
          ]
        },
        {
          "output_type": "stream",
          "name": "stdout",
          "text": [
            "Epoch=29 \n",
            "Validation: = Logloss: 0.05545787512572719 F1: 0.9871205151793928 Recall: 0.9871205151793928 Precision: 0.9871205151793928 Accuracy: 0.9871205151793928\n"
          ]
        },
        {
          "output_type": "stream",
          "name": "stderr",
          "text": [
            "100%|██████████| 136/136 [00:01<00:00, 69.40it/s]\n",
            "100%|██████████| 34/34 [00:00<00:00, 69.84it/s]\n"
          ]
        },
        {
          "output_type": "stream",
          "name": "stdout",
          "text": [
            "Epoch=30 \n",
            "Validation: = Logloss: 0.055104376802805326 F1: 0.9871205151793928 Recall: 0.9871205151793928 Precision: 0.9871205151793928 Accuracy: 0.9871205151793928\n"
          ]
        },
        {
          "output_type": "stream",
          "name": "stderr",
          "text": [
            "100%|██████████| 136/136 [00:01<00:00, 72.38it/s]\n",
            "100%|██████████| 34/34 [00:00<00:00, 67.82it/s]\n"
          ]
        },
        {
          "output_type": "stream",
          "name": "stdout",
          "text": [
            "Epoch=31 \n",
            "Validation: = Logloss: 0.05510301594050085 F1: 0.9871205151793928 Recall: 0.9871205151793928 Precision: 0.9871205151793928 Accuracy: 0.9871205151793928\n"
          ]
        },
        {
          "output_type": "stream",
          "name": "stderr",
          "text": [
            "100%|██████████| 136/136 [00:01<00:00, 75.03it/s]\n",
            "100%|██████████| 34/34 [00:00<00:00, 63.83it/s]\n"
          ]
        },
        {
          "output_type": "stream",
          "name": "stdout",
          "text": [
            "Epoch=32 \n",
            "Validation: = Logloss: 0.0550743818701424 F1: 0.9871205151793928 Recall: 0.9871205151793928 Precision: 0.9871205151793928 Accuracy: 0.9871205151793928\n"
          ]
        },
        {
          "output_type": "stream",
          "name": "stderr",
          "text": [
            "100%|██████████| 136/136 [00:01<00:00, 71.84it/s]\n",
            "100%|██████████| 34/34 [00:00<00:00, 68.16it/s]\n"
          ]
        },
        {
          "output_type": "stream",
          "name": "stdout",
          "text": [
            "Epoch=33 \n",
            "Validation: = Logloss: 0.05514597277182503 F1: 0.9871205151793928 Recall: 0.9871205151793928 Precision: 0.9871205151793928 Accuracy: 0.9871205151793928\n"
          ]
        },
        {
          "output_type": "stream",
          "name": "stderr",
          "text": [
            "100%|██████████| 136/136 [00:01<00:00, 72.65it/s]\n",
            "100%|██████████| 34/34 [00:00<00:00, 66.37it/s]\n"
          ]
        },
        {
          "output_type": "stream",
          "name": "stdout",
          "text": [
            "Epoch=34 \n",
            "Validation: = Logloss: 0.05501271830130455 F1: 0.9871205151793928 Recall: 0.9871205151793928 Precision: 0.9871205151793928 Accuracy: 0.9871205151793928\n"
          ]
        },
        {
          "output_type": "stream",
          "name": "stderr",
          "text": [
            "100%|██████████| 136/136 [00:01<00:00, 72.94it/s]\n",
            "100%|██████████| 34/34 [00:00<00:00, 68.92it/s]\n"
          ]
        },
        {
          "output_type": "stream",
          "name": "stdout",
          "text": [
            "Epoch=35 \n",
            "Validation: = Logloss: 0.055023849664872344 F1: 0.9871205151793928 Recall: 0.9871205151793928 Precision: 0.9871205151793928 Accuracy: 0.9871205151793928\n"
          ]
        },
        {
          "output_type": "stream",
          "name": "stderr",
          "text": [
            "100%|██████████| 136/136 [00:01<00:00, 75.09it/s]\n",
            "100%|██████████| 34/34 [00:00<00:00, 67.61it/s]\n"
          ]
        },
        {
          "output_type": "stream",
          "name": "stdout",
          "text": [
            "Epoch=36 \n",
            "Validation: = Logloss: 0.05527343811559384 F1: 0.9871205151793928 Recall: 0.9871205151793928 Precision: 0.9871205151793928 Accuracy: 0.9871205151793928\n"
          ]
        },
        {
          "output_type": "stream",
          "name": "stderr",
          "text": [
            "100%|██████████| 136/136 [00:01<00:00, 73.67it/s]\n",
            "100%|██████████| 34/34 [00:00<00:00, 69.18it/s]\n"
          ]
        },
        {
          "output_type": "stream",
          "name": "stdout",
          "text": [
            "Epoch=37 \n",
            "Validation: = Logloss: 0.054959395567989726 F1: 0.9871205151793928 Recall: 0.9871205151793928 Precision: 0.9871205151793928 Accuracy: 0.9871205151793928\n"
          ]
        },
        {
          "output_type": "stream",
          "name": "stderr",
          "text": [
            "100%|██████████| 136/136 [00:01<00:00, 71.15it/s]\n",
            "100%|██████████| 34/34 [00:00<00:00, 65.27it/s]\n"
          ]
        },
        {
          "output_type": "stream",
          "name": "stdout",
          "text": [
            "Epoch=38 \n",
            "Validation: = Logloss: 0.05537696795771784 F1: 0.9871205151793928 Recall: 0.9871205151793928 Precision: 0.9871205151793928 Accuracy: 0.9871205151793928\n"
          ]
        },
        {
          "output_type": "stream",
          "name": "stderr",
          "text": [
            "100%|██████████| 136/136 [00:01<00:00, 70.34it/s]\n",
            "100%|██████████| 34/34 [00:00<00:00, 69.28it/s]\n"
          ]
        },
        {
          "output_type": "stream",
          "name": "stdout",
          "text": [
            "Epoch=39 \n",
            "Validation: = Logloss: 0.05482568855058245 F1: 0.9871205151793928 Recall: 0.9871205151793928 Precision: 0.9871205151793928 Accuracy: 0.9871205151793928\n"
          ]
        },
        {
          "output_type": "stream",
          "name": "stderr",
          "text": [
            "100%|██████████| 136/136 [00:01<00:00, 73.26it/s]\n",
            "100%|██████████| 34/34 [00:00<00:00, 68.09it/s]\n"
          ]
        },
        {
          "output_type": "stream",
          "name": "stdout",
          "text": [
            "Epoch=40 \n",
            "Validation: = Logloss: 0.05481495271304826 F1: 0.9871205151793928 Recall: 0.9871205151793928 Precision: 0.9871205151793928 Accuracy: 0.9871205151793928\n"
          ]
        },
        {
          "output_type": "stream",
          "name": "stderr",
          "text": [
            "100%|██████████| 136/136 [00:01<00:00, 73.15it/s]\n",
            "100%|██████████| 34/34 [00:00<00:00, 69.18it/s]\n"
          ]
        },
        {
          "output_type": "stream",
          "name": "stdout",
          "text": [
            "Epoch=41 \n",
            "Validation: = Logloss: 0.05490469783207638 F1: 0.9871205151793928 Recall: 0.9871205151793928 Precision: 0.9871205151793928 Accuracy: 0.9871205151793928\n"
          ]
        },
        {
          "output_type": "stream",
          "name": "stderr",
          "text": [
            "100%|██████████| 136/136 [00:01<00:00, 70.69it/s]\n",
            "100%|██████████| 34/34 [00:00<00:00, 65.43it/s]\n"
          ]
        },
        {
          "output_type": "stream",
          "name": "stdout",
          "text": [
            "Epoch=42 \n",
            "Validation: = Logloss: 0.05512493140662825 F1: 0.9871205151793928 Recall: 0.9871205151793928 Precision: 0.9871205151793928 Accuracy: 0.9871205151793928\n"
          ]
        },
        {
          "output_type": "stream",
          "name": "stderr",
          "text": [
            "100%|██████████| 136/136 [00:01<00:00, 73.49it/s]\n",
            "100%|██████████| 34/34 [00:00<00:00, 67.16it/s]\n"
          ]
        },
        {
          "output_type": "stream",
          "name": "stdout",
          "text": [
            "Epoch=43 \n",
            "Validation: = Logloss: 0.0550444296002804 F1: 0.9871205151793928 Recall: 0.9871205151793928 Precision: 0.9871205151793928 Accuracy: 0.9871205151793928\n"
          ]
        },
        {
          "output_type": "stream",
          "name": "stderr",
          "text": [
            "100%|██████████| 136/136 [00:01<00:00, 74.01it/s]\n",
            "100%|██████████| 34/34 [00:00<00:00, 69.38it/s]\n"
          ]
        },
        {
          "output_type": "stream",
          "name": "stdout",
          "text": [
            "Epoch=44 \n",
            "Validation: = Logloss: 0.054869294189148356 F1: 0.9871205151793928 Recall: 0.9871205151793928 Precision: 0.9871205151793928 Accuracy: 0.9871205151793928\n"
          ]
        },
        {
          "output_type": "stream",
          "name": "stderr",
          "text": [
            "100%|██████████| 136/136 [00:01<00:00, 73.39it/s]\n",
            "100%|██████████| 34/34 [00:00<00:00, 48.27it/s]\n"
          ]
        },
        {
          "output_type": "stream",
          "name": "stdout",
          "text": [
            "Epoch=45 \n",
            "Validation: = Logloss: 0.054848606733408 F1: 0.9871205151793928 Recall: 0.9871205151793928 Precision: 0.9871205151793928 Accuracy: 0.9871205151793928\n"
          ]
        },
        {
          "output_type": "stream",
          "name": "stderr",
          "text": [
            "100%|██████████| 136/136 [00:01<00:00, 74.54it/s]\n",
            "100%|██████████| 34/34 [00:00<00:00, 71.07it/s]\n"
          ]
        },
        {
          "output_type": "stream",
          "name": "stdout",
          "text": [
            "Epoch=46 \n",
            "Validation: = Logloss: 0.05477653593551138 F1: 0.9871205151793928 Recall: 0.9871205151793928 Precision: 0.9871205151793928 Accuracy: 0.9871205151793928\n"
          ]
        },
        {
          "output_type": "stream",
          "name": "stderr",
          "text": [
            "100%|██████████| 136/136 [00:01<00:00, 74.70it/s]\n",
            "100%|██████████| 34/34 [00:00<00:00, 67.72it/s]\n"
          ]
        },
        {
          "output_type": "stream",
          "name": "stdout",
          "text": [
            "Epoch=47 \n",
            "Validation: = Logloss: 0.054960523404003675 F1: 0.9871205151793928 Recall: 0.9871205151793928 Precision: 0.9871205151793928 Accuracy: 0.9871205151793928\n"
          ]
        },
        {
          "output_type": "stream",
          "name": "stderr",
          "text": [
            "100%|██████████| 136/136 [00:01<00:00, 75.73it/s]\n",
            "100%|██████████| 34/34 [00:00<00:00, 71.86it/s]\n"
          ]
        },
        {
          "output_type": "stream",
          "name": "stdout",
          "text": [
            "Epoch=48 \n",
            "Validation: = Logloss: 0.05495089007167393 F1: 0.9871205151793928 Recall: 0.9871205151793928 Precision: 0.9871205151793928 Accuracy: 0.9871205151793928\n"
          ]
        },
        {
          "output_type": "stream",
          "name": "stderr",
          "text": [
            "100%|██████████| 136/136 [00:01<00:00, 74.97it/s]\n",
            "100%|██████████| 34/34 [00:00<00:00, 68.34it/s]\n"
          ]
        },
        {
          "output_type": "stream",
          "name": "stdout",
          "text": [
            "Epoch=49 \n",
            "Validation: = Logloss: 0.05499771742503661 F1: 0.9871205151793928 Recall: 0.9871205151793928 Precision: 0.9871205151793928 Accuracy: 0.9871205151793928\n"
          ]
        },
        {
          "output_type": "stream",
          "name": "stderr",
          "text": [
            "100%|██████████| 136/136 [00:01<00:00, 71.64it/s]\n",
            "100%|██████████| 34/34 [00:00<00:00, 68.55it/s]\n"
          ]
        },
        {
          "output_type": "stream",
          "name": "stdout",
          "text": [
            "Epoch=0 \n",
            "Validation: = Logloss: 0.0621107590817279 F1: 0.9880349746893695 Recall: 0.9880349746893695 Precision: 0.9880349746893695 Accuracy: 0.9880349746893695\n"
          ]
        },
        {
          "output_type": "stream",
          "name": "stderr",
          "text": [
            "100%|██████████| 136/136 [00:01<00:00, 76.24it/s]\n",
            "100%|██████████| 34/34 [00:00<00:00, 68.56it/s]\n"
          ]
        },
        {
          "output_type": "stream",
          "name": "stdout",
          "text": [
            "Epoch=1 \n",
            "Validation: = Logloss: 0.058587473056386556 F1: 0.9880349746893695 Recall: 0.9880349746893695 Precision: 0.9880349746893695 Accuracy: 0.9880349746893695\n"
          ]
        },
        {
          "output_type": "stream",
          "name": "stderr",
          "text": [
            "100%|██████████| 136/136 [00:01<00:00, 73.30it/s]\n",
            "100%|██████████| 34/34 [00:00<00:00, 70.18it/s]\n"
          ]
        },
        {
          "output_type": "stream",
          "name": "stdout",
          "text": [
            "Epoch=2 \n",
            "Validation: = Logloss: 0.05526072282964464 F1: 0.9880349746893695 Recall: 0.9880349746893695 Precision: 0.9880349746893695 Accuracy: 0.9880349746893695\n"
          ]
        },
        {
          "output_type": "stream",
          "name": "stderr",
          "text": [
            "100%|██████████| 136/136 [00:01<00:00, 75.54it/s]\n",
            "100%|██████████| 34/34 [00:00<00:00, 64.88it/s]\n"
          ]
        },
        {
          "output_type": "stream",
          "name": "stdout",
          "text": [
            "Epoch=3 \n",
            "Validation: = Logloss: 0.05524172235777056 F1: 0.9880349746893695 Recall: 0.9880349746893695 Precision: 0.9880349746893695 Accuracy: 0.9880349746893695\n"
          ]
        },
        {
          "output_type": "stream",
          "name": "stderr",
          "text": [
            "100%|██████████| 136/136 [00:01<00:00, 74.60it/s]\n",
            "100%|██████████| 34/34 [00:00<00:00, 69.42it/s]\n"
          ]
        },
        {
          "output_type": "stream",
          "name": "stdout",
          "text": [
            "Epoch=4 \n",
            "Validation: = Logloss: 0.05497466693884352 F1: 0.9880349746893695 Recall: 0.9880349746893695 Precision: 0.9880349746893695 Accuracy: 0.9880349746893695\n"
          ]
        },
        {
          "output_type": "stream",
          "name": "stderr",
          "text": [
            "100%|██████████| 136/136 [00:01<00:00, 75.11it/s]\n",
            "100%|██████████| 34/34 [00:00<00:00, 67.05it/s]\n"
          ]
        },
        {
          "output_type": "stream",
          "name": "stdout",
          "text": [
            "Epoch=5 \n",
            "Validation: = Logloss: 0.05497935008217109 F1: 0.9880349746893695 Recall: 0.9880349746893695 Precision: 0.9880349746893695 Accuracy: 0.9880349746893695\n"
          ]
        },
        {
          "output_type": "stream",
          "name": "stderr",
          "text": [
            "100%|██████████| 136/136 [00:01<00:00, 75.63it/s]\n",
            "100%|██████████| 34/34 [00:00<00:00, 69.72it/s]\n"
          ]
        },
        {
          "output_type": "stream",
          "name": "stdout",
          "text": [
            "Epoch=6 \n",
            "Validation: = Logloss: 0.0548765001765712 F1: 0.9880349746893695 Recall: 0.9880349746893695 Precision: 0.9880349746893695 Accuracy: 0.9880349746893695\n"
          ]
        },
        {
          "output_type": "stream",
          "name": "stderr",
          "text": [
            "100%|██████████| 136/136 [00:01<00:00, 71.20it/s]\n",
            "100%|██████████| 34/34 [00:00<00:00, 68.41it/s]\n"
          ]
        },
        {
          "output_type": "stream",
          "name": "stdout",
          "text": [
            "Epoch=7 \n",
            "Validation: = Logloss: 0.05520913893413821 F1: 0.9880349746893695 Recall: 0.9880349746893695 Precision: 0.9880349746893695 Accuracy: 0.9880349746893695\n"
          ]
        },
        {
          "output_type": "stream",
          "name": "stderr",
          "text": [
            "100%|██████████| 136/136 [00:01<00:00, 73.41it/s]\n",
            "100%|██████████| 34/34 [00:00<00:00, 69.09it/s]\n"
          ]
        },
        {
          "output_type": "stream",
          "name": "stdout",
          "text": [
            "Epoch=8 \n",
            "Validation: = Logloss: 0.05522371354654199 F1: 0.9880349746893695 Recall: 0.9880349746893695 Precision: 0.9880349746893695 Accuracy: 0.9880349746893695\n"
          ]
        },
        {
          "output_type": "stream",
          "name": "stderr",
          "text": [
            "100%|██████████| 136/136 [00:01<00:00, 76.28it/s]\n",
            "100%|██████████| 34/34 [00:00<00:00, 68.52it/s]\n"
          ]
        },
        {
          "output_type": "stream",
          "name": "stdout",
          "text": [
            "Epoch=9 \n",
            "Validation: = Logloss: 0.05551432399621013 F1: 0.9880349746893695 Recall: 0.9880349746893695 Precision: 0.9880349746893695 Accuracy: 0.9880349746893695\n"
          ]
        },
        {
          "output_type": "stream",
          "name": "stderr",
          "text": [
            "100%|██████████| 136/136 [00:01<00:00, 74.05it/s]\n",
            "100%|██████████| 34/34 [00:00<00:00, 47.12it/s]\n"
          ]
        },
        {
          "output_type": "stream",
          "name": "stdout",
          "text": [
            "Epoch=10 \n",
            "Validation: = Logloss: 0.05511988234366969 F1: 0.9880349746893695 Recall: 0.9880349746893695 Precision: 0.9880349746893695 Accuracy: 0.9880349746893695\n"
          ]
        },
        {
          "output_type": "stream",
          "name": "stderr",
          "text": [
            "100%|██████████| 136/136 [00:01<00:00, 74.58it/s]\n",
            "100%|██████████| 34/34 [00:00<00:00, 71.38it/s]\n"
          ]
        },
        {
          "output_type": "stream",
          "name": "stdout",
          "text": [
            "Epoch=11 \n",
            "Validation: = Logloss: 0.055336564741140806 F1: 0.9880349746893695 Recall: 0.9880349746893695 Precision: 0.9880349746893695 Accuracy: 0.9880349746893695\n"
          ]
        },
        {
          "output_type": "stream",
          "name": "stderr",
          "text": [
            "100%|██████████| 136/136 [00:01<00:00, 68.27it/s]\n",
            "100%|██████████| 34/34 [00:00<00:00, 66.53it/s]\n"
          ]
        },
        {
          "output_type": "stream",
          "name": "stdout",
          "text": [
            "Epoch=12 \n",
            "Validation: = Logloss: 0.05527900137686225 F1: 0.9880349746893695 Recall: 0.9880349746893695 Precision: 0.9880349746893695 Accuracy: 0.9880349746893695\n"
          ]
        },
        {
          "output_type": "stream",
          "name": "stderr",
          "text": [
            "100%|██████████| 136/136 [00:01<00:00, 71.22it/s]\n",
            "100%|██████████| 34/34 [00:00<00:00, 65.80it/s]\n"
          ]
        },
        {
          "output_type": "stream",
          "name": "stdout",
          "text": [
            "Epoch=13 \n",
            "Validation: = Logloss: 0.05524404122949259 F1: 0.9880349746893695 Recall: 0.9880349746893695 Precision: 0.9880349746893695 Accuracy: 0.9880349746893695\n"
          ]
        },
        {
          "output_type": "stream",
          "name": "stderr",
          "text": [
            "100%|██████████| 136/136 [00:01<00:00, 72.03it/s]\n",
            "100%|██████████| 34/34 [00:00<00:00, 66.09it/s]\n"
          ]
        },
        {
          "output_type": "stream",
          "name": "stdout",
          "text": [
            "Epoch=14 \n",
            "Validation: = Logloss: 0.05519139336477239 F1: 0.9880349746893695 Recall: 0.9880349746893695 Precision: 0.9880349746893695 Accuracy: 0.9880349746893695\n"
          ]
        },
        {
          "output_type": "stream",
          "name": "stderr",
          "text": [
            "100%|██████████| 136/136 [00:01<00:00, 70.66it/s]\n",
            "100%|██████████| 34/34 [00:00<00:00, 67.12it/s]\n"
          ]
        },
        {
          "output_type": "stream",
          "name": "stdout",
          "text": [
            "Epoch=15 \n",
            "Validation: = Logloss: 0.054929483008324745 F1: 0.9880349746893695 Recall: 0.9880349746893695 Precision: 0.9880349746893695 Accuracy: 0.9880349746893695\n"
          ]
        },
        {
          "output_type": "stream",
          "name": "stderr",
          "text": [
            "100%|██████████| 136/136 [00:01<00:00, 71.63it/s]\n",
            "100%|██████████| 34/34 [00:00<00:00, 67.43it/s]\n"
          ]
        },
        {
          "output_type": "stream",
          "name": "stdout",
          "text": [
            "Epoch=16 \n",
            "Validation: = Logloss: 0.05475992638831012 F1: 0.9880349746893695 Recall: 0.9880349746893695 Precision: 0.9880349746893695 Accuracy: 0.9880349746893695\n"
          ]
        },
        {
          "output_type": "stream",
          "name": "stderr",
          "text": [
            "100%|██████████| 136/136 [00:01<00:00, 75.55it/s]\n",
            "100%|██████████| 34/34 [00:00<00:00, 70.49it/s]\n"
          ]
        },
        {
          "output_type": "stream",
          "name": "stdout",
          "text": [
            "Epoch=17 \n",
            "Validation: = Logloss: 0.05486019017561974 F1: 0.9880349746893695 Recall: 0.9880349746893695 Precision: 0.9880349746893695 Accuracy: 0.9880349746893695\n"
          ]
        },
        {
          "output_type": "stream",
          "name": "stderr",
          "text": [
            "100%|██████████| 136/136 [00:02<00:00, 67.54it/s]\n",
            "100%|██████████| 34/34 [00:00<00:00, 66.31it/s]\n"
          ]
        },
        {
          "output_type": "stream",
          "name": "stdout",
          "text": [
            "Epoch=18 \n",
            "Validation: = Logloss: 0.05493509204904781 F1: 0.9880349746893695 Recall: 0.9880349746893695 Precision: 0.9880349746893695 Accuracy: 0.9880349746893695\n"
          ]
        },
        {
          "output_type": "stream",
          "name": "stderr",
          "text": [
            "100%|██████████| 136/136 [00:01<00:00, 74.64it/s]\n",
            "100%|██████████| 34/34 [00:00<00:00, 67.97it/s]\n"
          ]
        },
        {
          "output_type": "stream",
          "name": "stdout",
          "text": [
            "Epoch=19 \n",
            "Validation: = Logloss: 0.05455795858611323 F1: 0.9880349746893695 Recall: 0.9880349746893695 Precision: 0.9880349746893695 Accuracy: 0.9880349746893695\n"
          ]
        },
        {
          "output_type": "stream",
          "name": "stderr",
          "text": [
            "100%|██████████| 136/136 [00:01<00:00, 73.66it/s]\n",
            "100%|██████████| 34/34 [00:00<00:00, 69.78it/s]\n"
          ]
        },
        {
          "output_type": "stream",
          "name": "stdout",
          "text": [
            "Epoch=20 \n",
            "Validation: = Logloss: 0.05491943352725658 F1: 0.9880349746893695 Recall: 0.9880349746893695 Precision: 0.9880349746893695 Accuracy: 0.9880349746893695\n"
          ]
        },
        {
          "output_type": "stream",
          "name": "stderr",
          "text": [
            "100%|██████████| 136/136 [00:01<00:00, 73.81it/s]\n",
            "100%|██████████| 34/34 [00:00<00:00, 68.36it/s]\n"
          ]
        },
        {
          "output_type": "stream",
          "name": "stdout",
          "text": [
            "Epoch=21 \n",
            "Validation: = Logloss: 0.0547484841652707 F1: 0.9880349746893695 Recall: 0.9880349746893695 Precision: 0.9880349746893695 Accuracy: 0.9880349746893695\n"
          ]
        },
        {
          "output_type": "stream",
          "name": "stderr",
          "text": [
            "100%|██████████| 136/136 [00:01<00:00, 73.59it/s]\n",
            "100%|██████████| 34/34 [00:00<00:00, 68.21it/s]\n"
          ]
        },
        {
          "output_type": "stream",
          "name": "stdout",
          "text": [
            "Epoch=22 \n",
            "Validation: = Logloss: 0.05465301100092962 F1: 0.9880349746893695 Recall: 0.9880349746893695 Precision: 0.9880349746893695 Accuracy: 0.9880349746893695\n"
          ]
        },
        {
          "output_type": "stream",
          "name": "stderr",
          "text": [
            "100%|██████████| 136/136 [00:01<00:00, 75.12it/s]\n",
            "100%|██████████| 34/34 [00:00<00:00, 68.56it/s]\n"
          ]
        },
        {
          "output_type": "stream",
          "name": "stdout",
          "text": [
            "Epoch=23 \n",
            "Validation: = Logloss: 0.05457373432053776 F1: 0.9880349746893695 Recall: 0.9880349746893695 Precision: 0.9880349746893695 Accuracy: 0.9880349746893695\n"
          ]
        },
        {
          "output_type": "stream",
          "name": "stderr",
          "text": [
            "100%|██████████| 136/136 [00:01<00:00, 75.11it/s]\n",
            "100%|██████████| 34/34 [00:00<00:00, 69.86it/s]\n"
          ]
        },
        {
          "output_type": "stream",
          "name": "stdout",
          "text": [
            "Epoch=24 \n",
            "Validation: = Logloss: 0.05476302956103258 F1: 0.9880349746893695 Recall: 0.9880349746893695 Precision: 0.9880349746893695 Accuracy: 0.9880349746893695\n"
          ]
        },
        {
          "output_type": "stream",
          "name": "stderr",
          "text": [
            "100%|██████████| 136/136 [00:01<00:00, 74.27it/s]\n",
            "100%|██████████| 34/34 [00:00<00:00, 67.37it/s]\n"
          ]
        },
        {
          "output_type": "stream",
          "name": "stdout",
          "text": [
            "Epoch=25 \n",
            "Validation: = Logloss: 0.05465223853983363 F1: 0.9880349746893695 Recall: 0.9880349746893695 Precision: 0.9880349746893695 Accuracy: 0.9880349746893695\n"
          ]
        },
        {
          "output_type": "stream",
          "name": "stderr",
          "text": [
            "100%|██████████| 136/136 [00:01<00:00, 74.17it/s]\n",
            "100%|██████████| 34/34 [00:00<00:00, 59.28it/s]\n"
          ]
        },
        {
          "output_type": "stream",
          "name": "stdout",
          "text": [
            "Epoch=26 \n",
            "Validation: = Logloss: 0.054497740827727355 F1: 0.9880349746893695 Recall: 0.9880349746893695 Precision: 0.9880349746893695 Accuracy: 0.9880349746893695\n"
          ]
        },
        {
          "output_type": "stream",
          "name": "stderr",
          "text": [
            "100%|██████████| 136/136 [00:01<00:00, 70.48it/s]\n",
            "100%|██████████| 34/34 [00:00<00:00, 68.57it/s]\n"
          ]
        },
        {
          "output_type": "stream",
          "name": "stdout",
          "text": [
            "Epoch=27 \n",
            "Validation: = Logloss: 0.05423735620518771 F1: 0.9880349746893695 Recall: 0.9880349746893695 Precision: 0.9880349746893695 Accuracy: 0.9880349746893695\n"
          ]
        },
        {
          "output_type": "stream",
          "name": "stderr",
          "text": [
            "100%|██████████| 136/136 [00:01<00:00, 72.32it/s]\n",
            "100%|██████████| 34/34 [00:00<00:00, 66.52it/s]\n"
          ]
        },
        {
          "output_type": "stream",
          "name": "stdout",
          "text": [
            "Epoch=28 \n",
            "Validation: = Logloss: 0.05426038642567172 F1: 0.9880349746893695 Recall: 0.9880349746893695 Precision: 0.9880349746893695 Accuracy: 0.9880349746893695\n"
          ]
        },
        {
          "output_type": "stream",
          "name": "stderr",
          "text": [
            "100%|██████████| 136/136 [00:01<00:00, 73.31it/s]\n",
            "100%|██████████| 34/34 [00:00<00:00, 69.64it/s]\n"
          ]
        },
        {
          "output_type": "stream",
          "name": "stdout",
          "text": [
            "Epoch=29 \n",
            "Validation: = Logloss: 0.05415766539601145 F1: 0.9880349746893695 Recall: 0.9880349746893695 Precision: 0.9880349746893695 Accuracy: 0.9880349746893695\n"
          ]
        },
        {
          "output_type": "stream",
          "name": "stderr",
          "text": [
            "100%|██████████| 136/136 [00:01<00:00, 73.38it/s]\n",
            "100%|██████████| 34/34 [00:00<00:00, 66.51it/s]\n"
          ]
        },
        {
          "output_type": "stream",
          "name": "stdout",
          "text": [
            "Epoch=30 \n",
            "Validation: = Logloss: 0.05416205637094349 F1: 0.9880349746893695 Recall: 0.9880349746893695 Precision: 0.9880349746893695 Accuracy: 0.9880349746893695\n"
          ]
        },
        {
          "output_type": "stream",
          "name": "stderr",
          "text": [
            "100%|██████████| 136/136 [00:01<00:00, 68.88it/s]\n",
            "100%|██████████| 34/34 [00:00<00:00, 70.52it/s]\n"
          ]
        },
        {
          "output_type": "stream",
          "name": "stdout",
          "text": [
            "Epoch=31 \n",
            "Validation: = Logloss: 0.05429440944173717 F1: 0.9880349746893695 Recall: 0.9880349746893695 Precision: 0.9880349746893695 Accuracy: 0.9880349746893695\n"
          ]
        },
        {
          "output_type": "stream",
          "name": "stderr",
          "text": [
            "100%|██████████| 136/136 [00:01<00:00, 73.95it/s]\n",
            "100%|██████████| 34/34 [00:00<00:00, 66.24it/s]\n"
          ]
        },
        {
          "output_type": "stream",
          "name": "stdout",
          "text": [
            "Epoch=32 \n",
            "Validation: = Logloss: 0.05424910928624548 F1: 0.9880349746893695 Recall: 0.9880349746893695 Precision: 0.9880349746893695 Accuracy: 0.9880349746893695\n"
          ]
        },
        {
          "output_type": "stream",
          "name": "stderr",
          "text": [
            "100%|██████████| 136/136 [00:01<00:00, 70.85it/s]\n",
            "100%|██████████| 34/34 [00:00<00:00, 67.36it/s]\n"
          ]
        },
        {
          "output_type": "stream",
          "name": "stdout",
          "text": [
            "Epoch=33 \n",
            "Validation: = Logloss: 0.054017696382262496 F1: 0.9880349746893695 Recall: 0.9880349746893695 Precision: 0.9880349746893695 Accuracy: 0.9880349746893695\n"
          ]
        },
        {
          "output_type": "stream",
          "name": "stderr",
          "text": [
            "100%|██████████| 136/136 [00:01<00:00, 74.98it/s]\n",
            "100%|██████████| 34/34 [00:00<00:00, 69.75it/s]\n"
          ]
        },
        {
          "output_type": "stream",
          "name": "stdout",
          "text": [
            "Epoch=34 \n",
            "Validation: = Logloss: 0.05420082068551243 F1: 0.9880349746893695 Recall: 0.9880349746893695 Precision: 0.9880349746893695 Accuracy: 0.9880349746893695\n"
          ]
        },
        {
          "output_type": "stream",
          "name": "stderr",
          "text": [
            "100%|██████████| 136/136 [00:01<00:00, 71.25it/s]\n",
            "100%|██████████| 34/34 [00:00<00:00, 66.45it/s]\n"
          ]
        },
        {
          "output_type": "stream",
          "name": "stdout",
          "text": [
            "Epoch=35 \n",
            "Validation: = Logloss: 0.0541614261520397 F1: 0.9880349746893695 Recall: 0.9880349746893695 Precision: 0.9880349746893695 Accuracy: 0.9880349746893695\n"
          ]
        },
        {
          "output_type": "stream",
          "name": "stderr",
          "text": [
            "100%|██████████| 136/136 [00:01<00:00, 70.48it/s]\n",
            "100%|██████████| 34/34 [00:00<00:00, 67.42it/s]\n"
          ]
        },
        {
          "output_type": "stream",
          "name": "stdout",
          "text": [
            "Epoch=36 \n",
            "Validation: = Logloss: 0.054289190188677575 F1: 0.9880349746893695 Recall: 0.9880349746893695 Precision: 0.9880349746893695 Accuracy: 0.9880349746893695\n"
          ]
        },
        {
          "output_type": "stream",
          "name": "stderr",
          "text": [
            "100%|██████████| 136/136 [00:01<00:00, 71.04it/s]\n",
            "100%|██████████| 34/34 [00:00<00:00, 67.23it/s]\n"
          ]
        },
        {
          "output_type": "stream",
          "name": "stdout",
          "text": [
            "Epoch=37 \n",
            "Validation: = Logloss: 0.054482774778733103 F1: 0.9880349746893695 Recall: 0.9880349746893695 Precision: 0.9880349746893695 Accuracy: 0.9880349746893695\n"
          ]
        },
        {
          "output_type": "stream",
          "name": "stderr",
          "text": [
            "100%|██████████| 136/136 [00:01<00:00, 74.90it/s]\n",
            "100%|██████████| 34/34 [00:00<00:00, 66.96it/s]\n"
          ]
        },
        {
          "output_type": "stream",
          "name": "stdout",
          "text": [
            "Epoch=38 \n",
            "Validation: = Logloss: 0.0544293523275518 F1: 0.9880349746893695 Recall: 0.9880349746893695 Precision: 0.9880349746893695 Accuracy: 0.9880349746893695\n"
          ]
        },
        {
          "output_type": "stream",
          "name": "stderr",
          "text": [
            "100%|██████████| 136/136 [00:01<00:00, 71.57it/s]\n",
            "100%|██████████| 34/34 [00:00<00:00, 61.55it/s]\n"
          ]
        },
        {
          "output_type": "stream",
          "name": "stdout",
          "text": [
            "Epoch=39 \n",
            "Validation: = Logloss: 0.05446918694053919 F1: 0.9880349746893695 Recall: 0.9880349746893695 Precision: 0.9880349746893695 Accuracy: 0.9880349746893695\n"
          ]
        },
        {
          "output_type": "stream",
          "name": "stderr",
          "text": [
            "100%|██████████| 136/136 [00:01<00:00, 70.00it/s]\n",
            "100%|██████████| 34/34 [00:00<00:00, 65.97it/s]\n"
          ]
        },
        {
          "output_type": "stream",
          "name": "stdout",
          "text": [
            "Epoch=40 \n",
            "Validation: = Logloss: 0.054658297203296936 F1: 0.9880349746893695 Recall: 0.9880349746893695 Precision: 0.9880349746893695 Accuracy: 0.9880349746893695\n"
          ]
        },
        {
          "output_type": "stream",
          "name": "stderr",
          "text": [
            "100%|██████████| 136/136 [00:01<00:00, 70.36it/s]\n",
            "100%|██████████| 34/34 [00:00<00:00, 64.44it/s]\n"
          ]
        },
        {
          "output_type": "stream",
          "name": "stdout",
          "text": [
            "Epoch=41 \n",
            "Validation: = Logloss: 0.054275582174741294 F1: 0.9880349746893695 Recall: 0.9880349746893695 Precision: 0.9880349746893695 Accuracy: 0.9880349746893695\n"
          ]
        },
        {
          "output_type": "stream",
          "name": "stderr",
          "text": [
            "100%|██████████| 136/136 [00:01<00:00, 71.07it/s]\n",
            "100%|██████████| 34/34 [00:00<00:00, 67.23it/s]\n"
          ]
        },
        {
          "output_type": "stream",
          "name": "stdout",
          "text": [
            "Epoch=42 \n",
            "Validation: = Logloss: 0.05411707460614956 F1: 0.9880349746893695 Recall: 0.9880349746893695 Precision: 0.9880349746893695 Accuracy: 0.9880349746893695\n"
          ]
        },
        {
          "output_type": "stream",
          "name": "stderr",
          "text": [
            "100%|██████████| 136/136 [00:01<00:00, 74.41it/s]\n",
            "100%|██████████| 34/34 [00:00<00:00, 69.52it/s]\n"
          ]
        },
        {
          "output_type": "stream",
          "name": "stdout",
          "text": [
            "Epoch=43 \n",
            "Validation: = Logloss: 0.05460145944599184 F1: 0.9880349746893695 Recall: 0.9880349746893695 Precision: 0.9880349746893695 Accuracy: 0.9880349746893695\n"
          ]
        },
        {
          "output_type": "stream",
          "name": "stderr",
          "text": [
            "100%|██████████| 136/136 [00:01<00:00, 73.65it/s]\n",
            "100%|██████████| 34/34 [00:00<00:00, 66.40it/s]\n"
          ]
        },
        {
          "output_type": "stream",
          "name": "stdout",
          "text": [
            "Epoch=44 \n",
            "Validation: = Logloss: 0.05458542816518606 F1: 0.9880349746893695 Recall: 0.9880349746893695 Precision: 0.9880349746893695 Accuracy: 0.9880349746893695\n"
          ]
        },
        {
          "output_type": "stream",
          "name": "stderr",
          "text": [
            "100%|██████████| 136/136 [00:02<00:00, 67.96it/s]\n",
            "100%|██████████| 34/34 [00:00<00:00, 62.75it/s]\n"
          ]
        },
        {
          "output_type": "stream",
          "name": "stdout",
          "text": [
            "Epoch=45 \n",
            "Validation: = Logloss: 0.05380199649837122 F1: 0.9880349746893695 Recall: 0.9880349746893695 Precision: 0.9880349746893695 Accuracy: 0.9880349746893695\n"
          ]
        },
        {
          "output_type": "stream",
          "name": "stderr",
          "text": [
            "100%|██████████| 136/136 [00:01<00:00, 68.17it/s]\n",
            "100%|██████████| 34/34 [00:00<00:00, 65.38it/s]\n"
          ]
        },
        {
          "output_type": "stream",
          "name": "stdout",
          "text": [
            "Epoch=46 \n",
            "Validation: = Logloss: 0.05386687942889644 F1: 0.9880349746893695 Recall: 0.9880349746893695 Precision: 0.9880349746893695 Accuracy: 0.9880349746893695\n"
          ]
        },
        {
          "output_type": "stream",
          "name": "stderr",
          "text": [
            "100%|██████████| 136/136 [00:01<00:00, 73.60it/s]\n",
            "100%|██████████| 34/34 [00:00<00:00, 67.01it/s]\n"
          ]
        },
        {
          "output_type": "stream",
          "name": "stdout",
          "text": [
            "Epoch=47 \n",
            "Validation: = Logloss: 0.05420863737466939 F1: 0.9880349746893695 Recall: 0.9880349746893695 Precision: 0.9880349746893695 Accuracy: 0.9880349746893695\n"
          ]
        },
        {
          "output_type": "stream",
          "name": "stderr",
          "text": [
            "100%|██████████| 136/136 [00:01<00:00, 72.32it/s]\n",
            "100%|██████████| 34/34 [00:00<00:00, 66.00it/s]\n"
          ]
        },
        {
          "output_type": "stream",
          "name": "stdout",
          "text": [
            "Epoch=48 \n",
            "Validation: = Logloss: 0.05398730105622226 F1: 0.9880349746893695 Recall: 0.9880349746893695 Precision: 0.9880349746893695 Accuracy: 0.9880349746893695\n"
          ]
        },
        {
          "output_type": "stream",
          "name": "stderr",
          "text": [
            "100%|██████████| 136/136 [00:01<00:00, 73.96it/s]\n",
            "100%|██████████| 34/34 [00:00<00:00, 67.32it/s]\n"
          ]
        },
        {
          "output_type": "stream",
          "name": "stdout",
          "text": [
            "Epoch=49 \n",
            "Validation: = Logloss: 0.05401963634991942 F1: 0.9880349746893695 Recall: 0.9880349746893695 Precision: 0.9880349746893695 Accuracy: 0.9880349746893695\n"
          ]
        },
        {
          "output_type": "stream",
          "name": "stderr",
          "text": [
            "100%|██████████| 136/136 [00:01<00:00, 71.03it/s]\n",
            "100%|██████████| 34/34 [00:00<00:00, 62.87it/s]\n"
          ]
        },
        {
          "output_type": "stream",
          "name": "stdout",
          "text": [
            "Epoch=0 \n",
            "Validation: = Logloss: 0.06340093392030988 F1: 0.9884951679705476 Recall: 0.9884951679705476 Precision: 0.9884951679705476 Accuracy: 0.9884951679705476\n"
          ]
        },
        {
          "output_type": "stream",
          "name": "stderr",
          "text": [
            "100%|██████████| 136/136 [00:01<00:00, 73.12it/s]\n",
            "100%|██████████| 34/34 [00:00<00:00, 70.38it/s]\n"
          ]
        },
        {
          "output_type": "stream",
          "name": "stdout",
          "text": [
            "Epoch=1 \n",
            "Validation: = Logloss: 0.06265379359046339 F1: 0.9884951679705476 Recall: 0.9884951679705476 Precision: 0.9884951679705476 Accuracy: 0.9884951679705476\n"
          ]
        },
        {
          "output_type": "stream",
          "name": "stderr",
          "text": [
            "100%|██████████| 136/136 [00:01<00:00, 73.90it/s]\n",
            "100%|██████████| 34/34 [00:00<00:00, 67.30it/s]\n"
          ]
        },
        {
          "output_type": "stream",
          "name": "stdout",
          "text": [
            "Epoch=2 \n",
            "Validation: = Logloss: 0.05978602129579339 F1: 0.9884951679705476 Recall: 0.9884951679705476 Precision: 0.9884951679705476 Accuracy: 0.9884951679705476\n"
          ]
        },
        {
          "output_type": "stream",
          "name": "stderr",
          "text": [
            "100%|██████████| 136/136 [00:01<00:00, 73.51it/s]\n",
            "100%|██████████| 34/34 [00:00<00:00, 68.98it/s]\n"
          ]
        },
        {
          "output_type": "stream",
          "name": "stdout",
          "text": [
            "Epoch=3 \n",
            "Validation: = Logloss: 0.057959159756171656 F1: 0.9884951679705476 Recall: 0.9884951679705476 Precision: 0.9884951679705476 Accuracy: 0.9884951679705476\n"
          ]
        },
        {
          "output_type": "stream",
          "name": "stderr",
          "text": [
            "100%|██████████| 136/136 [00:02<00:00, 66.98it/s]\n",
            "100%|██████████| 34/34 [00:00<00:00, 63.40it/s]\n"
          ]
        },
        {
          "output_type": "stream",
          "name": "stdout",
          "text": [
            "Epoch=4 \n",
            "Validation: = Logloss: 0.05457717572323046 F1: 0.9884951679705476 Recall: 0.9884951679705476 Precision: 0.9884951679705476 Accuracy: 0.9884951679705476\n"
          ]
        },
        {
          "output_type": "stream",
          "name": "stderr",
          "text": [
            "100%|██████████| 136/136 [00:01<00:00, 69.49it/s]\n",
            "100%|██████████| 34/34 [00:00<00:00, 66.54it/s]\n"
          ]
        },
        {
          "output_type": "stream",
          "name": "stdout",
          "text": [
            "Epoch=5 \n",
            "Validation: = Logloss: 0.05343512538850254 F1: 0.9884951679705476 Recall: 0.9884951679705476 Precision: 0.9884951679705476 Accuracy: 0.9884951679705476\n"
          ]
        },
        {
          "output_type": "stream",
          "name": "stderr",
          "text": [
            "100%|██████████| 136/136 [00:01<00:00, 73.30it/s]\n",
            "100%|██████████| 34/34 [00:00<00:00, 66.76it/s]\n"
          ]
        },
        {
          "output_type": "stream",
          "name": "stdout",
          "text": [
            "Epoch=6 \n",
            "Validation: = Logloss: 0.053340522386434115 F1: 0.9884951679705476 Recall: 0.9884951679705476 Precision: 0.9884951679705476 Accuracy: 0.9884951679705476\n"
          ]
        },
        {
          "output_type": "stream",
          "name": "stderr",
          "text": [
            "100%|██████████| 136/136 [00:01<00:00, 73.96it/s]\n",
            "100%|██████████| 34/34 [00:00<00:00, 66.06it/s]\n"
          ]
        },
        {
          "output_type": "stream",
          "name": "stdout",
          "text": [
            "Epoch=7 \n",
            "Validation: = Logloss: 0.05276204247732516 F1: 0.9884951679705476 Recall: 0.9884951679705476 Precision: 0.9884951679705476 Accuracy: 0.9884951679705476\n"
          ]
        },
        {
          "output_type": "stream",
          "name": "stderr",
          "text": [
            "100%|██████████| 136/136 [00:01<00:00, 72.86it/s]\n",
            "100%|██████████| 34/34 [00:00<00:00, 70.16it/s]\n"
          ]
        },
        {
          "output_type": "stream",
          "name": "stdout",
          "text": [
            "Epoch=8 \n",
            "Validation: = Logloss: 0.05185917262214507 F1: 0.9884951679705476 Recall: 0.9884951679705476 Precision: 0.9884951679705476 Accuracy: 0.9884951679705476\n"
          ]
        },
        {
          "output_type": "stream",
          "name": "stderr",
          "text": [
            "100%|██████████| 136/136 [00:01<00:00, 74.44it/s]\n",
            "100%|██████████| 34/34 [00:00<00:00, 65.48it/s]\n"
          ]
        },
        {
          "output_type": "stream",
          "name": "stdout",
          "text": [
            "Epoch=9 \n",
            "Validation: = Logloss: 0.05192496826927759 F1: 0.9884951679705476 Recall: 0.9884951679705476 Precision: 0.9884951679705476 Accuracy: 0.9884951679705476\n"
          ]
        },
        {
          "output_type": "stream",
          "name": "stderr",
          "text": [
            "100%|██████████| 136/136 [00:01<00:00, 73.75it/s]\n",
            "100%|██████████| 34/34 [00:00<00:00, 67.07it/s]\n"
          ]
        },
        {
          "output_type": "stream",
          "name": "stdout",
          "text": [
            "Epoch=10 \n",
            "Validation: = Logloss: 0.051633566159481475 F1: 0.9884951679705476 Recall: 0.9884951679705476 Precision: 0.9884951679705476 Accuracy: 0.9884951679705476\n"
          ]
        },
        {
          "output_type": "stream",
          "name": "stderr",
          "text": [
            "100%|██████████| 136/136 [00:01<00:00, 74.17it/s]\n",
            "100%|██████████| 34/34 [00:00<00:00, 68.32it/s]\n"
          ]
        },
        {
          "output_type": "stream",
          "name": "stdout",
          "text": [
            "Epoch=11 \n",
            "Validation: = Logloss: 0.050755127651907414 F1: 0.9884951679705476 Recall: 0.9884951679705476 Precision: 0.9884951679705476 Accuracy: 0.9884951679705476\n"
          ]
        },
        {
          "output_type": "stream",
          "name": "stderr",
          "text": [
            "100%|██████████| 136/136 [00:01<00:00, 70.55it/s]\n",
            "100%|██████████| 34/34 [00:00<00:00, 65.72it/s]\n"
          ]
        },
        {
          "output_type": "stream",
          "name": "stdout",
          "text": [
            "Epoch=12 \n",
            "Validation: = Logloss: 0.051206462459894665 F1: 0.9884951679705476 Recall: 0.9884951679705476 Precision: 0.9884951679705476 Accuracy: 0.9884951679705476\n"
          ]
        },
        {
          "output_type": "stream",
          "name": "stderr",
          "text": [
            "100%|██████████| 136/136 [00:01<00:00, 72.00it/s]\n",
            "100%|██████████| 34/34 [00:00<00:00, 66.95it/s]\n"
          ]
        },
        {
          "output_type": "stream",
          "name": "stdout",
          "text": [
            "Epoch=13 \n",
            "Validation: = Logloss: 0.05127304263423975 F1: 0.9884951679705476 Recall: 0.9884951679705476 Precision: 0.9884951679705476 Accuracy: 0.9884951679705476\n"
          ]
        },
        {
          "output_type": "stream",
          "name": "stderr",
          "text": [
            "100%|██████████| 136/136 [00:01<00:00, 72.28it/s]\n",
            "100%|██████████| 34/34 [00:00<00:00, 64.27it/s]\n"
          ]
        },
        {
          "output_type": "stream",
          "name": "stdout",
          "text": [
            "Epoch=14 \n",
            "Validation: = Logloss: 0.05103603398043559 F1: 0.9884951679705476 Recall: 0.9884951679705476 Precision: 0.9884951679705476 Accuracy: 0.9884951679705476\n"
          ]
        },
        {
          "output_type": "stream",
          "name": "stderr",
          "text": [
            "100%|██████████| 136/136 [00:01<00:00, 72.04it/s]\n",
            "100%|██████████| 34/34 [00:00<00:00, 66.52it/s]\n"
          ]
        },
        {
          "output_type": "stream",
          "name": "stdout",
          "text": [
            "Epoch=15 \n",
            "Validation: = Logloss: 0.05175928770605254 F1: 0.9884951679705476 Recall: 0.9884951679705476 Precision: 0.9884951679705476 Accuracy: 0.9884951679705476\n"
          ]
        },
        {
          "output_type": "stream",
          "name": "stderr",
          "text": [
            "100%|██████████| 136/136 [00:01<00:00, 71.93it/s]\n",
            "100%|██████████| 34/34 [00:00<00:00, 67.55it/s]\n"
          ]
        },
        {
          "output_type": "stream",
          "name": "stdout",
          "text": [
            "Epoch=16 \n",
            "Validation: = Logloss: 0.05127628115278223 F1: 0.9884951679705476 Recall: 0.9884951679705476 Precision: 0.9884951679705476 Accuracy: 0.9884951679705476\n"
          ]
        },
        {
          "output_type": "stream",
          "name": "stderr",
          "text": [
            "100%|██████████| 136/136 [00:01<00:00, 71.33it/s]\n",
            "100%|██████████| 34/34 [00:00<00:00, 66.13it/s]\n"
          ]
        },
        {
          "output_type": "stream",
          "name": "stdout",
          "text": [
            "Epoch=17 \n",
            "Validation: = Logloss: 0.0512266820575905 F1: 0.9884951679705476 Recall: 0.9884951679705476 Precision: 0.9884951679705476 Accuracy: 0.9884951679705476\n"
          ]
        },
        {
          "output_type": "stream",
          "name": "stderr",
          "text": [
            "100%|██████████| 136/136 [00:01<00:00, 72.64it/s]\n",
            "100%|██████████| 34/34 [00:00<00:00, 66.91it/s]\n"
          ]
        },
        {
          "output_type": "stream",
          "name": "stdout",
          "text": [
            "Epoch=18 \n",
            "Validation: = Logloss: 0.05095418040512415 F1: 0.9884951679705476 Recall: 0.9884951679705476 Precision: 0.9884951679705476 Accuracy: 0.9884951679705476\n"
          ]
        },
        {
          "output_type": "stream",
          "name": "stderr",
          "text": [
            "100%|██████████| 136/136 [00:01<00:00, 68.28it/s]\n",
            "100%|██████████| 34/34 [00:00<00:00, 65.20it/s]\n"
          ]
        },
        {
          "output_type": "stream",
          "name": "stdout",
          "text": [
            "Epoch=19 \n",
            "Validation: = Logloss: 0.05096741476343178 F1: 0.9884951679705476 Recall: 0.9884951679705476 Precision: 0.9884951679705476 Accuracy: 0.9884951679705476\n"
          ]
        },
        {
          "output_type": "stream",
          "name": "stderr",
          "text": [
            "100%|██████████| 136/136 [00:01<00:00, 70.33it/s]\n",
            "100%|██████████| 34/34 [00:00<00:00, 67.94it/s]\n"
          ]
        },
        {
          "output_type": "stream",
          "name": "stdout",
          "text": [
            "Epoch=20 \n",
            "Validation: = Logloss: 0.05090614486743966 F1: 0.9884951679705476 Recall: 0.9884951679705476 Precision: 0.9884951679705476 Accuracy: 0.9884951679705476\n"
          ]
        },
        {
          "output_type": "stream",
          "name": "stderr",
          "text": [
            "100%|██████████| 136/136 [00:01<00:00, 75.86it/s]\n",
            "100%|██████████| 34/34 [00:00<00:00, 59.95it/s]\n"
          ]
        },
        {
          "output_type": "stream",
          "name": "stdout",
          "text": [
            "Epoch=21 \n",
            "Validation: = Logloss: 0.05092519925853246 F1: 0.9884951679705476 Recall: 0.9884951679705476 Precision: 0.9884951679705476 Accuracy: 0.9884951679705476\n"
          ]
        },
        {
          "output_type": "stream",
          "name": "stderr",
          "text": [
            "100%|██████████| 136/136 [00:01<00:00, 71.95it/s]\n",
            "100%|██████████| 34/34 [00:00<00:00, 66.37it/s]\n"
          ]
        },
        {
          "output_type": "stream",
          "name": "stdout",
          "text": [
            "Epoch=22 \n",
            "Validation: = Logloss: 0.05103832437408825 F1: 0.9884951679705476 Recall: 0.9884951679705476 Precision: 0.9884951679705476 Accuracy: 0.9884951679705476\n"
          ]
        },
        {
          "output_type": "stream",
          "name": "stderr",
          "text": [
            "100%|██████████| 136/136 [00:01<00:00, 72.98it/s]\n",
            "100%|██████████| 34/34 [00:00<00:00, 65.15it/s]\n"
          ]
        },
        {
          "output_type": "stream",
          "name": "stdout",
          "text": [
            "Epoch=23 \n",
            "Validation: = Logloss: 0.05095253503051231 F1: 0.9884951679705476 Recall: 0.9884951679705476 Precision: 0.9884951679705476 Accuracy: 0.9884951679705476\n"
          ]
        },
        {
          "output_type": "stream",
          "name": "stderr",
          "text": [
            "100%|██████████| 136/136 [00:01<00:00, 72.50it/s]\n",
            "100%|██████████| 34/34 [00:00<00:00, 63.21it/s]\n"
          ]
        },
        {
          "output_type": "stream",
          "name": "stdout",
          "text": [
            "Epoch=24 \n",
            "Validation: = Logloss: 0.05115054429096294 F1: 0.9884951679705476 Recall: 0.9884951679705476 Precision: 0.9884951679705476 Accuracy: 0.9884951679705476\n"
          ]
        },
        {
          "output_type": "stream",
          "name": "stderr",
          "text": [
            "100%|██████████| 136/136 [00:01<00:00, 73.05it/s]\n",
            "100%|██████████| 34/34 [00:00<00:00, 67.78it/s]\n"
          ]
        },
        {
          "output_type": "stream",
          "name": "stdout",
          "text": [
            "Epoch=25 \n",
            "Validation: = Logloss: 0.05085962141940449 F1: 0.9884951679705476 Recall: 0.9884951679705476 Precision: 0.9884951679705476 Accuracy: 0.9884951679705476\n"
          ]
        },
        {
          "output_type": "stream",
          "name": "stderr",
          "text": [
            "100%|██████████| 136/136 [00:01<00:00, 74.43it/s]\n",
            "100%|██████████| 34/34 [00:00<00:00, 65.71it/s]\n"
          ]
        },
        {
          "output_type": "stream",
          "name": "stdout",
          "text": [
            "Epoch=26 \n",
            "Validation: = Logloss: 0.05067735108844086 F1: 0.9884951679705476 Recall: 0.9884951679705476 Precision: 0.9884951679705476 Accuracy: 0.9884951679705476\n"
          ]
        },
        {
          "output_type": "stream",
          "name": "stderr",
          "text": [
            "100%|██████████| 136/136 [00:01<00:00, 69.30it/s]\n",
            "100%|██████████| 34/34 [00:00<00:00, 64.15it/s]\n"
          ]
        },
        {
          "output_type": "stream",
          "name": "stdout",
          "text": [
            "Epoch=27 \n",
            "Validation: = Logloss: 0.05097755362381568 F1: 0.9884951679705476 Recall: 0.9884951679705476 Precision: 0.9884951679705476 Accuracy: 0.9884951679705476\n"
          ]
        },
        {
          "output_type": "stream",
          "name": "stderr",
          "text": [
            "100%|██████████| 136/136 [00:02<00:00, 67.93it/s]\n",
            "100%|██████████| 34/34 [00:00<00:00, 66.30it/s]\n"
          ]
        },
        {
          "output_type": "stream",
          "name": "stdout",
          "text": [
            "Epoch=28 \n",
            "Validation: = Logloss: 0.05095385885388249 F1: 0.9884951679705476 Recall: 0.9884951679705476 Precision: 0.9884951679705476 Accuracy: 0.9884951679705476\n"
          ]
        },
        {
          "output_type": "stream",
          "name": "stderr",
          "text": [
            "100%|██████████| 136/136 [00:01<00:00, 71.28it/s]\n",
            "100%|██████████| 34/34 [00:00<00:00, 65.01it/s]\n"
          ]
        },
        {
          "output_type": "stream",
          "name": "stdout",
          "text": [
            "Epoch=29 \n",
            "Validation: = Logloss: 0.050844376101928414 F1: 0.9884951679705476 Recall: 0.9884951679705476 Precision: 0.9884951679705476 Accuracy: 0.9884951679705476\n"
          ]
        },
        {
          "output_type": "stream",
          "name": "stderr",
          "text": [
            "100%|██████████| 136/136 [00:01<00:00, 72.57it/s]\n",
            "100%|██████████| 34/34 [00:00<00:00, 66.30it/s]\n"
          ]
        },
        {
          "output_type": "stream",
          "name": "stdout",
          "text": [
            "Epoch=30 \n",
            "Validation: = Logloss: 0.05088704297537787 F1: 0.9884951679705476 Recall: 0.9884951679705476 Precision: 0.9884951679705476 Accuracy: 0.9884951679705476\n"
          ]
        },
        {
          "output_type": "stream",
          "name": "stderr",
          "text": [
            "100%|██████████| 136/136 [00:01<00:00, 72.23it/s]\n",
            "100%|██████████| 34/34 [00:00<00:00, 64.83it/s]\n"
          ]
        },
        {
          "output_type": "stream",
          "name": "stdout",
          "text": [
            "Epoch=31 \n",
            "Validation: = Logloss: 0.05085119051913534 F1: 0.9884951679705476 Recall: 0.9884951679705476 Precision: 0.9884951679705476 Accuracy: 0.9884951679705476\n"
          ]
        },
        {
          "output_type": "stream",
          "name": "stderr",
          "text": [
            "100%|██████████| 136/136 [00:01<00:00, 72.99it/s]\n",
            "100%|██████████| 34/34 [00:00<00:00, 69.31it/s]\n"
          ]
        },
        {
          "output_type": "stream",
          "name": "stdout",
          "text": [
            "Epoch=32 \n",
            "Validation: = Logloss: 0.05083749239030177 F1: 0.9884951679705476 Recall: 0.9884951679705476 Precision: 0.9884951679705476 Accuracy: 0.9884951679705476\n"
          ]
        },
        {
          "output_type": "stream",
          "name": "stderr",
          "text": [
            "100%|██████████| 136/136 [00:01<00:00, 72.23it/s]\n",
            "100%|██████████| 34/34 [00:00<00:00, 64.39it/s]\n"
          ]
        },
        {
          "output_type": "stream",
          "name": "stdout",
          "text": [
            "Epoch=33 \n",
            "Validation: = Logloss: 0.050941996022198795 F1: 0.9884951679705476 Recall: 0.9884951679705476 Precision: 0.9884951679705476 Accuracy: 0.9884951679705476\n"
          ]
        },
        {
          "output_type": "stream",
          "name": "stderr",
          "text": [
            "100%|██████████| 136/136 [00:01<00:00, 72.62it/s]\n",
            "100%|██████████| 34/34 [00:00<00:00, 66.93it/s]\n"
          ]
        },
        {
          "output_type": "stream",
          "name": "stdout",
          "text": [
            "Epoch=34 \n",
            "Validation: = Logloss: 0.05092341428955519 F1: 0.9884951679705476 Recall: 0.9884951679705476 Precision: 0.9884951679705476 Accuracy: 0.9884951679705476\n"
          ]
        },
        {
          "output_type": "stream",
          "name": "stderr",
          "text": [
            "100%|██████████| 136/136 [00:01<00:00, 72.30it/s]\n",
            "100%|██████████| 34/34 [00:00<00:00, 67.11it/s]\n"
          ]
        },
        {
          "output_type": "stream",
          "name": "stdout",
          "text": [
            "Epoch=35 \n",
            "Validation: = Logloss: 0.050961344629835655 F1: 0.9884951679705476 Recall: 0.9884951679705476 Precision: 0.9884951679705476 Accuracy: 0.9884951679705476\n"
          ]
        },
        {
          "output_type": "stream",
          "name": "stderr",
          "text": [
            "100%|██████████| 136/136 [00:01<00:00, 72.38it/s]\n",
            "100%|██████████| 34/34 [00:00<00:00, 66.04it/s]\n"
          ]
        },
        {
          "output_type": "stream",
          "name": "stdout",
          "text": [
            "Epoch=36 \n",
            "Validation: = Logloss: 0.05087987882941558 F1: 0.9884951679705476 Recall: 0.9884951679705476 Precision: 0.9884951679705476 Accuracy: 0.9884951679705476\n"
          ]
        },
        {
          "output_type": "stream",
          "name": "stderr",
          "text": [
            "100%|██████████| 136/136 [00:01<00:00, 70.10it/s]\n",
            "100%|██████████| 34/34 [00:00<00:00, 65.68it/s]\n"
          ]
        },
        {
          "output_type": "stream",
          "name": "stdout",
          "text": [
            "Epoch=37 \n",
            "Validation: = Logloss: 0.05075942228893371 F1: 0.9884951679705476 Recall: 0.9884951679705476 Precision: 0.9884951679705476 Accuracy: 0.9884951679705476\n"
          ]
        },
        {
          "output_type": "stream",
          "name": "stderr",
          "text": [
            "100%|██████████| 136/136 [00:01<00:00, 73.63it/s]\n",
            "100%|██████████| 34/34 [00:00<00:00, 67.52it/s]\n"
          ]
        },
        {
          "output_type": "stream",
          "name": "stdout",
          "text": [
            "Epoch=38 \n",
            "Validation: = Logloss: 0.050779406838783944 F1: 0.9884951679705476 Recall: 0.9884951679705476 Precision: 0.9884951679705476 Accuracy: 0.9884951679705476\n"
          ]
        },
        {
          "output_type": "stream",
          "name": "stderr",
          "text": [
            "100%|██████████| 136/136 [00:01<00:00, 73.65it/s]\n",
            "100%|██████████| 34/34 [00:00<00:00, 66.32it/s]\n"
          ]
        },
        {
          "output_type": "stream",
          "name": "stdout",
          "text": [
            "Epoch=39 \n",
            "Validation: = Logloss: 0.05076073490115673 F1: 0.9884951679705476 Recall: 0.9884951679705476 Precision: 0.9884951679705476 Accuracy: 0.9884951679705476\n"
          ]
        },
        {
          "output_type": "stream",
          "name": "stderr",
          "text": [
            "100%|██████████| 136/136 [00:01<00:00, 74.77it/s]\n",
            "100%|██████████| 34/34 [00:00<00:00, 66.30it/s]\n"
          ]
        },
        {
          "output_type": "stream",
          "name": "stdout",
          "text": [
            "Epoch=40 \n",
            "Validation: = Logloss: 0.050889066730192334 F1: 0.9884951679705476 Recall: 0.9884951679705476 Precision: 0.9884951679705476 Accuracy: 0.9884951679705476\n"
          ]
        },
        {
          "output_type": "stream",
          "name": "stderr",
          "text": [
            "100%|██████████| 136/136 [00:01<00:00, 73.85it/s]\n",
            "100%|██████████| 34/34 [00:00<00:00, 66.96it/s]\n"
          ]
        },
        {
          "output_type": "stream",
          "name": "stdout",
          "text": [
            "Epoch=41 \n",
            "Validation: = Logloss: 0.050737482995336675 F1: 0.9884951679705476 Recall: 0.9884951679705476 Precision: 0.9884951679705476 Accuracy: 0.9884951679705476\n"
          ]
        },
        {
          "output_type": "stream",
          "name": "stderr",
          "text": [
            "100%|██████████| 136/136 [00:02<00:00, 65.84it/s]\n",
            "100%|██████████| 34/34 [00:00<00:00, 63.83it/s]\n"
          ]
        },
        {
          "output_type": "stream",
          "name": "stdout",
          "text": [
            "Epoch=42 \n",
            "Validation: = Logloss: 0.05094969319073567 F1: 0.9884951679705476 Recall: 0.9884951679705476 Precision: 0.9884951679705476 Accuracy: 0.9884951679705476\n"
          ]
        },
        {
          "output_type": "stream",
          "name": "stderr",
          "text": [
            "100%|██████████| 136/136 [00:01<00:00, 68.51it/s]\n",
            "100%|██████████| 34/34 [00:00<00:00, 63.62it/s]\n"
          ]
        },
        {
          "output_type": "stream",
          "name": "stdout",
          "text": [
            "Epoch=43 \n",
            "Validation: = Logloss: 0.05110739654256472 F1: 0.9884951679705476 Recall: 0.9884951679705476 Precision: 0.9884951679705476 Accuracy: 0.9884951679705476\n"
          ]
        },
        {
          "output_type": "stream",
          "name": "stderr",
          "text": [
            "100%|██████████| 136/136 [00:01<00:00, 72.46it/s]\n",
            "100%|██████████| 34/34 [00:00<00:00, 67.49it/s]\n"
          ]
        },
        {
          "output_type": "stream",
          "name": "stdout",
          "text": [
            "Epoch=44 \n",
            "Validation: = Logloss: 0.05066392065082059 F1: 0.9884951679705476 Recall: 0.9884951679705476 Precision: 0.9884951679705476 Accuracy: 0.9884951679705476\n"
          ]
        },
        {
          "output_type": "stream",
          "name": "stderr",
          "text": [
            "100%|██████████| 136/136 [00:01<00:00, 70.82it/s]\n",
            "100%|██████████| 34/34 [00:00<00:00, 66.03it/s]\n"
          ]
        },
        {
          "output_type": "stream",
          "name": "stdout",
          "text": [
            "Epoch=45 \n",
            "Validation: = Logloss: 0.05079391713293711 F1: 0.9884951679705476 Recall: 0.9884951679705476 Precision: 0.9884951679705476 Accuracy: 0.9884951679705476\n"
          ]
        },
        {
          "output_type": "stream",
          "name": "stderr",
          "text": [
            "100%|██████████| 136/136 [00:01<00:00, 71.33it/s]\n",
            "100%|██████████| 34/34 [00:00<00:00, 63.68it/s]\n"
          ]
        },
        {
          "output_type": "stream",
          "name": "stdout",
          "text": [
            "Epoch=46 \n",
            "Validation: = Logloss: 0.05062481885723777 F1: 0.9884951679705476 Recall: 0.9884951679705476 Precision: 0.9884951679705476 Accuracy: 0.9884951679705476\n"
          ]
        },
        {
          "output_type": "stream",
          "name": "stderr",
          "text": [
            "100%|██████████| 136/136 [00:01<00:00, 70.46it/s]\n",
            "100%|██████████| 34/34 [00:00<00:00, 66.60it/s]\n"
          ]
        },
        {
          "output_type": "stream",
          "name": "stdout",
          "text": [
            "Epoch=47 \n",
            "Validation: = Logloss: 0.0508457200687166 F1: 0.9884951679705476 Recall: 0.9884951679705476 Precision: 0.9884951679705476 Accuracy: 0.9884951679705476\n"
          ]
        },
        {
          "output_type": "stream",
          "name": "stderr",
          "text": [
            "100%|██████████| 136/136 [00:01<00:00, 73.84it/s]\n",
            "100%|██████████| 34/34 [00:00<00:00, 65.41it/s]\n"
          ]
        },
        {
          "output_type": "stream",
          "name": "stdout",
          "text": [
            "Epoch=48 \n",
            "Validation: = Logloss: 0.05077916412273559 F1: 0.9884951679705476 Recall: 0.9884951679705476 Precision: 0.9884951679705476 Accuracy: 0.9884951679705476\n"
          ]
        },
        {
          "output_type": "stream",
          "name": "stderr",
          "text": [
            "100%|██████████| 136/136 [00:01<00:00, 70.88it/s]\n",
            "100%|██████████| 34/34 [00:00<00:00, 64.52it/s]\n"
          ]
        },
        {
          "output_type": "stream",
          "name": "stdout",
          "text": [
            "Epoch=49 \n",
            "Validation: = Logloss: 0.05093674119577534 F1: 0.9884951679705476 Recall: 0.9884951679705476 Precision: 0.9884951679705476 Accuracy: 0.9884951679705476\n"
          ]
        }
      ]
    },
    {
      "cell_type": "code",
      "source": [
        "# 1:08 - 1:25\n",
        "class TestDataset:\n",
        "  def __init__(self, X):\n",
        "    self.X = X\n",
        "    \n",
        "  def __len__(self):\n",
        "    return len(self.X)\n",
        "    \n",
        "  def __getitem__(self, item):\n",
        "    X = self.X[item, :]\n",
        "    return {\n",
        "      \"X\": torch.tensor(X, dtype=torch.float),\n",
        "    }"
      ],
      "metadata": {
        "id": "RI6FqGcytGEg"
      },
      "id": "RI6FqGcytGEg",
      "execution_count": null,
      "outputs": []
    },
    {
      "cell_type": "code",
      "source": [
        "# class EmbeddingExtractorNeuralNet(nn.Module):\n",
        "#     def __init__(self, input_shape, num_aux_targets):\n",
        "#         super(EmbeddingExtractorNeuralNet, self).__init__()\n",
        "#         self.lstm = nn.LSTM(input_shape, LSTM_UNITS, bidirectional=True, batch_first=True)\n",
        "#         self.gru = nn.GRU(input_shape, GRU_UNITS, bidirectional=True, batch_first=True)\n",
        "\n",
        "#         self.linear1 = nn.Linear(LSTM_UNITS*2, DENSE_HIDDEN_UNITS)\n",
        "#         self.linear2 = nn.Linear(GRU_UNITS*2, DENSE_HIDDEN_UNITS)\n",
        "\n",
        "#         self.attention = nn.Sequential(            \n",
        "#             nn.Linear(DENSE_HIDDEN_UNITS, 256),            \n",
        "#             nn.Tanh(),                       \n",
        "#             nn.Linear(256, 1),\n",
        "#             nn.Softmax(dim=1)\n",
        "#         )  \n",
        "        \n",
        "        \n",
        "#         self.linear_out = nn.Linear(DENSE_HIDDEN_UNITS, num_aux_targets)\n",
        "#         # self.linear_aux_out = nn.Linear(DENSE_HIDDEN_UNITS, num_aux_targets)\n",
        "        \n",
        "#     def forward(self, x):\n",
        "#         x = x.view((-1,1,100))\n",
        "#         h_lstm, _ = self.lstm(x)\n",
        "#         h_gru, _ = self.gru(x)\n",
        "        \n",
        "#         h_lstm = h_lstm.squeeze()\n",
        "#         h_gru = h_gru.squeeze()\n",
        "\n",
        "#         # global average pooling\n",
        "#         # avg_pool = torch.mean(h_lstm2, 1)\n",
        "#         # global max pooling\n",
        "#         # max_pool, _ = torch.max(h_lstm2, 1)\n",
        "        \n",
        "#         # h_conc = torch.cat((max_pool, avg_pool), 1)\n",
        "#         h_conc_linear1  = F.relu(self.linear1(h_lstm))\n",
        "#         h_conc_linear2  = F.relu(self.linear2(h_gru))\n",
        "        \n",
        "#         hidden = (h_conc_linear1 + h_conc_linear2)/2\n",
        "      \n",
        "#         weights = self.attention(hidden)\n",
        "\n",
        "#         context_vector = weights * hidden      \n",
        "        \n",
        "#         # print(context_vector.shape)\n",
        "#         # print(weights.shape)\n",
        "#         # print(hidden.shape)\n",
        "\n",
        "#         # results = self.linear_out(context_vector)\n",
        "\n",
        "#         return context_vector"
      ],
      "metadata": {
        "id": "IWqBGcBRryqX"
      },
      "id": "IWqBGcBRryqX",
      "execution_count": null,
      "outputs": []
    },
    {
      "cell_type": "code",
      "source": [
        "# def get_embeddings(df,path = '/content/model_9.pth',plot_losses=True, verbose=True):\n",
        "#     device = torch.device(\"cuda\" if torch.cuda.is_available() else \"cpu\")\n",
        "#     print(f\"{device} is used\")\n",
        "            \n",
        "#     model = EmbeddingExtractorNeuralNet(100, 9)\n",
        "#     model = load_checkpoint(model, '/content/model_9.pth')[0]\n",
        "#     model.to(device)\n",
        "#     model.eval()\n",
        "    \n",
        "#     ds = TestDataset(df.values)\n",
        "#     dl = torch.utils.data.DataLoader(\n",
        "#           ds, batch_size=64, shuffle=False, num_workers=4\n",
        "#         )\n",
        "     \n",
        "#     embeddings = list()\n",
        "#     with torch.no_grad():\n",
        "#         for i, inputs in tqdm.tqdm(enumerate(dl)):\n",
        "#             inputs = inputs[\"X\"]\n",
        "#             inputs = inputs.to(device, dtype=torch.float)\n",
        "#             preds = model(inputs)\n",
        "#             preds = preds.detach().cpu().numpy()\n",
        "\n",
        "#             embeddings.extend(preds)\n",
        "\n",
        "#     return np.array(embeddings)"
      ],
      "metadata": {
        "id": "-qVJYj1isqW9"
      },
      "id": "-qVJYj1isqW9",
      "execution_count": null,
      "outputs": []
    },
    {
      "cell_type": "code",
      "source": [
        "# embs = get_embeddings(df.drop([0, 'Family'],axis=1))"
      ],
      "metadata": {
        "id": "eZxDsk_DstbA"
      },
      "id": "eZxDsk_DstbA",
      "execution_count": null,
      "outputs": []
    },
    {
      "cell_type": "code",
      "source": [
        "# def cross_val(X, y, model, metric, folds, Name):\n",
        "#         scores_val = []\n",
        "#         scores_train = []\n",
        "#         k = -1\n",
        "#         y_predx, y_valx = None, None\n",
        "#         for tr_in, val_in in StratifiedKFold(n_splits = folds, shuffle=True).split(X, y):\n",
        "#             k += 1\n",
        "#             model_fold = model\n",
        "#             X_train, y_train, X_val, y_val = X.iloc[tr_in,:], y[tr_in], X.iloc[val_in,:], y[val_in]\n",
        "#             model_fold.fit(X_train, y_train)\n",
        "#             y_hat = model.predict(X_val)\n",
        "#             y_valx = y_hat\n",
        "#             y_predx = y_val\n",
        "#             if not (Name == 'Accuracy'):\n",
        "#               score_val = metric(y_val,y_hat, average='micro')\n",
        "#               score_train = metric(y_train,model.predict(X_train), average='micro')\n",
        "\n",
        "#             else:\n",
        "#               score_val = metric(y_val,y_hat)\n",
        "#               score_train = metric(y_train,model.predict(X_train))\n",
        "#             print(f'For fold {k} {Name} is {score_val}')\n",
        "#             scores_val.append(score_val)\n",
        "#             scores_train.append(score_train)\n",
        "#         return scores_val, scores_train , y_predx, y_valx"
      ],
      "metadata": {
        "id": "vUiEwasguLcn"
      },
      "id": "vUiEwasguLcn",
      "execution_count": null,
      "outputs": []
    },
    {
      "cell_type": "code",
      "source": [
        "# feats = pd.DataFrame(embs)\n",
        "# y = df['Family'].copy()"
      ],
      "metadata": {
        "id": "kiBXweEfucvc"
      },
      "id": "kiBXweEfucvc",
      "execution_count": null,
      "outputs": []
    },
    {
      "cell_type": "code",
      "source": [
        "# accuracy_val, accuracy_train, y_pred, y_val = cross_val(feats, y, LGBMClassifier(n_jobs = -1), accuracy_score, 5, 'Accuracy')\n",
        "# accuracy = np.mean(accuracy_val)\n",
        "# print(f\"Mean Accuracy is {accuracy}\")"
      ],
      "metadata": {
        "id": "rlyv0HnVuT_R"
      },
      "id": "rlyv0HnVuT_R",
      "execution_count": null,
      "outputs": []
    },
    {
      "cell_type": "code",
      "metadata": {
        "id": "sAOGzwdxSinD"
      },
      "source": [
        "import matplotlib.pyplot as plt\n",
        "from sklearn.metrics import confusion_matrix\n",
        "import seaborn as sns"
      ],
      "id": "sAOGzwdxSinD",
      "execution_count": null,
      "outputs": []
    },
    {
      "cell_type": "code",
      "metadata": {
        "id": "zZt9twX-SkMU",
        "colab": {
          "base_uri": "https://localhost:8080/",
          "height": 279
        },
        "outputId": "b932e46e-f887-4107-ac11-c21437964f09"
      },
      "source": [
        "plt.plot(range((epoch+1)*5), accuracy_list, label = 'validation accuracy')\n",
        "plt.legend()\n",
        "plt.xlabel('Epochs')\n",
        "plt.ylabel('Accuracy')\n",
        "plt.show()"
      ],
      "id": "zZt9twX-SkMU",
      "execution_count": null,
      "outputs": [
        {
          "output_type": "display_data",
          "data": {
            "image/png": "[encoded data removed]",
            "text/plain": [
              "<Figure size 432x288 with 1 Axes>"
            ]
          },
          "metadata": {
            "needs_background": "light"
          }
        }
      ]
    },
    {
      "cell_type": "code",
      "source": [
        "plt.plot(range((epoch+1)*5), f1_list, label = 'validation F1 score')\n",
        "plt.legend()\n",
        "plt.xlabel('Epochs')\n",
        "plt.ylabel('F1 score')\n",
        "plt.show()"
      ],
      "metadata": {
        "colab": {
          "base_uri": "https://localhost:8080/",
          "height": 279
        },
        "id": "takUW6FVgyZ0",
        "outputId": "6afced23-2efa-4951-a62e-4dd045e99aa1"
      },
      "id": "takUW6FVgyZ0",
      "execution_count": null,
      "outputs": [
        {
          "output_type": "display_data",
          "data": {
            "image/png": "[encoded data removed]",
            "text/plain": [
              "<Figure size 432x288 with 1 Axes>"
            ]
          },
          "metadata": {
            "needs_background": "light"
          }
        }
      ]
    },
    {
      "cell_type": "code",
      "source": [
        "plt.plot(range((epoch+1)*5), recall_list, label = 'validation recall')\n",
        "plt.legend()\n",
        "plt.xlabel('Epochs')\n",
        "plt.ylabel('Recall')\n",
        "plt.show()"
      ],
      "metadata": {
        "colab": {
          "base_uri": "https://localhost:8080/",
          "height": 279
        },
        "id": "ceB4yk9UgzRC",
        "outputId": "befaa325-973f-471f-c211-dd2faca8954c"
      },
      "id": "ceB4yk9UgzRC",
      "execution_count": null,
      "outputs": [
        {
          "output_type": "display_data",
          "data": {
            "image/png": "[encoded data removed]",
            "text/plain": [
              "<Figure size 432x288 with 1 Axes>"
            ]
          },
          "metadata": {
            "needs_background": "light"
          }
        }
      ]
    },
    {
      "cell_type": "code",
      "source": [
        "plt.plot(range((epoch+1)*5), precision_list, label = 'validation precision')\n",
        "plt.legend()\n",
        "plt.xlabel('Epochs')\n",
        "plt.ylabel('Precision')\n",
        "plt.show()"
      ],
      "metadata": {
        "colab": {
          "base_uri": "https://localhost:8080/",
          "height": 279
        },
        "id": "HI_7_WGbgzje",
        "outputId": "2c8ba890-b9e6-4892-af1a-6b27b7ece27a"
      },
      "id": "HI_7_WGbgzje",
      "execution_count": null,
      "outputs": [
        {
          "output_type": "display_data",
          "data": {
            "image/png": "[encoded data removed]",
            "text/plain": [
              "<Figure size 432x288 with 1 Axes>"
            ]
          },
          "metadata": {
            "needs_background": "light"
          }
        }
      ]
    },
    {
      "cell_type": "code",
      "source": [
        "plt.plot(range((epoch+1)*5), logloss_list, label = 'validation logloss')\n",
        "plt.legend()\n",
        "plt.xlabel('Epochs')\n",
        "plt.ylabel('Logloss')\n",
        "plt.show()"
      ],
      "metadata": {
        "colab": {
          "base_uri": "https://localhost:8080/",
          "height": 279
        },
        "id": "LtA1lChXg0B9",
        "outputId": "f3db6f09-b5a8-4bb8-84be-1086aefc3c38"
      },
      "id": "LtA1lChXg0B9",
      "execution_count": null,
      "outputs": [
        {
          "output_type": "display_data",
          "data": {
            "image/png": "[encoded data removed]",
            "text/plain": [
              "<Figure size 432x288 with 1 Axes>"
            ]
          },
          "metadata": {
            "needs_background": "light"
          }
        }
      ]
    },
    {
      "cell_type": "code",
      "metadata": {
        "id": "jIPcsMHbSnEP",
        "colab": {
          "base_uri": "https://localhost:8080/",
          "height": 299
        },
        "outputId": "fca8e368-f137-485a-dab9-44b89e316757"
      },
      "source": [
        "cm = confusion_matrix(valid_targets, np.array(predictions).argmax(axis=1))\n",
        "plt.title(\"Confusion Matrix\")\n",
        "sns.heatmap(cm, annot=True, fmt='g')"
      ],
      "id": "jIPcsMHbSnEP",
      "execution_count": null,
      "outputs": [
        {
          "output_type": "execute_result",
          "data": {
            "text/plain": [
              "<matplotlib.axes._subplots.AxesSubplot at 0x7fe0c008c710>"
            ]
          },
          "metadata": {},
          "execution_count": 39
        },
        {
          "output_type": "display_data",
          "data": {
            "image/png": "[encoded data removed]",
            "text/plain": [
              "<Figure size 432x288 with 2 Axes>"
            ]
          },
          "metadata": {
            "needs_background": "light"
          }
        }
      ]
    },
    {
      "cell_type": "markdown",
      "metadata": {
        "id": "2YE3EvhgTirh"
      },
      "source": [
        "# Test Data"
      ],
      "id": "2YE3EvhgTirh"
    },
    {
      "cell_type": "code",
      "source": [
        "test2 = pd.read_csv('/content/drive/MyDrive/FYP/OPCODES_Clean/test_set.csv')"
      ],
      "metadata": {
        "id": "upbylToT3rad"
      },
      "id": "upbylToT3rad",
      "execution_count": null,
      "outputs": []
    },
    {
      "cell_type": "code",
      "metadata": {
        "id": "rj03v15mTjou",
        "colab": {
          "base_uri": "https://localhost:8080/",
          "height": 488
        },
        "outputId": "cc13e9fa-ceb4-4225-8350-399f7f1b5923"
      },
      "source": [
        "test = pd.read_csv('/content/drive/MyDrive/embeddings/fastText_testBig15.vectors.txt', delimiter=' ', skiprows=1 ,header = None)\n",
        "test"
      ],
      "id": "rj03v15mTjou",
      "execution_count": null,
      "outputs": [
        {
          "output_type": "execute_result",
          "data": {
            "text/html": [
              "\n",
              "  <div id=\"df-557d0853-e989-470a-b83c-829089700e7d\">\n",
              "    <div class=\"colab-df-container\">\n",
              "      <div>\n",
              "<style scoped>\n",
              "    .dataframe tbody tr th:only-of-type {\n",
              "        vertical-align: middle;\n",
              "    }\n",
              "\n",
              "    .dataframe tbody tr th {\n",
              "        vertical-align: top;\n",
              "    }\n",
              "\n",
              "    .dataframe thead th {\n",
              "        text-align: right;\n",
              "    }\n",
              "</style>\n",
              "<table border=\"1\" class=\"dataframe\">\n",
              "  <thead>\n",
              "    <tr style=\"text-align: right;\">\n",
              "      <th></th>\n",
              "      <th>0</th>\n",
              "      <th>1</th>\n",
              "      <th>2</th>\n",
              "      <th>3</th>\n",
              "      <th>4</th>\n",
              "      <th>5</th>\n",
              "      <th>6</th>\n",
              "      <th>7</th>\n",
              "      <th>8</th>\n",
              "      <th>9</th>\n",
              "      <th>10</th>\n",
              "      <th>11</th>\n",
              "      <th>12</th>\n",
              "      <th>13</th>\n",
              "      <th>14</th>\n",
              "      <th>15</th>\n",
              "      <th>16</th>\n",
              "      <th>17</th>\n",
              "      <th>18</th>\n",
              "      <th>19</th>\n",
              "      <th>20</th>\n",
              "      <th>21</th>\n",
              "      <th>22</th>\n",
              "      <th>23</th>\n",
              "      <th>24</th>\n",
              "      <th>25</th>\n",
              "      <th>26</th>\n",
              "      <th>27</th>\n",
              "      <th>28</th>\n",
              "      <th>29</th>\n",
              "      <th>30</th>\n",
              "      <th>31</th>\n",
              "      <th>32</th>\n",
              "      <th>33</th>\n",
              "      <th>34</th>\n",
              "      <th>35</th>\n",
              "      <th>36</th>\n",
              "      <th>37</th>\n",
              "      <th>38</th>\n",
              "      <th>39</th>\n",
              "      <th>...</th>\n",
              "      <th>61</th>\n",
              "      <th>62</th>\n",
              "      <th>63</th>\n",
              "      <th>64</th>\n",
              "      <th>65</th>\n",
              "      <th>66</th>\n",
              "      <th>67</th>\n",
              "      <th>68</th>\n",
              "      <th>69</th>\n",
              "      <th>70</th>\n",
              "      <th>71</th>\n",
              "      <th>72</th>\n",
              "      <th>73</th>\n",
              "      <th>74</th>\n",
              "      <th>75</th>\n",
              "      <th>76</th>\n",
              "      <th>77</th>\n",
              "      <th>78</th>\n",
              "      <th>79</th>\n",
              "      <th>80</th>\n",
              "      <th>81</th>\n",
              "      <th>82</th>\n",
              "      <th>83</th>\n",
              "      <th>84</th>\n",
              "      <th>85</th>\n",
              "      <th>86</th>\n",
              "      <th>87</th>\n",
              "      <th>88</th>\n",
              "      <th>89</th>\n",
              "      <th>90</th>\n",
              "      <th>91</th>\n",
              "      <th>92</th>\n",
              "      <th>93</th>\n",
              "      <th>94</th>\n",
              "      <th>95</th>\n",
              "      <th>96</th>\n",
              "      <th>97</th>\n",
              "      <th>98</th>\n",
              "      <th>99</th>\n",
              "      <th>100</th>\n",
              "    </tr>\n",
              "  </thead>\n",
              "  <tbody>\n",
              "    <tr>\n",
              "      <th>0</th>\n",
              "      <td>vQEo6UfqW8LkBR7dPVSH</td>\n",
              "      <td>0.722050</td>\n",
              "      <td>0.505050</td>\n",
              "      <td>-0.615658</td>\n",
              "      <td>1.397449</td>\n",
              "      <td>0.361419</td>\n",
              "      <td>0.162510</td>\n",
              "      <td>0.004400</td>\n",
              "      <td>-0.444647</td>\n",
              "      <td>0.214738</td>\n",
              "      <td>-0.465133</td>\n",
              "      <td>-0.082847</td>\n",
              "      <td>0.114396</td>\n",
              "      <td>0.084975</td>\n",
              "      <td>-0.125285</td>\n",
              "      <td>-0.804242</td>\n",
              "      <td>-0.096950</td>\n",
              "      <td>-0.512764</td>\n",
              "      <td>-0.612564</td>\n",
              "      <td>0.534618</td>\n",
              "      <td>-0.357879</td>\n",
              "      <td>-0.470035</td>\n",
              "      <td>0.417143</td>\n",
              "      <td>-0.636563</td>\n",
              "      <td>0.012084</td>\n",
              "      <td>-0.254109</td>\n",
              "      <td>0.053036</td>\n",
              "      <td>0.539685</td>\n",
              "      <td>-0.598743</td>\n",
              "      <td>0.284088</td>\n",
              "      <td>0.022535</td>\n",
              "      <td>0.127248</td>\n",
              "      <td>-0.354445</td>\n",
              "      <td>-0.078293</td>\n",
              "      <td>0.583114</td>\n",
              "      <td>-1.150601</td>\n",
              "      <td>0.745077</td>\n",
              "      <td>0.831721</td>\n",
              "      <td>0.196836</td>\n",
              "      <td>0.289787</td>\n",
              "      <td>...</td>\n",
              "      <td>0.198436</td>\n",
              "      <td>-0.325015</td>\n",
              "      <td>0.295675</td>\n",
              "      <td>0.152254</td>\n",
              "      <td>0.146224</td>\n",
              "      <td>0.352717</td>\n",
              "      <td>0.026391</td>\n",
              "      <td>-0.191558</td>\n",
              "      <td>0.268313</td>\n",
              "      <td>0.321153</td>\n",
              "      <td>-0.371031</td>\n",
              "      <td>0.263580</td>\n",
              "      <td>0.006408</td>\n",
              "      <td>0.409645</td>\n",
              "      <td>0.666844</td>\n",
              "      <td>0.144312</td>\n",
              "      <td>0.076407</td>\n",
              "      <td>0.385077</td>\n",
              "      <td>0.347749</td>\n",
              "      <td>-0.156934</td>\n",
              "      <td>0.265624</td>\n",
              "      <td>0.040465</td>\n",
              "      <td>0.054090</td>\n",
              "      <td>0.032735</td>\n",
              "      <td>0.164918</td>\n",
              "      <td>-0.394543</td>\n",
              "      <td>-0.008959</td>\n",
              "      <td>-0.002054</td>\n",
              "      <td>0.353555</td>\n",
              "      <td>-0.890953</td>\n",
              "      <td>0.759933</td>\n",
              "      <td>-0.342078</td>\n",
              "      <td>0.158105</td>\n",
              "      <td>-0.409658</td>\n",
              "      <td>-0.111843</td>\n",
              "      <td>-0.260909</td>\n",
              "      <td>0.090129</td>\n",
              "      <td>0.657309</td>\n",
              "      <td>0.457581</td>\n",
              "      <td>0.458557</td>\n",
              "    </tr>\n",
              "    <tr>\n",
              "      <th>1</th>\n",
              "      <td>NmM80oCvG2YwfAWxD1tX</td>\n",
              "      <td>0.491831</td>\n",
              "      <td>0.506405</td>\n",
              "      <td>-0.056495</td>\n",
              "      <td>0.586894</td>\n",
              "      <td>0.381484</td>\n",
              "      <td>0.211667</td>\n",
              "      <td>0.231726</td>\n",
              "      <td>0.707670</td>\n",
              "      <td>-0.020716</td>\n",
              "      <td>0.280406</td>\n",
              "      <td>-0.213773</td>\n",
              "      <td>-0.226268</td>\n",
              "      <td>-0.288602</td>\n",
              "      <td>-0.570046</td>\n",
              "      <td>0.288464</td>\n",
              "      <td>-0.863536</td>\n",
              "      <td>-0.329832</td>\n",
              "      <td>-0.324466</td>\n",
              "      <td>-0.059260</td>\n",
              "      <td>0.211324</td>\n",
              "      <td>0.037098</td>\n",
              "      <td>0.074029</td>\n",
              "      <td>0.010252</td>\n",
              "      <td>-0.458542</td>\n",
              "      <td>0.228296</td>\n",
              "      <td>-0.917126</td>\n",
              "      <td>0.559870</td>\n",
              "      <td>0.204883</td>\n",
              "      <td>0.352994</td>\n",
              "      <td>0.993624</td>\n",
              "      <td>0.049510</td>\n",
              "      <td>-0.309005</td>\n",
              "      <td>0.139125</td>\n",
              "      <td>-0.138645</td>\n",
              "      <td>-0.224156</td>\n",
              "      <td>0.674073</td>\n",
              "      <td>-0.218734</td>\n",
              "      <td>-0.309934</td>\n",
              "      <td>0.075587</td>\n",
              "      <td>...</td>\n",
              "      <td>0.211108</td>\n",
              "      <td>-0.502547</td>\n",
              "      <td>0.387626</td>\n",
              "      <td>0.314584</td>\n",
              "      <td>-0.411473</td>\n",
              "      <td>0.080095</td>\n",
              "      <td>0.376923</td>\n",
              "      <td>-0.310900</td>\n",
              "      <td>-0.090522</td>\n",
              "      <td>0.049307</td>\n",
              "      <td>-0.016190</td>\n",
              "      <td>-0.657755</td>\n",
              "      <td>-0.052813</td>\n",
              "      <td>0.062754</td>\n",
              "      <td>-0.598547</td>\n",
              "      <td>0.303236</td>\n",
              "      <td>0.101845</td>\n",
              "      <td>0.334209</td>\n",
              "      <td>0.437029</td>\n",
              "      <td>-1.043039</td>\n",
              "      <td>-0.315511</td>\n",
              "      <td>-0.103484</td>\n",
              "      <td>0.117568</td>\n",
              "      <td>-0.283852</td>\n",
              "      <td>0.210853</td>\n",
              "      <td>-0.321095</td>\n",
              "      <td>-0.124338</td>\n",
              "      <td>-0.517643</td>\n",
              "      <td>0.123714</td>\n",
              "      <td>-0.071235</td>\n",
              "      <td>0.540862</td>\n",
              "      <td>-0.014834</td>\n",
              "      <td>-0.618000</td>\n",
              "      <td>0.538343</td>\n",
              "      <td>-0.356797</td>\n",
              "      <td>0.416224</td>\n",
              "      <td>-0.907807</td>\n",
              "      <td>0.964762</td>\n",
              "      <td>0.328219</td>\n",
              "      <td>-0.210504</td>\n",
              "    </tr>\n",
              "    <tr>\n",
              "      <th>2</th>\n",
              "      <td>ln4EbVcwjKuxtJdQpzP2</td>\n",
              "      <td>0.666259</td>\n",
              "      <td>0.280914</td>\n",
              "      <td>-0.419895</td>\n",
              "      <td>0.728183</td>\n",
              "      <td>0.315383</td>\n",
              "      <td>-0.002967</td>\n",
              "      <td>-0.076242</td>\n",
              "      <td>0.008343</td>\n",
              "      <td>0.044049</td>\n",
              "      <td>-0.295965</td>\n",
              "      <td>-0.107542</td>\n",
              "      <td>0.054256</td>\n",
              "      <td>-0.102294</td>\n",
              "      <td>-0.126450</td>\n",
              "      <td>-0.348064</td>\n",
              "      <td>-0.117289</td>\n",
              "      <td>-0.337930</td>\n",
              "      <td>-0.352994</td>\n",
              "      <td>0.223679</td>\n",
              "      <td>-0.171755</td>\n",
              "      <td>-0.295941</td>\n",
              "      <td>0.255440</td>\n",
              "      <td>-0.342580</td>\n",
              "      <td>-0.042679</td>\n",
              "      <td>0.083831</td>\n",
              "      <td>-0.193467</td>\n",
              "      <td>0.541308</td>\n",
              "      <td>-0.239812</td>\n",
              "      <td>0.220315</td>\n",
              "      <td>0.369261</td>\n",
              "      <td>0.040287</td>\n",
              "      <td>-0.260605</td>\n",
              "      <td>0.023916</td>\n",
              "      <td>0.225765</td>\n",
              "      <td>-0.684864</td>\n",
              "      <td>0.471660</td>\n",
              "      <td>0.580833</td>\n",
              "      <td>-0.054622</td>\n",
              "      <td>0.315616</td>\n",
              "      <td>...</td>\n",
              "      <td>0.014164</td>\n",
              "      <td>-0.338651</td>\n",
              "      <td>0.231093</td>\n",
              "      <td>0.059726</td>\n",
              "      <td>0.120675</td>\n",
              "      <td>0.245296</td>\n",
              "      <td>0.023621</td>\n",
              "      <td>-0.256281</td>\n",
              "      <td>0.171930</td>\n",
              "      <td>0.029960</td>\n",
              "      <td>-0.287226</td>\n",
              "      <td>0.117323</td>\n",
              "      <td>-0.101446</td>\n",
              "      <td>0.428845</td>\n",
              "      <td>0.170637</td>\n",
              "      <td>0.210053</td>\n",
              "      <td>0.241047</td>\n",
              "      <td>0.385158</td>\n",
              "      <td>0.283053</td>\n",
              "      <td>-0.476148</td>\n",
              "      <td>0.135507</td>\n",
              "      <td>-0.035625</td>\n",
              "      <td>-0.011288</td>\n",
              "      <td>0.006172</td>\n",
              "      <td>0.102471</td>\n",
              "      <td>-0.351394</td>\n",
              "      <td>-0.045153</td>\n",
              "      <td>-0.006258</td>\n",
              "      <td>0.141901</td>\n",
              "      <td>-0.590481</td>\n",
              "      <td>0.545844</td>\n",
              "      <td>-0.109671</td>\n",
              "      <td>-0.002565</td>\n",
              "      <td>-0.103166</td>\n",
              "      <td>-0.240563</td>\n",
              "      <td>0.082389</td>\n",
              "      <td>-0.222257</td>\n",
              "      <td>0.601677</td>\n",
              "      <td>0.335706</td>\n",
              "      <td>0.231323</td>\n",
              "    </tr>\n",
              "    <tr>\n",
              "      <th>3</th>\n",
              "      <td>OcEtJYaxhQkHzLGweIf5</td>\n",
              "      <td>0.586099</td>\n",
              "      <td>0.712286</td>\n",
              "      <td>0.030633</td>\n",
              "      <td>0.491104</td>\n",
              "      <td>0.387673</td>\n",
              "      <td>0.019486</td>\n",
              "      <td>0.174956</td>\n",
              "      <td>0.980490</td>\n",
              "      <td>-0.157463</td>\n",
              "      <td>0.432459</td>\n",
              "      <td>-0.316892</td>\n",
              "      <td>-0.253727</td>\n",
              "      <td>-0.399484</td>\n",
              "      <td>-0.839203</td>\n",
              "      <td>0.280014</td>\n",
              "      <td>-1.038638</td>\n",
              "      <td>-0.595398</td>\n",
              "      <td>-0.583847</td>\n",
              "      <td>-0.265989</td>\n",
              "      <td>0.296921</td>\n",
              "      <td>0.310788</td>\n",
              "      <td>-0.057797</td>\n",
              "      <td>0.368243</td>\n",
              "      <td>-0.451762</td>\n",
              "      <td>0.453438</td>\n",
              "      <td>-1.035095</td>\n",
              "      <td>0.539609</td>\n",
              "      <td>0.311013</td>\n",
              "      <td>0.694400</td>\n",
              "      <td>1.273080</td>\n",
              "      <td>0.007055</td>\n",
              "      <td>-0.507257</td>\n",
              "      <td>0.401712</td>\n",
              "      <td>-0.472806</td>\n",
              "      <td>-0.065067</td>\n",
              "      <td>0.983026</td>\n",
              "      <td>-0.301146</td>\n",
              "      <td>-0.502397</td>\n",
              "      <td>0.290103</td>\n",
              "      <td>...</td>\n",
              "      <td>0.309491</td>\n",
              "      <td>-0.653502</td>\n",
              "      <td>0.677094</td>\n",
              "      <td>0.585694</td>\n",
              "      <td>-0.682045</td>\n",
              "      <td>0.198949</td>\n",
              "      <td>0.736641</td>\n",
              "      <td>-0.705583</td>\n",
              "      <td>0.029591</td>\n",
              "      <td>0.116668</td>\n",
              "      <td>-0.026861</td>\n",
              "      <td>-0.860645</td>\n",
              "      <td>-0.353860</td>\n",
              "      <td>0.053907</td>\n",
              "      <td>-0.629183</td>\n",
              "      <td>0.483448</td>\n",
              "      <td>0.217812</td>\n",
              "      <td>0.460335</td>\n",
              "      <td>0.696114</td>\n",
              "      <td>-1.505926</td>\n",
              "      <td>-0.488625</td>\n",
              "      <td>-0.264519</td>\n",
              "      <td>0.150530</td>\n",
              "      <td>-0.265073</td>\n",
              "      <td>0.448835</td>\n",
              "      <td>-0.288904</td>\n",
              "      <td>-0.500160</td>\n",
              "      <td>-0.674442</td>\n",
              "      <td>0.208998</td>\n",
              "      <td>-0.356634</td>\n",
              "      <td>0.480436</td>\n",
              "      <td>-0.153586</td>\n",
              "      <td>-0.891348</td>\n",
              "      <td>0.894093</td>\n",
              "      <td>-0.569306</td>\n",
              "      <td>0.582486</td>\n",
              "      <td>-1.461021</td>\n",
              "      <td>1.382342</td>\n",
              "      <td>0.167862</td>\n",
              "      <td>-0.575664</td>\n",
              "    </tr>\n",
              "    <tr>\n",
              "      <th>4</th>\n",
              "      <td>xRqDSKGQMzsY41nwL0Zj</td>\n",
              "      <td>0.393419</td>\n",
              "      <td>0.196750</td>\n",
              "      <td>-0.117171</td>\n",
              "      <td>0.207754</td>\n",
              "      <td>0.181341</td>\n",
              "      <td>-0.134658</td>\n",
              "      <td>-0.092964</td>\n",
              "      <td>0.248427</td>\n",
              "      <td>-0.068634</td>\n",
              "      <td>-0.048282</td>\n",
              "      <td>-0.031011</td>\n",
              "      <td>-0.018117</td>\n",
              "      <td>-0.212117</td>\n",
              "      <td>-0.111131</td>\n",
              "      <td>-0.024543</td>\n",
              "      <td>-0.106604</td>\n",
              "      <td>-0.242014</td>\n",
              "      <td>-0.222588</td>\n",
              "      <td>0.082943</td>\n",
              "      <td>-0.060263</td>\n",
              "      <td>-0.139226</td>\n",
              "      <td>0.159847</td>\n",
              "      <td>-0.075971</td>\n",
              "      <td>-0.020670</td>\n",
              "      <td>0.178909</td>\n",
              "      <td>-0.307493</td>\n",
              "      <td>0.441213</td>\n",
              "      <td>0.000330</td>\n",
              "      <td>0.219534</td>\n",
              "      <td>0.423034</td>\n",
              "      <td>0.067741</td>\n",
              "      <td>-0.213153</td>\n",
              "      <td>0.105102</td>\n",
              "      <td>-0.005705</td>\n",
              "      <td>-0.293511</td>\n",
              "      <td>0.309908</td>\n",
              "      <td>0.356168</td>\n",
              "      <td>-0.102414</td>\n",
              "      <td>0.252674</td>\n",
              "      <td>...</td>\n",
              "      <td>-0.023996</td>\n",
              "      <td>-0.292263</td>\n",
              "      <td>0.226150</td>\n",
              "      <td>0.070613</td>\n",
              "      <td>-0.045123</td>\n",
              "      <td>0.121050</td>\n",
              "      <td>0.018201</td>\n",
              "      <td>-0.141694</td>\n",
              "      <td>0.092150</td>\n",
              "      <td>-0.010522</td>\n",
              "      <td>-0.205652</td>\n",
              "      <td>0.006369</td>\n",
              "      <td>-0.113764</td>\n",
              "      <td>0.291877</td>\n",
              "      <td>-0.115301</td>\n",
              "      <td>0.247254</td>\n",
              "      <td>0.193473</td>\n",
              "      <td>0.224068</td>\n",
              "      <td>0.207050</td>\n",
              "      <td>-0.531388</td>\n",
              "      <td>-0.007223</td>\n",
              "      <td>-0.090273</td>\n",
              "      <td>-0.037597</td>\n",
              "      <td>-0.004251</td>\n",
              "      <td>0.079036</td>\n",
              "      <td>-0.184859</td>\n",
              "      <td>-0.089130</td>\n",
              "      <td>-0.045202</td>\n",
              "      <td>0.042594</td>\n",
              "      <td>-0.209885</td>\n",
              "      <td>0.240096</td>\n",
              "      <td>-0.017838</td>\n",
              "      <td>-0.061852</td>\n",
              "      <td>0.115752</td>\n",
              "      <td>-0.208509</td>\n",
              "      <td>0.133127</td>\n",
              "      <td>-0.344087</td>\n",
              "      <td>0.431602</td>\n",
              "      <td>0.211030</td>\n",
              "      <td>0.122354</td>\n",
              "    </tr>\n",
              "    <tr>\n",
              "      <th>...</th>\n",
              "      <td>...</td>\n",
              "      <td>...</td>\n",
              "      <td>...</td>\n",
              "      <td>...</td>\n",
              "      <td>...</td>\n",
              "      <td>...</td>\n",
              "      <td>...</td>\n",
              "      <td>...</td>\n",
              "      <td>...</td>\n",
              "      <td>...</td>\n",
              "      <td>...</td>\n",
              "      <td>...</td>\n",
              "      <td>...</td>\n",
              "      <td>...</td>\n",
              "      <td>...</td>\n",
              "      <td>...</td>\n",
              "      <td>...</td>\n",
              "      <td>...</td>\n",
              "      <td>...</td>\n",
              "      <td>...</td>\n",
              "      <td>...</td>\n",
              "      <td>...</td>\n",
              "      <td>...</td>\n",
              "      <td>...</td>\n",
              "      <td>...</td>\n",
              "      <td>...</td>\n",
              "      <td>...</td>\n",
              "      <td>...</td>\n",
              "      <td>...</td>\n",
              "      <td>...</td>\n",
              "      <td>...</td>\n",
              "      <td>...</td>\n",
              "      <td>...</td>\n",
              "      <td>...</td>\n",
              "      <td>...</td>\n",
              "      <td>...</td>\n",
              "      <td>...</td>\n",
              "      <td>...</td>\n",
              "      <td>...</td>\n",
              "      <td>...</td>\n",
              "      <td>...</td>\n",
              "      <td>...</td>\n",
              "      <td>...</td>\n",
              "      <td>...</td>\n",
              "      <td>...</td>\n",
              "      <td>...</td>\n",
              "      <td>...</td>\n",
              "      <td>...</td>\n",
              "      <td>...</td>\n",
              "      <td>...</td>\n",
              "      <td>...</td>\n",
              "      <td>...</td>\n",
              "      <td>...</td>\n",
              "      <td>...</td>\n",
              "      <td>...</td>\n",
              "      <td>...</td>\n",
              "      <td>...</td>\n",
              "      <td>...</td>\n",
              "      <td>...</td>\n",
              "      <td>...</td>\n",
              "      <td>...</td>\n",
              "      <td>...</td>\n",
              "      <td>...</td>\n",
              "      <td>...</td>\n",
              "      <td>...</td>\n",
              "      <td>...</td>\n",
              "      <td>...</td>\n",
              "      <td>...</td>\n",
              "      <td>...</td>\n",
              "      <td>...</td>\n",
              "      <td>...</td>\n",
              "      <td>...</td>\n",
              "      <td>...</td>\n",
              "      <td>...</td>\n",
              "      <td>...</td>\n",
              "      <td>...</td>\n",
              "      <td>...</td>\n",
              "      <td>...</td>\n",
              "      <td>...</td>\n",
              "      <td>...</td>\n",
              "      <td>...</td>\n",
              "    </tr>\n",
              "    <tr>\n",
              "      <th>10868</th>\n",
              "      <td>P8cJR2rmtQsyogSW1wHx</td>\n",
              "      <td>0.715092</td>\n",
              "      <td>0.338762</td>\n",
              "      <td>-0.495530</td>\n",
              "      <td>0.890861</td>\n",
              "      <td>0.341000</td>\n",
              "      <td>0.014089</td>\n",
              "      <td>-0.093502</td>\n",
              "      <td>-0.072023</td>\n",
              "      <td>0.059463</td>\n",
              "      <td>-0.323546</td>\n",
              "      <td>-0.158976</td>\n",
              "      <td>0.092921</td>\n",
              "      <td>-0.062481</td>\n",
              "      <td>-0.182204</td>\n",
              "      <td>-0.428662</td>\n",
              "      <td>-0.163180</td>\n",
              "      <td>-0.368848</td>\n",
              "      <td>-0.425896</td>\n",
              "      <td>0.254613</td>\n",
              "      <td>-0.202175</td>\n",
              "      <td>-0.359601</td>\n",
              "      <td>0.277970</td>\n",
              "      <td>-0.369248</td>\n",
              "      <td>-0.028840</td>\n",
              "      <td>0.053843</td>\n",
              "      <td>-0.190189</td>\n",
              "      <td>0.593730</td>\n",
              "      <td>-0.292792</td>\n",
              "      <td>0.279780</td>\n",
              "      <td>0.374323</td>\n",
              "      <td>0.066254</td>\n",
              "      <td>-0.331691</td>\n",
              "      <td>0.041061</td>\n",
              "      <td>0.273650</td>\n",
              "      <td>-0.768931</td>\n",
              "      <td>0.543150</td>\n",
              "      <td>0.650396</td>\n",
              "      <td>-0.072202</td>\n",
              "      <td>0.358136</td>\n",
              "      <td>...</td>\n",
              "      <td>0.034961</td>\n",
              "      <td>-0.350520</td>\n",
              "      <td>0.258984</td>\n",
              "      <td>0.056553</td>\n",
              "      <td>0.125258</td>\n",
              "      <td>0.288209</td>\n",
              "      <td>0.066007</td>\n",
              "      <td>-0.320328</td>\n",
              "      <td>0.232292</td>\n",
              "      <td>0.047335</td>\n",
              "      <td>-0.308023</td>\n",
              "      <td>0.115025</td>\n",
              "      <td>-0.081847</td>\n",
              "      <td>0.480794</td>\n",
              "      <td>0.234112</td>\n",
              "      <td>0.227790</td>\n",
              "      <td>0.264892</td>\n",
              "      <td>0.456748</td>\n",
              "      <td>0.369663</td>\n",
              "      <td>-0.540919</td>\n",
              "      <td>0.177848</td>\n",
              "      <td>-0.023186</td>\n",
              "      <td>-0.014244</td>\n",
              "      <td>-0.002938</td>\n",
              "      <td>0.146590</td>\n",
              "      <td>-0.416919</td>\n",
              "      <td>-0.014569</td>\n",
              "      <td>-0.000909</td>\n",
              "      <td>0.187373</td>\n",
              "      <td>-0.705446</td>\n",
              "      <td>0.645455</td>\n",
              "      <td>-0.128331</td>\n",
              "      <td>0.004011</td>\n",
              "      <td>-0.145492</td>\n",
              "      <td>-0.289058</td>\n",
              "      <td>0.101014</td>\n",
              "      <td>-0.242162</td>\n",
              "      <td>0.723733</td>\n",
              "      <td>0.349080</td>\n",
              "      <td>0.196583</td>\n",
              "    </tr>\n",
              "    <tr>\n",
              "      <th>10869</th>\n",
              "      <td>WUdBzo0byj7ATkrpLVZD</td>\n",
              "      <td>0.517786</td>\n",
              "      <td>0.503143</td>\n",
              "      <td>-0.080268</td>\n",
              "      <td>0.592450</td>\n",
              "      <td>0.379226</td>\n",
              "      <td>0.199778</td>\n",
              "      <td>0.214985</td>\n",
              "      <td>0.692403</td>\n",
              "      <td>-0.018436</td>\n",
              "      <td>0.256374</td>\n",
              "      <td>-0.208468</td>\n",
              "      <td>-0.214659</td>\n",
              "      <td>-0.288613</td>\n",
              "      <td>-0.551035</td>\n",
              "      <td>0.262725</td>\n",
              "      <td>-0.830900</td>\n",
              "      <td>-0.338453</td>\n",
              "      <td>-0.322440</td>\n",
              "      <td>-0.055828</td>\n",
              "      <td>0.201070</td>\n",
              "      <td>0.035362</td>\n",
              "      <td>0.080386</td>\n",
              "      <td>0.002932</td>\n",
              "      <td>-0.441939</td>\n",
              "      <td>0.229924</td>\n",
              "      <td>-0.883192</td>\n",
              "      <td>0.551439</td>\n",
              "      <td>0.182635</td>\n",
              "      <td>0.342048</td>\n",
              "      <td>0.982523</td>\n",
              "      <td>0.036177</td>\n",
              "      <td>-0.305910</td>\n",
              "      <td>0.142752</td>\n",
              "      <td>-0.127406</td>\n",
              "      <td>-0.237604</td>\n",
              "      <td>0.664122</td>\n",
              "      <td>-0.174748</td>\n",
              "      <td>-0.299550</td>\n",
              "      <td>0.096096</td>\n",
              "      <td>...</td>\n",
              "      <td>0.209486</td>\n",
              "      <td>-0.491393</td>\n",
              "      <td>0.389970</td>\n",
              "      <td>0.318270</td>\n",
              "      <td>-0.390652</td>\n",
              "      <td>0.089701</td>\n",
              "      <td>0.377514</td>\n",
              "      <td>-0.335678</td>\n",
              "      <td>-0.068062</td>\n",
              "      <td>0.040363</td>\n",
              "      <td>-0.031897</td>\n",
              "      <td>-0.636221</td>\n",
              "      <td>-0.068060</td>\n",
              "      <td>0.081959</td>\n",
              "      <td>-0.575238</td>\n",
              "      <td>0.308555</td>\n",
              "      <td>0.115770</td>\n",
              "      <td>0.345857</td>\n",
              "      <td>0.439598</td>\n",
              "      <td>-1.027796</td>\n",
              "      <td>-0.296284</td>\n",
              "      <td>-0.100134</td>\n",
              "      <td>0.123297</td>\n",
              "      <td>-0.275859</td>\n",
              "      <td>0.212036</td>\n",
              "      <td>-0.316892</td>\n",
              "      <td>-0.136049</td>\n",
              "      <td>-0.491914</td>\n",
              "      <td>0.121982</td>\n",
              "      <td>-0.094108</td>\n",
              "      <td>0.529346</td>\n",
              "      <td>-0.017652</td>\n",
              "      <td>-0.588266</td>\n",
              "      <td>0.514538</td>\n",
              "      <td>-0.355493</td>\n",
              "      <td>0.401457</td>\n",
              "      <td>-0.897395</td>\n",
              "      <td>0.965795</td>\n",
              "      <td>0.307898</td>\n",
              "      <td>-0.210908</td>\n",
              "    </tr>\n",
              "    <tr>\n",
              "      <th>10870</th>\n",
              "      <td>PAmjTYxOJna9FUIlH2uX</td>\n",
              "      <td>0.479150</td>\n",
              "      <td>0.482837</td>\n",
              "      <td>0.018016</td>\n",
              "      <td>0.375375</td>\n",
              "      <td>0.331536</td>\n",
              "      <td>0.057946</td>\n",
              "      <td>0.175034</td>\n",
              "      <td>0.753807</td>\n",
              "      <td>-0.081442</td>\n",
              "      <td>0.305011</td>\n",
              "      <td>-0.105151</td>\n",
              "      <td>-0.268473</td>\n",
              "      <td>-0.351401</td>\n",
              "      <td>-0.496566</td>\n",
              "      <td>0.274096</td>\n",
              "      <td>-0.708925</td>\n",
              "      <td>-0.404005</td>\n",
              "      <td>-0.321319</td>\n",
              "      <td>-0.090686</td>\n",
              "      <td>0.187185</td>\n",
              "      <td>0.110720</td>\n",
              "      <td>0.043227</td>\n",
              "      <td>0.072167</td>\n",
              "      <td>-0.376467</td>\n",
              "      <td>0.295640</td>\n",
              "      <td>-0.835146</td>\n",
              "      <td>0.535747</td>\n",
              "      <td>0.202774</td>\n",
              "      <td>0.387900</td>\n",
              "      <td>0.963939</td>\n",
              "      <td>0.025664</td>\n",
              "      <td>-0.296306</td>\n",
              "      <td>0.215538</td>\n",
              "      <td>-0.252299</td>\n",
              "      <td>-0.141920</td>\n",
              "      <td>0.670811</td>\n",
              "      <td>-0.168121</td>\n",
              "      <td>-0.304425</td>\n",
              "      <td>0.155427</td>\n",
              "      <td>...</td>\n",
              "      <td>0.183385</td>\n",
              "      <td>-0.519354</td>\n",
              "      <td>0.452830</td>\n",
              "      <td>0.360279</td>\n",
              "      <td>-0.456384</td>\n",
              "      <td>0.069368</td>\n",
              "      <td>0.395516</td>\n",
              "      <td>-0.353608</td>\n",
              "      <td>-0.016798</td>\n",
              "      <td>0.040959</td>\n",
              "      <td>-0.067633</td>\n",
              "      <td>-0.610544</td>\n",
              "      <td>-0.165251</td>\n",
              "      <td>0.096476</td>\n",
              "      <td>-0.614061</td>\n",
              "      <td>0.405181</td>\n",
              "      <td>0.160064</td>\n",
              "      <td>0.302991</td>\n",
              "      <td>0.441619</td>\n",
              "      <td>-1.132717</td>\n",
              "      <td>-0.347103</td>\n",
              "      <td>-0.204376</td>\n",
              "      <td>0.089232</td>\n",
              "      <td>-0.203687</td>\n",
              "      <td>0.242652</td>\n",
              "      <td>-0.229433</td>\n",
              "      <td>-0.234834</td>\n",
              "      <td>-0.453023</td>\n",
              "      <td>0.120080</td>\n",
              "      <td>-0.073322</td>\n",
              "      <td>0.391033</td>\n",
              "      <td>-0.061000</td>\n",
              "      <td>-0.596746</td>\n",
              "      <td>0.625997</td>\n",
              "      <td>-0.378078</td>\n",
              "      <td>0.449983</td>\n",
              "      <td>-0.971570</td>\n",
              "      <td>0.896965</td>\n",
              "      <td>0.167625</td>\n",
              "      <td>-0.279190</td>\n",
              "    </tr>\n",
              "    <tr>\n",
              "      <th>10871</th>\n",
              "      <td>M5a2VdnysxZf03jpvlqP</td>\n",
              "      <td>0.430128</td>\n",
              "      <td>0.371655</td>\n",
              "      <td>0.013696</td>\n",
              "      <td>0.280020</td>\n",
              "      <td>0.339063</td>\n",
              "      <td>0.137807</td>\n",
              "      <td>0.206359</td>\n",
              "      <td>0.776497</td>\n",
              "      <td>-0.053657</td>\n",
              "      <td>0.212047</td>\n",
              "      <td>-0.105954</td>\n",
              "      <td>-0.299181</td>\n",
              "      <td>-0.281241</td>\n",
              "      <td>-0.450911</td>\n",
              "      <td>0.322746</td>\n",
              "      <td>-0.694435</td>\n",
              "      <td>-0.287287</td>\n",
              "      <td>-0.194747</td>\n",
              "      <td>-0.089491</td>\n",
              "      <td>0.187923</td>\n",
              "      <td>0.112237</td>\n",
              "      <td>-0.036472</td>\n",
              "      <td>-0.005682</td>\n",
              "      <td>-0.424996</td>\n",
              "      <td>0.264757</td>\n",
              "      <td>-0.805405</td>\n",
              "      <td>0.451982</td>\n",
              "      <td>0.218630</td>\n",
              "      <td>0.269860</td>\n",
              "      <td>0.835949</td>\n",
              "      <td>-0.023741</td>\n",
              "      <td>-0.156326</td>\n",
              "      <td>0.072948</td>\n",
              "      <td>-0.246574</td>\n",
              "      <td>-0.176261</td>\n",
              "      <td>0.579932</td>\n",
              "      <td>-0.321032</td>\n",
              "      <td>-0.268682</td>\n",
              "      <td>0.032576</td>\n",
              "      <td>...</td>\n",
              "      <td>0.185190</td>\n",
              "      <td>-0.504144</td>\n",
              "      <td>0.357861</td>\n",
              "      <td>0.335014</td>\n",
              "      <td>-0.404387</td>\n",
              "      <td>0.012207</td>\n",
              "      <td>0.296675</td>\n",
              "      <td>-0.171354</td>\n",
              "      <td>-0.185915</td>\n",
              "      <td>0.047893</td>\n",
              "      <td>-0.001574</td>\n",
              "      <td>-0.537942</td>\n",
              "      <td>-0.166707</td>\n",
              "      <td>-0.010586</td>\n",
              "      <td>-0.632851</td>\n",
              "      <td>0.290538</td>\n",
              "      <td>0.069015</td>\n",
              "      <td>0.182373</td>\n",
              "      <td>0.221265</td>\n",
              "      <td>-0.949775</td>\n",
              "      <td>-0.430571</td>\n",
              "      <td>-0.214187</td>\n",
              "      <td>0.060251</td>\n",
              "      <td>-0.165772</td>\n",
              "      <td>0.132572</td>\n",
              "      <td>-0.142699</td>\n",
              "      <td>-0.233724</td>\n",
              "      <td>-0.502654</td>\n",
              "      <td>0.041674</td>\n",
              "      <td>0.020605</td>\n",
              "      <td>0.389713</td>\n",
              "      <td>-0.076572</td>\n",
              "      <td>-0.635262</td>\n",
              "      <td>0.664656</td>\n",
              "      <td>-0.282867</td>\n",
              "      <td>0.456543</td>\n",
              "      <td>-0.799959</td>\n",
              "      <td>0.708088</td>\n",
              "      <td>0.316177</td>\n",
              "      <td>-0.113810</td>\n",
              "    </tr>\n",
              "    <tr>\n",
              "      <th>10872</th>\n",
              "      <td>yXt8LmRVEOec5jIg6PGo</td>\n",
              "      <td>0.804656</td>\n",
              "      <td>0.341509</td>\n",
              "      <td>-0.881632</td>\n",
              "      <td>1.542549</td>\n",
              "      <td>0.435686</td>\n",
              "      <td>0.414086</td>\n",
              "      <td>-0.040773</td>\n",
              "      <td>-0.391199</td>\n",
              "      <td>0.230112</td>\n",
              "      <td>-0.606659</td>\n",
              "      <td>-0.358184</td>\n",
              "      <td>0.247813</td>\n",
              "      <td>0.153868</td>\n",
              "      <td>-0.267641</td>\n",
              "      <td>-0.483819</td>\n",
              "      <td>-0.394054</td>\n",
              "      <td>-0.150036</td>\n",
              "      <td>-0.421497</td>\n",
              "      <td>0.448453</td>\n",
              "      <td>-0.251847</td>\n",
              "      <td>-0.713870</td>\n",
              "      <td>0.380856</td>\n",
              "      <td>-0.716266</td>\n",
              "      <td>-0.129645</td>\n",
              "      <td>-0.207878</td>\n",
              "      <td>-0.260011</td>\n",
              "      <td>0.748257</td>\n",
              "      <td>-0.481718</td>\n",
              "      <td>0.098257</td>\n",
              "      <td>0.297030</td>\n",
              "      <td>0.089466</td>\n",
              "      <td>-0.340391</td>\n",
              "      <td>-0.204262</td>\n",
              "      <td>0.514631</td>\n",
              "      <td>-1.144020</td>\n",
              "      <td>0.444134</td>\n",
              "      <td>0.675893</td>\n",
              "      <td>-0.086103</td>\n",
              "      <td>0.210377</td>\n",
              "      <td>...</td>\n",
              "      <td>-0.085206</td>\n",
              "      <td>-0.246160</td>\n",
              "      <td>0.119496</td>\n",
              "      <td>-0.133750</td>\n",
              "      <td>0.415350</td>\n",
              "      <td>0.297484</td>\n",
              "      <td>-0.049141</td>\n",
              "      <td>-0.226244</td>\n",
              "      <td>0.120465</td>\n",
              "      <td>-0.013257</td>\n",
              "      <td>-0.241948</td>\n",
              "      <td>0.184951</td>\n",
              "      <td>0.213281</td>\n",
              "      <td>0.588151</td>\n",
              "      <td>0.391412</td>\n",
              "      <td>0.009695</td>\n",
              "      <td>0.229913</td>\n",
              "      <td>0.596293</td>\n",
              "      <td>0.306845</td>\n",
              "      <td>-0.360019</td>\n",
              "      <td>0.323798</td>\n",
              "      <td>0.159699</td>\n",
              "      <td>0.039610</td>\n",
              "      <td>-0.144087</td>\n",
              "      <td>-0.030629</td>\n",
              "      <td>-0.708635</td>\n",
              "      <td>0.399341</td>\n",
              "      <td>0.017230</td>\n",
              "      <td>0.209467</td>\n",
              "      <td>-0.834606</td>\n",
              "      <td>1.152913</td>\n",
              "      <td>-0.059938</td>\n",
              "      <td>0.094128</td>\n",
              "      <td>-0.550986</td>\n",
              "      <td>-0.237342</td>\n",
              "      <td>0.117600</td>\n",
              "      <td>0.131268</td>\n",
              "      <td>0.883343</td>\n",
              "      <td>0.691663</td>\n",
              "      <td>0.405112</td>\n",
              "    </tr>\n",
              "  </tbody>\n",
              "</table>\n",
              "<p>10873 rows × 101 columns</p>\n",
              "</div>\n",
              "      <button class=\"colab-df-convert\" onclick=\"convertToInteractive('df-557d0853-e989-470a-b83c-829089700e7d')\"\n",
              "              title=\"Convert this dataframe to an interactive table.\"\n",
              "              style=\"display:none;\">\n",
              "        \n",
              "  <svg xmlns=\"http://www.w3.org/2000/svg\" height=\"24px\"viewBox=\"0 0 24 24\"\n",
              "       width=\"24px\">\n",
              "    <path d=\"M0 0h24v24H0V0z\" fill=\"none\"/>\n",
              "    <path d=\"M18.56 5.44l.94 2.06.94-2.06 2.06-.94-2.06-.94-.94-2.06-.94 2.06-2.06.94zm-11 1L8.5 8.5l.94-2.06 2.06-.94-2.06-.94L8.5 2.5l-.94 2.06-2.06.94zm10 10l.94 2.06.94-2.06 2.06-.94-2.06-.94-.94-2.06-.94 2.06-2.06.94z\"/><path d=\"M17.41 7.96l-1.37-1.37c-.4-.4-.92-.59-1.43-.59-.52 0-1.04.2-1.43.59L10.3 9.45l-7.72 7.72c-.78.78-.78 2.05 0 2.83L4 21.41c.39.39.9.59 1.41.59.51 0 1.02-.2 1.41-.59l7.78-7.78 2.81-2.81c.8-.78.8-2.07 0-2.86zM5.41 20L4 18.59l7.72-7.72 1.47 1.35L5.41 20z\"/>\n",
              "  </svg>\n",
              "      </button>\n",
              "      \n",
              "  <style>\n",
              "    .colab-df-container {\n",
              "      display:flex;\n",
              "      flex-wrap:wrap;\n",
              "      gap: 12px;\n",
              "    }\n",
              "\n",
              "    .colab-df-convert {\n",
              "      background-color: #E8F0FE;\n",
              "      border: none;\n",
              "      border-radius: 50%;\n",
              "      cursor: pointer;\n",
              "      display: none;\n",
              "      fill: #1967D2;\n",
              "      height: 32px;\n",
              "      padding: 0 0 0 0;\n",
              "      width: 32px;\n",
              "    }\n",
              "\n",
              "    .colab-df-convert:hover {\n",
              "      background-color: #E2EBFA;\n",
              "      box-shadow: 0px 1px 2px rgba(60, 64, 67, 0.3), 0px 1px 3px 1px rgba(60, 64, 67, 0.15);\n",
              "      fill: #174EA6;\n",
              "    }\n",
              "\n",
              "    [theme=dark] .colab-df-convert {\n",
              "      background-color: #3B4455;\n",
              "      fill: #D2E3FC;\n",
              "    }\n",
              "\n",
              "    [theme=dark] .colab-df-convert:hover {\n",
              "      background-color: #434B5C;\n",
              "      box-shadow: 0px 1px 3px 1px rgba(0, 0, 0, 0.15);\n",
              "      filter: drop-shadow(0px 1px 2px rgba(0, 0, 0, 0.3));\n",
              "      fill: #FFFFFF;\n",
              "    }\n",
              "  </style>\n",
              "\n",
              "      <script>\n",
              "        const buttonEl =\n",
              "          document.querySelector('#df-557d0853-e989-470a-b83c-829089700e7d button.colab-df-convert');\n",
              "        buttonEl.style.display =\n",
              "          google.colab.kernel.accessAllowed ? 'block' : 'none';\n",
              "\n",
              "        async function convertToInteractive(key) {\n",
              "          const element = document.querySelector('#df-557d0853-e989-470a-b83c-829089700e7d');\n",
              "          const dataTable =\n",
              "            await google.colab.kernel.invokeFunction('convertToInteractive',\n",
              "                                                     [key], {});\n",
              "          if (!dataTable) return;\n",
              "\n",
              "          const docLinkHtml = 'Like what you see? Visit the ' +\n",
              "            '<a target=\"_blank\" href=https://colab.research.google.com/notebooks/data_table.ipynb>data table notebook</a>'\n",
              "            + ' to learn more about interactive tables.';\n",
              "          element.innerHTML = '';\n",
              "          dataTable['output_type'] = 'display_data';\n",
              "          await google.colab.output.renderOutput(dataTable, element);\n",
              "          const docLink = document.createElement('div');\n",
              "          docLink.innerHTML = docLinkHtml;\n",
              "          element.appendChild(docLink);\n",
              "        }\n",
              "      </script>\n",
              "    </div>\n",
              "  </div>\n",
              "  "
            ],
            "text/plain": [
              "                        0         1         2    ...       98        99        100\n",
              "0      vQEo6UfqW8LkBR7dPVSH  0.722050  0.505050  ...  0.657309  0.457581  0.458557\n",
              "1      NmM80oCvG2YwfAWxD1tX  0.491831  0.506405  ...  0.964762  0.328219 -0.210504\n",
              "2      ln4EbVcwjKuxtJdQpzP2  0.666259  0.280914  ...  0.601677  0.335706  0.231323\n",
              "3      OcEtJYaxhQkHzLGweIf5  0.586099  0.712286  ...  1.382342  0.167862 -0.575664\n",
              "4      xRqDSKGQMzsY41nwL0Zj  0.393419  0.196750  ...  0.431602  0.211030  0.122354\n",
              "...                     ...       ...       ...  ...       ...       ...       ...\n",
              "10868  P8cJR2rmtQsyogSW1wHx  0.715092  0.338762  ...  0.723733  0.349080  0.196583\n",
              "10869  WUdBzo0byj7ATkrpLVZD  0.517786  0.503143  ...  0.965795  0.307898 -0.210908\n",
              "10870  PAmjTYxOJna9FUIlH2uX  0.479150  0.482837  ...  0.896965  0.167625 -0.279190\n",
              "10871  M5a2VdnysxZf03jpvlqP  0.430128  0.371655  ...  0.708088  0.316177 -0.113810\n",
              "10872  yXt8LmRVEOec5jIg6PGo  0.804656  0.341509  ...  0.883343  0.691663  0.405112\n",
              "\n",
              "[10873 rows x 101 columns]"
            ]
          },
          "metadata": {},
          "execution_count": 41
        }
      ]
    },
    {
      "cell_type": "code",
      "source": [
        "test_dataset = TestDataset(test.iloc[:,1:].values)"
      ],
      "metadata": {
        "id": "Mxn8QRoMhrWK"
      },
      "id": "Mxn8QRoMhrWK",
      "execution_count": null,
      "outputs": []
    },
    {
      "cell_type": "code",
      "source": [
        "test_loader = torch.utils.data.DataLoader(\n",
        "  test_dataset, batch_size=64, shuffle=False, num_workers=4\n",
        ")"
      ],
      "metadata": {
        "id": "uvhhcWbzh1ex"
      },
      "id": "uvhhcWbzh1ex",
      "execution_count": null,
      "outputs": []
    },
    {
      "cell_type": "code",
      "source": [
        "def inference(data_loader, model, device):\n",
        "  model.eval()\n",
        "  \n",
        "  final_outputs = []\n",
        "  \n",
        "  with torch.no_grad():\n",
        "    for data in tqdm.tqdm(data_loader):\n",
        "      inputs = data[\"X\"]\n",
        "      \n",
        "      inputs = inputs.to(device, dtype=torch.float)\n",
        "      \n",
        "      output = model(inputs)\n",
        "      \n",
        "      # convert targets and outputs to lists\n",
        "      output = output.detach().cpu().numpy().tolist()\n",
        "      \n",
        "      # extend the original list\n",
        "      final_outputs.extend(output)\n",
        "      \n",
        "  # return final output and final targets\n",
        "  return final_outputs"
      ],
      "metadata": {
        "id": "X3UY4oy0hjGG"
      },
      "id": "X3UY4oy0hjGG",
      "execution_count": null,
      "outputs": []
    },
    {
      "cell_type": "code",
      "source": [
        "a = time.time()\n",
        "test2['Opcodes'] = test2['Opcodes'].apply(lambda x: str(x).replace(',',' '))\n",
        "test_encs = vectorizer.transform(test2['Opcodes'])\n",
        "test_encs = test_encs.toarray()\n",
        "\n",
        "test_encs = pd.DataFrame(test_encs)\n",
        "\n",
        "b = time.time()\n",
        "\n",
        "print(b-a)"
      ],
      "metadata": {
        "id": "pCOb3lpc4EVl",
        "colab": {
          "base_uri": "https://localhost:8080/"
        },
        "outputId": "745a6675-280e-4de1-9b7d-bc228f8c8ae4"
      },
      "id": "pCOb3lpc4EVl",
      "execution_count": null,
      "outputs": [
        {
          "output_type": "stream",
          "name": "stdout",
          "text": [
            "75.79828333854675\n"
          ]
        }
      ]
    },
    {
      "cell_type": "code",
      "source": [
        "models_nn = [\n",
        "             '/content/model_fold0_15.pth',\n",
        "             '/content/model_fold1_38.pth',\n",
        "             '/content/model_fold2_46.pth',\n",
        "             '/content/model_fold3_45.pth',\n",
        "             '/content/model_fold4_46.pth'\n",
        "]\n",
        "models_xgb = [\n",
        "              '/content/xgb_fold0.b5',\n",
        "              '/content/xgb_fold1.b5',\n",
        "              '/content/xgb_fold2.b5',\n",
        "              '/content/xgb_fold3.b5',\n",
        "              '/content/xgb_fold4.b5'\n",
        "]\n",
        "\n",
        "models_lgbm = [\n",
        "               '/content/lgbm_fold0.b5',\n",
        "               '/content/lgbm_fold1.b5',\n",
        "               '/content/lgbm_fold2.b5',\n",
        "               '/content/lgbm_fold3.b5',\n",
        "               '/content/lgbm_fold4.b5'\n",
        "]"
      ],
      "metadata": {
        "id": "Z5Ac8rZVMski"
      },
      "id": "Z5Ac8rZVMski",
      "execution_count": null,
      "outputs": []
    },
    {
      "cell_type": "code",
      "metadata": {
        "id": "bNEL_h-qTzpd",
        "colab": {
          "base_uri": "https://localhost:8080/"
        },
        "outputId": "ca31bc32-7468-44c4-cd19-d20e116628b5"
      },
      "source": [
        "a = time.time()\n",
        "preds_all = []\n",
        "for model_nn, model_lgbm, model_xgb in zip(models_nn, models_lgbm, models_xgb):\n",
        "  model = NeuralNet(100, 9).to(device)\n",
        "  model, _ = load_checkpoint(model, model_nn)\n",
        "  model_xgb = pickle.load(open(model_xgb, 'rb'))\n",
        "  model_lgbm = pickle.load(open(model_lgbm, 'rb'))\n",
        "  \n",
        "  nn_preds = inference(test_loader, model, device)\n",
        "  lgbm_preds = lgbm.predict_proba(test_encs.values)\n",
        "  xgb_preds = xgb.predict_proba(test_encs.values)\n",
        "\n",
        "  preds = np.array(nn_preds) * 0.05 + lgbm_preds * 0.45 + xgb_preds * 0.4 \n",
        "  preds_all.append(preds)\n",
        "b = time.time()\n",
        "print(b-a)"
      ],
      "id": "bNEL_h-qTzpd",
      "execution_count": null,
      "outputs": [
        {
          "output_type": "stream",
          "name": "stderr",
          "text": [
            "100%|██████████| 170/170 [00:01<00:00, 111.62it/s]\n",
            "100%|██████████| 170/170 [00:01<00:00, 152.93it/s]\n",
            "100%|██████████| 170/170 [00:01<00:00, 160.12it/s]\n",
            "100%|██████████| 170/170 [00:01<00:00, 145.89it/s]\n",
            "100%|██████████| 170/170 [00:01<00:00, 151.84it/s]\n"
          ]
        },
        {
          "output_type": "stream",
          "name": "stdout",
          "text": [
            "11.568378925323486\n"
          ]
        }
      ]
    },
    {
      "cell_type": "code",
      "source": [
        "print(f'took {600+75+11} seconds to process 10K massive data in 5 folds')\n",
        "print(f'Each Fold took {(600+75+11)/5} seconds')\n",
        "print(f'Each sample took {((600+75+11)/5)/11000} seconds ')"
      ],
      "metadata": {
        "colab": {
          "base_uri": "https://localhost:8080/"
        },
        "id": "kziija334YnI",
        "outputId": "a18aa7b5-ab12-489d-b642-577a2d385cec"
      },
      "id": "kziija334YnI",
      "execution_count": null,
      "outputs": [
        {
          "output_type": "stream",
          "name": "stdout",
          "text": [
            "took 686 seconds to process 10K massive data in 5 folds\n",
            "Each Fold took 137.2 seconds\n",
            "Each sample took 0.012472727272727272 seconds \n"
          ]
        }
      ]
    },
    {
      "cell_type": "code",
      "metadata": {
        "id": "fG4muAgzT6H0"
      },
      "source": [
        "submission = pd.concat([pd.DataFrame(test[0].values, columns=['Id']), \n",
        "                        pd.DataFrame(np.array(preds_all).mean(axis=0), columns = [f'Prediction{i}' for i in range(1, 10)]) ], axis=1)"
      ],
      "id": "fG4muAgzT6H0",
      "execution_count": null,
      "outputs": []
    },
    {
      "cell_type": "code",
      "metadata": {
        "id": "QrqsUfxFT9p9"
      },
      "source": [
        "submission.to_csv('submission.csv', index = False)"
      ],
      "id": "QrqsUfxFT9p9",
      "execution_count": null,
      "outputs": []
    },
    {
      "cell_type": "code",
      "metadata": {
        "id": "xHy8JfzcT_6D",
        "colab": {
          "base_uri": "https://localhost:8080/",
          "height": 488
        },
        "outputId": "73d277af-9c97-4dfb-fb8e-aff6092cf02b"
      },
      "source": [
        "submission"
      ],
      "id": "xHy8JfzcT_6D",
      "execution_count": null,
      "outputs": [
        {
          "output_type": "execute_result",
          "data": {
            "text/html": [
              "\n",
              "  <div id=\"df-9810fd9c-58df-407e-94c1-da03179be3b9\">\n",
              "    <div class=\"colab-df-container\">\n",
              "      <div>\n",
              "<style scoped>\n",
              "    .dataframe tbody tr th:only-of-type {\n",
              "        vertical-align: middle;\n",
              "    }\n",
              "\n",
              "    .dataframe tbody tr th {\n",
              "        vertical-align: top;\n",
              "    }\n",
              "\n",
              "    .dataframe thead th {\n",
              "        text-align: right;\n",
              "    }\n",
              "</style>\n",
              "<table border=\"1\" class=\"dataframe\">\n",
              "  <thead>\n",
              "    <tr style=\"text-align: right;\">\n",
              "      <th></th>\n",
              "      <th>Id</th>\n",
              "      <th>Prediction1</th>\n",
              "      <th>Prediction2</th>\n",
              "      <th>Prediction3</th>\n",
              "      <th>Prediction4</th>\n",
              "      <th>Prediction5</th>\n",
              "      <th>Prediction6</th>\n",
              "      <th>Prediction7</th>\n",
              "      <th>Prediction8</th>\n",
              "      <th>Prediction9</th>\n",
              "    </tr>\n",
              "  </thead>\n",
              "  <tbody>\n",
              "    <tr>\n",
              "      <th>0</th>\n",
              "      <td>vQEo6UfqW8LkBR7dPVSH</td>\n",
              "      <td>0.000297</td>\n",
              "      <td>0.899238</td>\n",
              "      <td>0.000021</td>\n",
              "      <td>0.000032</td>\n",
              "      <td>0.000018</td>\n",
              "      <td>0.000085</td>\n",
              "      <td>0.000023</td>\n",
              "      <td>0.000255</td>\n",
              "      <td>0.000032</td>\n",
              "    </tr>\n",
              "    <tr>\n",
              "      <th>1</th>\n",
              "      <td>NmM80oCvG2YwfAWxD1tX</td>\n",
              "      <td>0.000071</td>\n",
              "      <td>0.000012</td>\n",
              "      <td>0.899752</td>\n",
              "      <td>0.000011</td>\n",
              "      <td>0.000006</td>\n",
              "      <td>0.000045</td>\n",
              "      <td>0.000021</td>\n",
              "      <td>0.000033</td>\n",
              "      <td>0.000050</td>\n",
              "    </tr>\n",
              "    <tr>\n",
              "      <th>2</th>\n",
              "      <td>ln4EbVcwjKuxtJdQpzP2</td>\n",
              "      <td>0.000078</td>\n",
              "      <td>0.899368</td>\n",
              "      <td>0.000029</td>\n",
              "      <td>0.000020</td>\n",
              "      <td>0.000041</td>\n",
              "      <td>0.000067</td>\n",
              "      <td>0.000021</td>\n",
              "      <td>0.000338</td>\n",
              "      <td>0.000037</td>\n",
              "    </tr>\n",
              "    <tr>\n",
              "      <th>3</th>\n",
              "      <td>OcEtJYaxhQkHzLGweIf5</td>\n",
              "      <td>0.011486</td>\n",
              "      <td>0.000188</td>\n",
              "      <td>0.040309</td>\n",
              "      <td>0.000042</td>\n",
              "      <td>0.000023</td>\n",
              "      <td>0.000371</td>\n",
              "      <td>0.847359</td>\n",
              "      <td>0.000175</td>\n",
              "      <td>0.000047</td>\n",
              "    </tr>\n",
              "    <tr>\n",
              "      <th>4</th>\n",
              "      <td>xRqDSKGQMzsY41nwL0Zj</td>\n",
              "      <td>0.000108</td>\n",
              "      <td>0.008713</td>\n",
              "      <td>0.000029</td>\n",
              "      <td>0.001395</td>\n",
              "      <td>0.000053</td>\n",
              "      <td>0.887757</td>\n",
              "      <td>0.000023</td>\n",
              "      <td>0.001814</td>\n",
              "      <td>0.000108</td>\n",
              "    </tr>\n",
              "    <tr>\n",
              "      <th>...</th>\n",
              "      <td>...</td>\n",
              "      <td>...</td>\n",
              "      <td>...</td>\n",
              "      <td>...</td>\n",
              "      <td>...</td>\n",
              "      <td>...</td>\n",
              "      <td>...</td>\n",
              "      <td>...</td>\n",
              "      <td>...</td>\n",
              "      <td>...</td>\n",
              "    </tr>\n",
              "    <tr>\n",
              "      <th>10868</th>\n",
              "      <td>P8cJR2rmtQsyogSW1wHx</td>\n",
              "      <td>0.000042</td>\n",
              "      <td>0.899837</td>\n",
              "      <td>0.000014</td>\n",
              "      <td>0.000008</td>\n",
              "      <td>0.000010</td>\n",
              "      <td>0.000022</td>\n",
              "      <td>0.000008</td>\n",
              "      <td>0.000041</td>\n",
              "      <td>0.000018</td>\n",
              "    </tr>\n",
              "    <tr>\n",
              "      <th>10869</th>\n",
              "      <td>WUdBzo0byj7ATkrpLVZD</td>\n",
              "      <td>0.000088</td>\n",
              "      <td>0.000014</td>\n",
              "      <td>0.899690</td>\n",
              "      <td>0.000011</td>\n",
              "      <td>0.000006</td>\n",
              "      <td>0.000047</td>\n",
              "      <td>0.000017</td>\n",
              "      <td>0.000039</td>\n",
              "      <td>0.000088</td>\n",
              "    </tr>\n",
              "    <tr>\n",
              "      <th>10870</th>\n",
              "      <td>PAmjTYxOJna9FUIlH2uX</td>\n",
              "      <td>0.000285</td>\n",
              "      <td>0.000019</td>\n",
              "      <td>0.899422</td>\n",
              "      <td>0.000019</td>\n",
              "      <td>0.000009</td>\n",
              "      <td>0.000087</td>\n",
              "      <td>0.000062</td>\n",
              "      <td>0.000055</td>\n",
              "      <td>0.000042</td>\n",
              "    </tr>\n",
              "    <tr>\n",
              "      <th>10871</th>\n",
              "      <td>M5a2VdnysxZf03jpvlqP</td>\n",
              "      <td>0.000103</td>\n",
              "      <td>0.000014</td>\n",
              "      <td>0.899685</td>\n",
              "      <td>0.000012</td>\n",
              "      <td>0.000007</td>\n",
              "      <td>0.000057</td>\n",
              "      <td>0.000019</td>\n",
              "      <td>0.000044</td>\n",
              "      <td>0.000060</td>\n",
              "    </tr>\n",
              "    <tr>\n",
              "      <th>10872</th>\n",
              "      <td>yXt8LmRVEOec5jIg6PGo</td>\n",
              "      <td>0.000114</td>\n",
              "      <td>0.000166</td>\n",
              "      <td>0.000031</td>\n",
              "      <td>0.000040</td>\n",
              "      <td>0.000023</td>\n",
              "      <td>0.000173</td>\n",
              "      <td>0.000034</td>\n",
              "      <td>0.899347</td>\n",
              "      <td>0.000072</td>\n",
              "    </tr>\n",
              "  </tbody>\n",
              "</table>\n",
              "<p>10873 rows × 10 columns</p>\n",
              "</div>\n",
              "      <button class=\"colab-df-convert\" onclick=\"convertToInteractive('df-9810fd9c-58df-407e-94c1-da03179be3b9')\"\n",
              "              title=\"Convert this dataframe to an interactive table.\"\n",
              "              style=\"display:none;\">\n",
              "        \n",
              "  <svg xmlns=\"http://www.w3.org/2000/svg\" height=\"24px\"viewBox=\"0 0 24 24\"\n",
              "       width=\"24px\">\n",
              "    <path d=\"M0 0h24v24H0V0z\" fill=\"none\"/>\n",
              "    <path d=\"M18.56 5.44l.94 2.06.94-2.06 2.06-.94-2.06-.94-.94-2.06-.94 2.06-2.06.94zm-11 1L8.5 8.5l.94-2.06 2.06-.94-2.06-.94L8.5 2.5l-.94 2.06-2.06.94zm10 10l.94 2.06.94-2.06 2.06-.94-2.06-.94-.94-2.06-.94 2.06-2.06.94z\"/><path d=\"M17.41 7.96l-1.37-1.37c-.4-.4-.92-.59-1.43-.59-.52 0-1.04.2-1.43.59L10.3 9.45l-7.72 7.72c-.78.78-.78 2.05 0 2.83L4 21.41c.39.39.9.59 1.41.59.51 0 1.02-.2 1.41-.59l7.78-7.78 2.81-2.81c.8-.78.8-2.07 0-2.86zM5.41 20L4 18.59l7.72-7.72 1.47 1.35L5.41 20z\"/>\n",
              "  </svg>\n",
              "      </button>\n",
              "      \n",
              "  <style>\n",
              "    .colab-df-container {\n",
              "      display:flex;\n",
              "      flex-wrap:wrap;\n",
              "      gap: 12px;\n",
              "    }\n",
              "\n",
              "    .colab-df-convert {\n",
              "      background-color: #E8F0FE;\n",
              "      border: none;\n",
              "      border-radius: 50%;\n",
              "      cursor: pointer;\n",
              "      display: none;\n",
              "      fill: #1967D2;\n",
              "      height: 32px;\n",
              "      padding: 0 0 0 0;\n",
              "      width: 32px;\n",
              "    }\n",
              "\n",
              "    .colab-df-convert:hover {\n",
              "      background-color: #E2EBFA;\n",
              "      box-shadow: 0px 1px 2px rgba(60, 64, 67, 0.3), 0px 1px 3px 1px rgba(60, 64, 67, 0.15);\n",
              "      fill: #174EA6;\n",
              "    }\n",
              "\n",
              "    [theme=dark] .colab-df-convert {\n",
              "      background-color: #3B4455;\n",
              "      fill: #D2E3FC;\n",
              "    }\n",
              "\n",
              "    [theme=dark] .colab-df-convert:hover {\n",
              "      background-color: #434B5C;\n",
              "      box-shadow: 0px 1px 3px 1px rgba(0, 0, 0, 0.15);\n",
              "      filter: drop-shadow(0px 1px 2px rgba(0, 0, 0, 0.3));\n",
              "      fill: #FFFFFF;\n",
              "    }\n",
              "  </style>\n",
              "\n",
              "      <script>\n",
              "        const buttonEl =\n",
              "          document.querySelector('#df-9810fd9c-58df-407e-94c1-da03179be3b9 button.colab-df-convert');\n",
              "        buttonEl.style.display =\n",
              "          google.colab.kernel.accessAllowed ? 'block' : 'none';\n",
              "\n",
              "        async function convertToInteractive(key) {\n",
              "          const element = document.querySelector('#df-9810fd9c-58df-407e-94c1-da03179be3b9');\n",
              "          const dataTable =\n",
              "            await google.colab.kernel.invokeFunction('convertToInteractive',\n",
              "                                                     [key], {});\n",
              "          if (!dataTable) return;\n",
              "\n",
              "          const docLinkHtml = 'Like what you see? Visit the ' +\n",
              "            '<a target=\"_blank\" href=https://colab.research.google.com/notebooks/data_table.ipynb>data table notebook</a>'\n",
              "            + ' to learn more about interactive tables.';\n",
              "          element.innerHTML = '';\n",
              "          dataTable['output_type'] = 'display_data';\n",
              "          await google.colab.output.renderOutput(dataTable, element);\n",
              "          const docLink = document.createElement('div');\n",
              "          docLink.innerHTML = docLinkHtml;\n",
              "          element.appendChild(docLink);\n",
              "        }\n",
              "      </script>\n",
              "    </div>\n",
              "  </div>\n",
              "  "
            ],
            "text/plain": [
              "                         Id  Prediction1  ...  Prediction8  Prediction9\n",
              "0      vQEo6UfqW8LkBR7dPVSH     0.000297  ...     0.000255     0.000032\n",
              "1      NmM80oCvG2YwfAWxD1tX     0.000071  ...     0.000033     0.000050\n",
              "2      ln4EbVcwjKuxtJdQpzP2     0.000078  ...     0.000338     0.000037\n",
              "3      OcEtJYaxhQkHzLGweIf5     0.011486  ...     0.000175     0.000047\n",
              "4      xRqDSKGQMzsY41nwL0Zj     0.000108  ...     0.001814     0.000108\n",
              "...                     ...          ...  ...          ...          ...\n",
              "10868  P8cJR2rmtQsyogSW1wHx     0.000042  ...     0.000041     0.000018\n",
              "10869  WUdBzo0byj7ATkrpLVZD     0.000088  ...     0.000039     0.000088\n",
              "10870  PAmjTYxOJna9FUIlH2uX     0.000285  ...     0.000055     0.000042\n",
              "10871  M5a2VdnysxZf03jpvlqP     0.000103  ...     0.000044     0.000060\n",
              "10872  yXt8LmRVEOec5jIg6PGo     0.000114  ...     0.899347     0.000072\n",
              "\n",
              "[10873 rows x 10 columns]"
            ]
          },
          "metadata": {},
          "execution_count": 59
        }
      ]
    },
    {
      "cell_type": "code",
      "source": [],
      "metadata": {
        "id": "XBBUk5gGwfoy"
      },
      "id": "XBBUk5gGwfoy",
      "execution_count": null,
      "outputs": []
    }
  ]
}